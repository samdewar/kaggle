{
 "cells": [
  {
   "cell_type": "code",
   "execution_count": 1,
   "id": "7804ffd4",
   "metadata": {
    "_cell_guid": "753b3f48-d19c-437b-93f0-9c45e9f2c990",
    "_uuid": "5dbc081c-85a1-42f8-8b24-bd5ba2cc73f4",
    "collapsed": false,
    "execution": {
     "iopub.execute_input": "2025-10-11T13:24:01.613026Z",
     "iopub.status.busy": "2025-10-11T13:24:01.612831Z",
     "iopub.status.idle": "2025-10-11T13:24:17.897338Z",
     "shell.execute_reply": "2025-10-11T13:24:17.896549Z"
    },
    "jupyter": {
     "outputs_hidden": false
    },
    "papermill": {
     "duration": 16.289955,
     "end_time": "2025-10-11T13:24:17.898717",
     "exception": false,
     "start_time": "2025-10-11T13:24:01.608762",
     "status": "completed"
    },
    "tags": []
   },
   "outputs": [
    {
     "name": "stderr",
     "output_type": "stream",
     "text": [
      "2025-10-11 13:24:04.385773: E external/local_xla/xla/stream_executor/cuda/cuda_fft.cc:477] Unable to register cuFFT factory: Attempting to register factory for plugin cuFFT when one has already been registered\n",
      "WARNING: All log messages before absl::InitializeLog() is called are written to STDERR\n",
      "E0000 00:00:1760189044.562823      18 cuda_dnn.cc:8310] Unable to register cuDNN factory: Attempting to register factory for plugin cuDNN when one has already been registered\n",
      "E0000 00:00:1760189044.614869      18 cuda_blas.cc:1418] Unable to register cuBLAS factory: Attempting to register factory for plugin cuBLAS when one has already been registered\n"
     ]
    },
    {
     "data": {
      "text/html": [
       "\n",
       "<p style=\"margin:0px;\">🌲 Try <a href=\"https://ydf.readthedocs.io/en/latest/\" target=\"_blank\">YDF</a>, the successor of\n",
       "    <a href=\"https://www.tensorflow.org/decision_forests\" target=\"_blank\">TensorFlow\n",
       "        Decision Forests</a> using the same algorithms but with more features and faster\n",
       "    training!\n",
       "</p>\n",
       "<div style=\"display: flex; flex-wrap: wrap; margin:5px;max-width: 880px;\">\n",
       "    <div style=\"flex: 1; border-radius: 10px; background-color: F0F0F0; padding: 5px;\">\n",
       "        <p\n",
       "            style=\"font-weight: bold; margin:0px;text-align: center;border-bottom: 1px solid #C0C0C0;margin-bottom: 4px;\">\n",
       "            Old code</p>\n",
       "        <pre style=\"overflow-wrap: anywhere; overflow: auto; margin:0px;font-size: 9pt;\">\n",
       "import tensorflow_decision_forests as tfdf\n",
       "\n",
       "tf_ds = tfdf.keras.pd_dataframe_to_tf_dataset(ds, label=\"l\")\n",
       "model = tfdf.keras.RandomForestModel(label=\"l\")\n",
       "model.fit(tf_ds)\n",
       "</pre>\n",
       "    </div>\n",
       "    <div style=\"width: 5px;\"></div>\n",
       "    <div style=\"flex: 1; border-radius: 10px; background-color: F0F0F0; padding: 5px;\">\n",
       "        <p\n",
       "            style=\"font-weight: bold; margin:0px;text-align: center;border-bottom: 1px solid #C0C0C0;margin-bottom: 4px;\">\n",
       "            New code</p>\n",
       "        <pre style=\"overflow-wrap: anywhere; overflow: auto; margin:0px;font-size: 9pt;\">\n",
       "import ydf\n",
       "\n",
       "model = ydf.RandomForestLearner(label=\"l\").train(ds)\n",
       "</pre>\n",
       "    </div>\n",
       "</div>\n",
       "<p style=\"margin:0px;font-size: 9pt;\">(Learn more in the <a\n",
       "        href=\"https://ydf.readthedocs.io/en/latest/tutorial/migrating_to_ydf/\" target=\"_blank\">migration\n",
       "        guide</a>)</p>\n"
      ],
      "text/plain": [
       "<IPython.core.display.HTML object>"
      ]
     },
     "metadata": {},
     "output_type": "display_data"
    },
    {
     "name": "stdout",
     "output_type": "stream",
     "text": [
      "GPUs found: [PhysicalDevice(name='/physical_device:GPU:0', device_type='GPU'), PhysicalDevice(name='/physical_device:GPU:1', device_type='GPU')]\n"
     ]
    }
   ],
   "source": [
    "import numpy as np\n",
    "import pandas as pd\n",
    "import os\n",
    "import tensorflow as tf\n",
    "# import ydf\n",
    "import tensorflow_decision_forests as tfdf\n",
    "\n",
    "gpus = tf.config.list_physical_devices('GPU')\n",
    "if gpus:\n",
    "    print(f\"GPUs found: {gpus}\")\n",
    "else:\n",
    "    print(\"No GPUs found.\")"
   ]
  },
  {
   "cell_type": "code",
   "execution_count": 2,
   "id": "471044fc",
   "metadata": {
    "_cell_guid": "3d8831fb-28d1-4e49-bd5e-3448a7cb9151",
    "_uuid": "a4c6747c-6bee-4aaf-a1b2-98e77e8487f2",
    "collapsed": false,
    "execution": {
     "iopub.execute_input": "2025-10-11T13:24:17.906360Z",
     "iopub.status.busy": "2025-10-11T13:24:17.905649Z",
     "iopub.status.idle": "2025-10-11T13:24:17.971255Z",
     "shell.execute_reply": "2025-10-11T13:24:17.970522Z"
    },
    "jupyter": {
     "outputs_hidden": false
    },
    "papermill": {
     "duration": 0.070222,
     "end_time": "2025-10-11T13:24:17.972328",
     "exception": false,
     "start_time": "2025-10-11T13:24:17.902106",
     "status": "completed"
    },
    "tags": []
   },
   "outputs": [],
   "source": [
    "train_df=pd.read_csv('/kaggle/input/spaceship-titanic/train.csv')\n",
    "test_df=pd.read_csv('/kaggle/input/spaceship-titanic/test.csv')"
   ]
  },
  {
   "cell_type": "code",
   "execution_count": 3,
   "id": "74656342",
   "metadata": {
    "_cell_guid": "e9c6f5c9-f91b-462a-bcaa-cd64cd1c50cf",
    "_uuid": "ec9b38a6-7373-4a0a-9768-7d7602a9b4e9",
    "collapsed": false,
    "execution": {
     "iopub.execute_input": "2025-10-11T13:24:17.979583Z",
     "iopub.status.busy": "2025-10-11T13:24:17.978917Z",
     "iopub.status.idle": "2025-10-11T13:24:22.290753Z",
     "shell.execute_reply": "2025-10-11T13:24:22.289885Z"
    },
    "jupyter": {
     "outputs_hidden": false
    },
    "papermill": {
     "duration": 4.316875,
     "end_time": "2025-10-11T13:24:22.292104",
     "exception": false,
     "start_time": "2025-10-11T13:24:17.975229",
     "status": "completed"
    },
    "tags": []
   },
   "outputs": [],
   "source": [
    "# preprocess?\n",
    "def preprocess(df):\n",
    "    # def cryoSleep_integer(x):\n",
    "    #     return x.astype(int)\n",
    "    # df=df.dropna()\n",
    "    def normalize_name(x):\n",
    "        x=str(x)\n",
    "        return \" \".join([v.strip(\",()[].\\\"'\") for v in x.split(\" \")])\n",
    "    def split_passenger_id(row):\n",
    "        if pd.isna(row['PassengerId']):\n",
    "            return pd.Series([None, None, None])\n",
    "        arr=row['PassengerId'].split('_')\n",
    "        if len(arr) < 2:\n",
    "            arr += [None] * (3 - len(arr))\n",
    "        \n",
    "        return pd.Series(arr)\n",
    "    def split_cabin(row):\n",
    "        if pd.isna(row['Cabin']):\n",
    "            return pd.Series([None, None, None])  # Handle None case\n",
    "        arr = row['Cabin'].split('/')\n",
    "        # Ensure arr has exactly 3 elements\n",
    "        if len(arr) < 3:\n",
    "            arr += [None] * (3 - len(arr))  # Pad with None\n",
    "        return pd.Series(arr)\n",
    "    def total_spent(row):\n",
    "        return pd.Series(row['RoomService']+row['FoodCourt']+row['ShoppingMall']+row['Spa']+row['VRDeck'])\n",
    "        \n",
    "\n",
    "    # Apply the function and create new columns\n",
    "    df.fillna({\n",
    "    'RoomService': df['RoomService'].median(),\n",
    "    'FoodCourt': df['FoodCourt'].median(),\n",
    "    'ShoppingMall':df['ShoppingMall'].median(),\n",
    "    'Spa':df['Spa'].median(),\n",
    "    'VRDeck':df['VRDeck'].median(),\n",
    "    # 'Deck':df['Deck'].median()\n",
    "    }, inplace=True)\n",
    "    df['Total_Spent']=df.apply(total_spent,axis=1)\n",
    "    df[\"Name\"] = df[\"Name\"].apply(normalize_name)\n",
    "    df[['Deck', 'Num', 'Side']] = df.apply(split_cabin, axis=1)\n",
    "    df[['Group','Place_In_Group']]=df.apply(split_passenger_id,axis=1)\n",
    "    df['CryoSleep'] = df['CryoSleep'].apply(lambda x: float(x))\n",
    "    df=df.fillna({'CryoSleep':df['CryoSleep'].mean()})\n",
    "    df['VIP'] = df['VIP'].apply(lambda x: float(x))\n",
    "\n",
    "        \n",
    "    # keep PassengerId and one-hot encode HomePlanet & Destination\n",
    "    id_col = df['PassengerId']                     # actual column values\n",
    "    dums = pd.get_dummies(df[['HomePlanet','Destination']], dummy_na=False)\n",
    "    \n",
    "    # drop the original encoded columns, then concat PassengerId + dummies + remaining columns\n",
    "    remaining = df.drop(columns=['HomePlanet','Destination','PassengerId'])\n",
    "    df = pd.concat([id_col.reset_index(drop=True), remaining.reset_index(drop=True), dums.reset_index(drop=True)], axis=1)\n",
    "    \n",
    "    # convert boolean columns to 0/1\n",
    "    bool_cols = df.select_dtypes(include='bool').columns\n",
    "    df[bool_cols] = df[bool_cols].astype(int)\n",
    "    \n",
    "    return df\n",
    "    \n",
    "train_df=preprocess(train_df)\n",
    "test_df=preprocess(test_df)"
   ]
  },
  {
   "cell_type": "code",
   "execution_count": 4,
   "id": "680f8c23",
   "metadata": {
    "_cell_guid": "f671a79c-8670-40e1-bac2-48e61b85f063",
    "_uuid": "76dbe691-c1b4-4226-ad18-cf9a1600833b",
    "collapsed": false,
    "execution": {
     "iopub.execute_input": "2025-10-11T13:24:22.299373Z",
     "iopub.status.busy": "2025-10-11T13:24:22.298919Z",
     "iopub.status.idle": "2025-10-11T13:24:22.316877Z",
     "shell.execute_reply": "2025-10-11T13:24:22.316044Z"
    },
    "jupyter": {
     "outputs_hidden": false
    },
    "papermill": {
     "duration": 0.022703,
     "end_time": "2025-10-11T13:24:22.317999",
     "exception": false,
     "start_time": "2025-10-11T13:24:22.295296",
     "status": "completed"
    },
    "tags": []
   },
   "outputs": [
    {
     "name": "stdout",
     "output_type": "stream",
     "text": [
      "<class 'pandas.core.frame.DataFrame'>\n",
      "RangeIndex: 8693 entries, 0 to 8692\n",
      "Data columns (total 24 columns):\n",
      " #   Column                     Non-Null Count  Dtype  \n",
      "---  ------                     --------------  -----  \n",
      " 0   PassengerId                8693 non-null   object \n",
      " 1   CryoSleep                  8693 non-null   float64\n",
      " 2   Cabin                      8494 non-null   object \n",
      " 3   Age                        8514 non-null   float64\n",
      " 4   VIP                        8490 non-null   float64\n",
      " 5   RoomService                8693 non-null   float64\n",
      " 6   FoodCourt                  8693 non-null   float64\n",
      " 7   ShoppingMall               8693 non-null   float64\n",
      " 8   Spa                        8693 non-null   float64\n",
      " 9   VRDeck                     8693 non-null   float64\n",
      " 10  Name                       8693 non-null   object \n",
      " 11  Transported                8693 non-null   int64  \n",
      " 12  Total_Spent                8693 non-null   float64\n",
      " 13  Deck                       8494 non-null   object \n",
      " 14  Num                        8494 non-null   object \n",
      " 15  Side                       8494 non-null   object \n",
      " 16  Group                      8693 non-null   object \n",
      " 17  Place_In_Group             8693 non-null   object \n",
      " 18  HomePlanet_Earth           8693 non-null   int64  \n",
      " 19  HomePlanet_Europa          8693 non-null   int64  \n",
      " 20  HomePlanet_Mars            8693 non-null   int64  \n",
      " 21  Destination_55 Cancri e    8693 non-null   int64  \n",
      " 22  Destination_PSO J318.5-22  8693 non-null   int64  \n",
      " 23  Destination_TRAPPIST-1e    8693 non-null   int64  \n",
      "dtypes: float64(9), int64(7), object(8)\n",
      "memory usage: 1.6+ MB\n"
     ]
    }
   ],
   "source": [
    "train_df.info()"
   ]
  },
  {
   "cell_type": "code",
   "execution_count": 5,
   "id": "992dd598",
   "metadata": {
    "execution": {
     "iopub.execute_input": "2025-10-11T13:24:22.325126Z",
     "iopub.status.busy": "2025-10-11T13:24:22.324923Z",
     "iopub.status.idle": "2025-10-11T13:24:22.330674Z",
     "shell.execute_reply": "2025-10-11T13:24:22.329944Z"
    },
    "papermill": {
     "duration": 0.010617,
     "end_time": "2025-10-11T13:24:22.331824",
     "exception": false,
     "start_time": "2025-10-11T13:24:22.321207",
     "status": "completed"
    },
    "tags": []
   },
   "outputs": [
    {
     "data": {
      "text/plain": [
       "0       B\n",
       "1       F\n",
       "2       A\n",
       "3       A\n",
       "4       F\n",
       "       ..\n",
       "8688    A\n",
       "8689    G\n",
       "8690    G\n",
       "8691    E\n",
       "8692    E\n",
       "Name: Deck, Length: 8693, dtype: object"
      ]
     },
     "execution_count": 5,
     "metadata": {},
     "output_type": "execute_result"
    }
   ],
   "source": [
    "train_df['Deck']"
   ]
  },
  {
   "cell_type": "code",
   "execution_count": 6,
   "id": "651a9e8f",
   "metadata": {
    "_cell_guid": "ceffa0c9-2fba-4370-b88e-80d252c3512f",
    "_uuid": "3be2c2f1-376d-4abf-8412-8ce04a39d01b",
    "collapsed": false,
    "execution": {
     "iopub.execute_input": "2025-10-11T13:24:22.338718Z",
     "iopub.status.busy": "2025-10-11T13:24:22.338294Z",
     "iopub.status.idle": "2025-10-11T13:24:22.361524Z",
     "shell.execute_reply": "2025-10-11T13:24:22.360900Z"
    },
    "jupyter": {
     "outputs_hidden": false
    },
    "papermill": {
     "duration": 0.027788,
     "end_time": "2025-10-11T13:24:22.362623",
     "exception": false,
     "start_time": "2025-10-11T13:24:22.334835",
     "status": "completed"
    },
    "tags": []
   },
   "outputs": [
    {
     "data": {
      "text/html": [
       "<div>\n",
       "<style scoped>\n",
       "    .dataframe tbody tr th:only-of-type {\n",
       "        vertical-align: middle;\n",
       "    }\n",
       "\n",
       "    .dataframe tbody tr th {\n",
       "        vertical-align: top;\n",
       "    }\n",
       "\n",
       "    .dataframe thead th {\n",
       "        text-align: right;\n",
       "    }\n",
       "</style>\n",
       "<table border=\"1\" class=\"dataframe\">\n",
       "  <thead>\n",
       "    <tr style=\"text-align: right;\">\n",
       "      <th></th>\n",
       "      <th>PassengerId</th>\n",
       "      <th>CryoSleep</th>\n",
       "      <th>Cabin</th>\n",
       "      <th>Age</th>\n",
       "      <th>VIP</th>\n",
       "      <th>RoomService</th>\n",
       "      <th>FoodCourt</th>\n",
       "      <th>ShoppingMall</th>\n",
       "      <th>Spa</th>\n",
       "      <th>VRDeck</th>\n",
       "      <th>...</th>\n",
       "      <th>Num</th>\n",
       "      <th>Side</th>\n",
       "      <th>Group</th>\n",
       "      <th>Place_In_Group</th>\n",
       "      <th>HomePlanet_Earth</th>\n",
       "      <th>HomePlanet_Europa</th>\n",
       "      <th>HomePlanet_Mars</th>\n",
       "      <th>Destination_55 Cancri e</th>\n",
       "      <th>Destination_PSO J318.5-22</th>\n",
       "      <th>Destination_TRAPPIST-1e</th>\n",
       "    </tr>\n",
       "  </thead>\n",
       "  <tbody>\n",
       "    <tr>\n",
       "      <th>0</th>\n",
       "      <td>0001_01</td>\n",
       "      <td>0.0</td>\n",
       "      <td>B/0/P</td>\n",
       "      <td>39.0</td>\n",
       "      <td>0.0</td>\n",
       "      <td>0.0</td>\n",
       "      <td>0.0</td>\n",
       "      <td>0.0</td>\n",
       "      <td>0.0</td>\n",
       "      <td>0.0</td>\n",
       "      <td>...</td>\n",
       "      <td>0</td>\n",
       "      <td>P</td>\n",
       "      <td>0001</td>\n",
       "      <td>01</td>\n",
       "      <td>0</td>\n",
       "      <td>1</td>\n",
       "      <td>0</td>\n",
       "      <td>0</td>\n",
       "      <td>0</td>\n",
       "      <td>1</td>\n",
       "    </tr>\n",
       "    <tr>\n",
       "      <th>1</th>\n",
       "      <td>0002_01</td>\n",
       "      <td>0.0</td>\n",
       "      <td>F/0/S</td>\n",
       "      <td>24.0</td>\n",
       "      <td>0.0</td>\n",
       "      <td>109.0</td>\n",
       "      <td>9.0</td>\n",
       "      <td>25.0</td>\n",
       "      <td>549.0</td>\n",
       "      <td>44.0</td>\n",
       "      <td>...</td>\n",
       "      <td>0</td>\n",
       "      <td>S</td>\n",
       "      <td>0002</td>\n",
       "      <td>01</td>\n",
       "      <td>1</td>\n",
       "      <td>0</td>\n",
       "      <td>0</td>\n",
       "      <td>0</td>\n",
       "      <td>0</td>\n",
       "      <td>1</td>\n",
       "    </tr>\n",
       "    <tr>\n",
       "      <th>2</th>\n",
       "      <td>0003_01</td>\n",
       "      <td>0.0</td>\n",
       "      <td>A/0/S</td>\n",
       "      <td>58.0</td>\n",
       "      <td>1.0</td>\n",
       "      <td>43.0</td>\n",
       "      <td>3576.0</td>\n",
       "      <td>0.0</td>\n",
       "      <td>6715.0</td>\n",
       "      <td>49.0</td>\n",
       "      <td>...</td>\n",
       "      <td>0</td>\n",
       "      <td>S</td>\n",
       "      <td>0003</td>\n",
       "      <td>01</td>\n",
       "      <td>0</td>\n",
       "      <td>1</td>\n",
       "      <td>0</td>\n",
       "      <td>0</td>\n",
       "      <td>0</td>\n",
       "      <td>1</td>\n",
       "    </tr>\n",
       "    <tr>\n",
       "      <th>3</th>\n",
       "      <td>0003_02</td>\n",
       "      <td>0.0</td>\n",
       "      <td>A/0/S</td>\n",
       "      <td>33.0</td>\n",
       "      <td>0.0</td>\n",
       "      <td>0.0</td>\n",
       "      <td>1283.0</td>\n",
       "      <td>371.0</td>\n",
       "      <td>3329.0</td>\n",
       "      <td>193.0</td>\n",
       "      <td>...</td>\n",
       "      <td>0</td>\n",
       "      <td>S</td>\n",
       "      <td>0003</td>\n",
       "      <td>02</td>\n",
       "      <td>0</td>\n",
       "      <td>1</td>\n",
       "      <td>0</td>\n",
       "      <td>0</td>\n",
       "      <td>0</td>\n",
       "      <td>1</td>\n",
       "    </tr>\n",
       "    <tr>\n",
       "      <th>4</th>\n",
       "      <td>0004_01</td>\n",
       "      <td>0.0</td>\n",
       "      <td>F/1/S</td>\n",
       "      <td>16.0</td>\n",
       "      <td>0.0</td>\n",
       "      <td>303.0</td>\n",
       "      <td>70.0</td>\n",
       "      <td>151.0</td>\n",
       "      <td>565.0</td>\n",
       "      <td>2.0</td>\n",
       "      <td>...</td>\n",
       "      <td>1</td>\n",
       "      <td>S</td>\n",
       "      <td>0004</td>\n",
       "      <td>01</td>\n",
       "      <td>1</td>\n",
       "      <td>0</td>\n",
       "      <td>0</td>\n",
       "      <td>0</td>\n",
       "      <td>0</td>\n",
       "      <td>1</td>\n",
       "    </tr>\n",
       "  </tbody>\n",
       "</table>\n",
       "<p>5 rows × 24 columns</p>\n",
       "</div>"
      ],
      "text/plain": [
       "  PassengerId  CryoSleep  Cabin   Age  VIP  RoomService  FoodCourt  \\\n",
       "0     0001_01        0.0  B/0/P  39.0  0.0          0.0        0.0   \n",
       "1     0002_01        0.0  F/0/S  24.0  0.0        109.0        9.0   \n",
       "2     0003_01        0.0  A/0/S  58.0  1.0         43.0     3576.0   \n",
       "3     0003_02        0.0  A/0/S  33.0  0.0          0.0     1283.0   \n",
       "4     0004_01        0.0  F/1/S  16.0  0.0        303.0       70.0   \n",
       "\n",
       "   ShoppingMall     Spa  VRDeck  ... Num  Side  Group Place_In_Group  \\\n",
       "0           0.0     0.0     0.0  ...   0     P   0001             01   \n",
       "1          25.0   549.0    44.0  ...   0     S   0002             01   \n",
       "2           0.0  6715.0    49.0  ...   0     S   0003             01   \n",
       "3         371.0  3329.0   193.0  ...   0     S   0003             02   \n",
       "4         151.0   565.0     2.0  ...   1     S   0004             01   \n",
       "\n",
       "  HomePlanet_Earth HomePlanet_Europa HomePlanet_Mars Destination_55 Cancri e  \\\n",
       "0                0                 1               0                       0   \n",
       "1                1                 0               0                       0   \n",
       "2                0                 1               0                       0   \n",
       "3                0                 1               0                       0   \n",
       "4                1                 0               0                       0   \n",
       "\n",
       "   Destination_PSO J318.5-22  Destination_TRAPPIST-1e  \n",
       "0                          0                        1  \n",
       "1                          0                        1  \n",
       "2                          0                        1  \n",
       "3                          0                        1  \n",
       "4                          0                        1  \n",
       "\n",
       "[5 rows x 24 columns]"
      ]
     },
     "execution_count": 6,
     "metadata": {},
     "output_type": "execute_result"
    }
   ],
   "source": [
    "train_df.head(5)"
   ]
  },
  {
   "cell_type": "code",
   "execution_count": 7,
   "id": "fae4178a",
   "metadata": {
    "execution": {
     "iopub.execute_input": "2025-10-11T13:24:22.369889Z",
     "iopub.status.busy": "2025-10-11T13:24:22.369441Z",
     "iopub.status.idle": "2025-10-11T13:24:22.372208Z",
     "shell.execute_reply": "2025-10-11T13:24:22.371694Z"
    },
    "papermill": {
     "duration": 0.007267,
     "end_time": "2025-10-11T13:24:22.373140",
     "exception": false,
     "start_time": "2025-10-11T13:24:22.365873",
     "status": "completed"
    },
    "tags": []
   },
   "outputs": [],
   "source": [
    "\n",
    "# train_df[bool_cols].fillna()"
   ]
  },
  {
   "cell_type": "code",
   "execution_count": 8,
   "id": "c33dae55",
   "metadata": {
    "execution": {
     "iopub.execute_input": "2025-10-11T13:24:22.380178Z",
     "iopub.status.busy": "2025-10-11T13:24:22.380007Z",
     "iopub.status.idle": "2025-10-11T13:24:22.401226Z",
     "shell.execute_reply": "2025-10-11T13:24:22.400635Z"
    },
    "papermill": {
     "duration": 0.025884,
     "end_time": "2025-10-11T13:24:22.402238",
     "exception": false,
     "start_time": "2025-10-11T13:24:22.376354",
     "status": "completed"
    },
    "tags": []
   },
   "outputs": [
    {
     "data": {
      "text/html": [
       "<div>\n",
       "<style scoped>\n",
       "    .dataframe tbody tr th:only-of-type {\n",
       "        vertical-align: middle;\n",
       "    }\n",
       "\n",
       "    .dataframe tbody tr th {\n",
       "        vertical-align: top;\n",
       "    }\n",
       "\n",
       "    .dataframe thead th {\n",
       "        text-align: right;\n",
       "    }\n",
       "</style>\n",
       "<table border=\"1\" class=\"dataframe\">\n",
       "  <thead>\n",
       "    <tr style=\"text-align: right;\">\n",
       "      <th></th>\n",
       "      <th>PassengerId</th>\n",
       "      <th>CryoSleep</th>\n",
       "      <th>Cabin</th>\n",
       "      <th>Age</th>\n",
       "      <th>VIP</th>\n",
       "      <th>RoomService</th>\n",
       "      <th>FoodCourt</th>\n",
       "      <th>ShoppingMall</th>\n",
       "      <th>Spa</th>\n",
       "      <th>VRDeck</th>\n",
       "      <th>...</th>\n",
       "      <th>Num</th>\n",
       "      <th>Side</th>\n",
       "      <th>Group</th>\n",
       "      <th>Place_In_Group</th>\n",
       "      <th>HomePlanet_Earth</th>\n",
       "      <th>HomePlanet_Europa</th>\n",
       "      <th>HomePlanet_Mars</th>\n",
       "      <th>Destination_55 Cancri e</th>\n",
       "      <th>Destination_PSO J318.5-22</th>\n",
       "      <th>Destination_TRAPPIST-1e</th>\n",
       "    </tr>\n",
       "  </thead>\n",
       "  <tbody>\n",
       "    <tr>\n",
       "      <th>0</th>\n",
       "      <td>0001_01</td>\n",
       "      <td>0.0</td>\n",
       "      <td>B/0/P</td>\n",
       "      <td>39.0</td>\n",
       "      <td>0.0</td>\n",
       "      <td>0.0</td>\n",
       "      <td>0.0</td>\n",
       "      <td>0.0</td>\n",
       "      <td>0.0</td>\n",
       "      <td>0.0</td>\n",
       "      <td>...</td>\n",
       "      <td>0</td>\n",
       "      <td>P</td>\n",
       "      <td>0001</td>\n",
       "      <td>01</td>\n",
       "      <td>0</td>\n",
       "      <td>1</td>\n",
       "      <td>0</td>\n",
       "      <td>0</td>\n",
       "      <td>0</td>\n",
       "      <td>1</td>\n",
       "    </tr>\n",
       "    <tr>\n",
       "      <th>1</th>\n",
       "      <td>0002_01</td>\n",
       "      <td>0.0</td>\n",
       "      <td>F/0/S</td>\n",
       "      <td>24.0</td>\n",
       "      <td>0.0</td>\n",
       "      <td>109.0</td>\n",
       "      <td>9.0</td>\n",
       "      <td>25.0</td>\n",
       "      <td>549.0</td>\n",
       "      <td>44.0</td>\n",
       "      <td>...</td>\n",
       "      <td>0</td>\n",
       "      <td>S</td>\n",
       "      <td>0002</td>\n",
       "      <td>01</td>\n",
       "      <td>1</td>\n",
       "      <td>0</td>\n",
       "      <td>0</td>\n",
       "      <td>0</td>\n",
       "      <td>0</td>\n",
       "      <td>1</td>\n",
       "    </tr>\n",
       "    <tr>\n",
       "      <th>2</th>\n",
       "      <td>0003_01</td>\n",
       "      <td>0.0</td>\n",
       "      <td>A/0/S</td>\n",
       "      <td>58.0</td>\n",
       "      <td>1.0</td>\n",
       "      <td>43.0</td>\n",
       "      <td>3576.0</td>\n",
       "      <td>0.0</td>\n",
       "      <td>6715.0</td>\n",
       "      <td>49.0</td>\n",
       "      <td>...</td>\n",
       "      <td>0</td>\n",
       "      <td>S</td>\n",
       "      <td>0003</td>\n",
       "      <td>01</td>\n",
       "      <td>0</td>\n",
       "      <td>1</td>\n",
       "      <td>0</td>\n",
       "      <td>0</td>\n",
       "      <td>0</td>\n",
       "      <td>1</td>\n",
       "    </tr>\n",
       "    <tr>\n",
       "      <th>3</th>\n",
       "      <td>0003_02</td>\n",
       "      <td>0.0</td>\n",
       "      <td>A/0/S</td>\n",
       "      <td>33.0</td>\n",
       "      <td>0.0</td>\n",
       "      <td>0.0</td>\n",
       "      <td>1283.0</td>\n",
       "      <td>371.0</td>\n",
       "      <td>3329.0</td>\n",
       "      <td>193.0</td>\n",
       "      <td>...</td>\n",
       "      <td>0</td>\n",
       "      <td>S</td>\n",
       "      <td>0003</td>\n",
       "      <td>02</td>\n",
       "      <td>0</td>\n",
       "      <td>1</td>\n",
       "      <td>0</td>\n",
       "      <td>0</td>\n",
       "      <td>0</td>\n",
       "      <td>1</td>\n",
       "    </tr>\n",
       "    <tr>\n",
       "      <th>4</th>\n",
       "      <td>0004_01</td>\n",
       "      <td>0.0</td>\n",
       "      <td>F/1/S</td>\n",
       "      <td>16.0</td>\n",
       "      <td>0.0</td>\n",
       "      <td>303.0</td>\n",
       "      <td>70.0</td>\n",
       "      <td>151.0</td>\n",
       "      <td>565.0</td>\n",
       "      <td>2.0</td>\n",
       "      <td>...</td>\n",
       "      <td>1</td>\n",
       "      <td>S</td>\n",
       "      <td>0004</td>\n",
       "      <td>01</td>\n",
       "      <td>1</td>\n",
       "      <td>0</td>\n",
       "      <td>0</td>\n",
       "      <td>0</td>\n",
       "      <td>0</td>\n",
       "      <td>1</td>\n",
       "    </tr>\n",
       "    <tr>\n",
       "      <th>...</th>\n",
       "      <td>...</td>\n",
       "      <td>...</td>\n",
       "      <td>...</td>\n",
       "      <td>...</td>\n",
       "      <td>...</td>\n",
       "      <td>...</td>\n",
       "      <td>...</td>\n",
       "      <td>...</td>\n",
       "      <td>...</td>\n",
       "      <td>...</td>\n",
       "      <td>...</td>\n",
       "      <td>...</td>\n",
       "      <td>...</td>\n",
       "      <td>...</td>\n",
       "      <td>...</td>\n",
       "      <td>...</td>\n",
       "      <td>...</td>\n",
       "      <td>...</td>\n",
       "      <td>...</td>\n",
       "      <td>...</td>\n",
       "      <td>...</td>\n",
       "    </tr>\n",
       "    <tr>\n",
       "      <th>8688</th>\n",
       "      <td>9276_01</td>\n",
       "      <td>0.0</td>\n",
       "      <td>A/98/P</td>\n",
       "      <td>41.0</td>\n",
       "      <td>1.0</td>\n",
       "      <td>0.0</td>\n",
       "      <td>6819.0</td>\n",
       "      <td>0.0</td>\n",
       "      <td>1643.0</td>\n",
       "      <td>74.0</td>\n",
       "      <td>...</td>\n",
       "      <td>98</td>\n",
       "      <td>P</td>\n",
       "      <td>9276</td>\n",
       "      <td>01</td>\n",
       "      <td>0</td>\n",
       "      <td>1</td>\n",
       "      <td>0</td>\n",
       "      <td>1</td>\n",
       "      <td>0</td>\n",
       "      <td>0</td>\n",
       "    </tr>\n",
       "    <tr>\n",
       "      <th>8689</th>\n",
       "      <td>9278_01</td>\n",
       "      <td>1.0</td>\n",
       "      <td>G/1499/S</td>\n",
       "      <td>18.0</td>\n",
       "      <td>0.0</td>\n",
       "      <td>0.0</td>\n",
       "      <td>0.0</td>\n",
       "      <td>0.0</td>\n",
       "      <td>0.0</td>\n",
       "      <td>0.0</td>\n",
       "      <td>...</td>\n",
       "      <td>1499</td>\n",
       "      <td>S</td>\n",
       "      <td>9278</td>\n",
       "      <td>01</td>\n",
       "      <td>1</td>\n",
       "      <td>0</td>\n",
       "      <td>0</td>\n",
       "      <td>0</td>\n",
       "      <td>1</td>\n",
       "      <td>0</td>\n",
       "    </tr>\n",
       "    <tr>\n",
       "      <th>8690</th>\n",
       "      <td>9279_01</td>\n",
       "      <td>0.0</td>\n",
       "      <td>G/1500/S</td>\n",
       "      <td>26.0</td>\n",
       "      <td>0.0</td>\n",
       "      <td>0.0</td>\n",
       "      <td>0.0</td>\n",
       "      <td>1872.0</td>\n",
       "      <td>1.0</td>\n",
       "      <td>0.0</td>\n",
       "      <td>...</td>\n",
       "      <td>1500</td>\n",
       "      <td>S</td>\n",
       "      <td>9279</td>\n",
       "      <td>01</td>\n",
       "      <td>1</td>\n",
       "      <td>0</td>\n",
       "      <td>0</td>\n",
       "      <td>0</td>\n",
       "      <td>0</td>\n",
       "      <td>1</td>\n",
       "    </tr>\n",
       "    <tr>\n",
       "      <th>8691</th>\n",
       "      <td>9280_01</td>\n",
       "      <td>0.0</td>\n",
       "      <td>E/608/S</td>\n",
       "      <td>32.0</td>\n",
       "      <td>0.0</td>\n",
       "      <td>0.0</td>\n",
       "      <td>1049.0</td>\n",
       "      <td>0.0</td>\n",
       "      <td>353.0</td>\n",
       "      <td>3235.0</td>\n",
       "      <td>...</td>\n",
       "      <td>608</td>\n",
       "      <td>S</td>\n",
       "      <td>9280</td>\n",
       "      <td>01</td>\n",
       "      <td>0</td>\n",
       "      <td>1</td>\n",
       "      <td>0</td>\n",
       "      <td>1</td>\n",
       "      <td>0</td>\n",
       "      <td>0</td>\n",
       "    </tr>\n",
       "    <tr>\n",
       "      <th>8692</th>\n",
       "      <td>9280_02</td>\n",
       "      <td>0.0</td>\n",
       "      <td>E/608/S</td>\n",
       "      <td>44.0</td>\n",
       "      <td>0.0</td>\n",
       "      <td>126.0</td>\n",
       "      <td>4688.0</td>\n",
       "      <td>0.0</td>\n",
       "      <td>0.0</td>\n",
       "      <td>12.0</td>\n",
       "      <td>...</td>\n",
       "      <td>608</td>\n",
       "      <td>S</td>\n",
       "      <td>9280</td>\n",
       "      <td>02</td>\n",
       "      <td>0</td>\n",
       "      <td>1</td>\n",
       "      <td>0</td>\n",
       "      <td>0</td>\n",
       "      <td>0</td>\n",
       "      <td>1</td>\n",
       "    </tr>\n",
       "  </tbody>\n",
       "</table>\n",
       "<p>8693 rows × 24 columns</p>\n",
       "</div>"
      ],
      "text/plain": [
       "     PassengerId  CryoSleep     Cabin   Age  VIP  RoomService  FoodCourt  \\\n",
       "0        0001_01        0.0     B/0/P  39.0  0.0          0.0        0.0   \n",
       "1        0002_01        0.0     F/0/S  24.0  0.0        109.0        9.0   \n",
       "2        0003_01        0.0     A/0/S  58.0  1.0         43.0     3576.0   \n",
       "3        0003_02        0.0     A/0/S  33.0  0.0          0.0     1283.0   \n",
       "4        0004_01        0.0     F/1/S  16.0  0.0        303.0       70.0   \n",
       "...          ...        ...       ...   ...  ...          ...        ...   \n",
       "8688     9276_01        0.0    A/98/P  41.0  1.0          0.0     6819.0   \n",
       "8689     9278_01        1.0  G/1499/S  18.0  0.0          0.0        0.0   \n",
       "8690     9279_01        0.0  G/1500/S  26.0  0.0          0.0        0.0   \n",
       "8691     9280_01        0.0   E/608/S  32.0  0.0          0.0     1049.0   \n",
       "8692     9280_02        0.0   E/608/S  44.0  0.0        126.0     4688.0   \n",
       "\n",
       "      ShoppingMall     Spa  VRDeck  ...   Num  Side  Group Place_In_Group  \\\n",
       "0              0.0     0.0     0.0  ...     0     P   0001             01   \n",
       "1             25.0   549.0    44.0  ...     0     S   0002             01   \n",
       "2              0.0  6715.0    49.0  ...     0     S   0003             01   \n",
       "3            371.0  3329.0   193.0  ...     0     S   0003             02   \n",
       "4            151.0   565.0     2.0  ...     1     S   0004             01   \n",
       "...            ...     ...     ...  ...   ...   ...    ...            ...   \n",
       "8688           0.0  1643.0    74.0  ...    98     P   9276             01   \n",
       "8689           0.0     0.0     0.0  ...  1499     S   9278             01   \n",
       "8690        1872.0     1.0     0.0  ...  1500     S   9279             01   \n",
       "8691           0.0   353.0  3235.0  ...   608     S   9280             01   \n",
       "8692           0.0     0.0    12.0  ...   608     S   9280             02   \n",
       "\n",
       "     HomePlanet_Earth HomePlanet_Europa HomePlanet_Mars  \\\n",
       "0                   0                 1               0   \n",
       "1                   1                 0               0   \n",
       "2                   0                 1               0   \n",
       "3                   0                 1               0   \n",
       "4                   1                 0               0   \n",
       "...               ...               ...             ...   \n",
       "8688                0                 1               0   \n",
       "8689                1                 0               0   \n",
       "8690                1                 0               0   \n",
       "8691                0                 1               0   \n",
       "8692                0                 1               0   \n",
       "\n",
       "     Destination_55 Cancri e  Destination_PSO J318.5-22  \\\n",
       "0                          0                          0   \n",
       "1                          0                          0   \n",
       "2                          0                          0   \n",
       "3                          0                          0   \n",
       "4                          0                          0   \n",
       "...                      ...                        ...   \n",
       "8688                       1                          0   \n",
       "8689                       0                          1   \n",
       "8690                       0                          0   \n",
       "8691                       1                          0   \n",
       "8692                       0                          0   \n",
       "\n",
       "      Destination_TRAPPIST-1e  \n",
       "0                           1  \n",
       "1                           1  \n",
       "2                           1  \n",
       "3                           1  \n",
       "4                           1  \n",
       "...                       ...  \n",
       "8688                        0  \n",
       "8689                        0  \n",
       "8690                        1  \n",
       "8691                        0  \n",
       "8692                        1  \n",
       "\n",
       "[8693 rows x 24 columns]"
      ]
     },
     "execution_count": 8,
     "metadata": {},
     "output_type": "execute_result"
    }
   ],
   "source": [
    "train_df"
   ]
  },
  {
   "cell_type": "code",
   "execution_count": 9,
   "id": "c0746c1c",
   "metadata": {
    "_cell_guid": "dabe1e62-4c05-4a66-a668-6ffc96c894f2",
    "_uuid": "09424619-c67e-47a1-807d-9696e043ba22",
    "collapsed": false,
    "execution": {
     "iopub.execute_input": "2025-10-11T13:24:22.410015Z",
     "iopub.status.busy": "2025-10-11T13:24:22.409816Z",
     "iopub.status.idle": "2025-10-11T13:24:22.413420Z",
     "shell.execute_reply": "2025-10-11T13:24:22.412758Z"
    },
    "jupyter": {
     "outputs_hidden": false
    },
    "papermill": {
     "duration": 0.008462,
     "end_time": "2025-10-11T13:24:22.414360",
     "exception": false,
     "start_time": "2025-10-11T13:24:22.405898",
     "status": "completed"
    },
    "tags": []
   },
   "outputs": [],
   "source": [
    "\n",
    "input_features=list(train_df.columns)\n",
    "input_features.remove('Transported')\n",
    "input_features.remove('PassengerId')\n",
    "input_features.remove('Cabin')\n",
    "# input_features=['CryoSleep']\n",
    "input_features.remove('Name')\n",
    "input_features.remove('Side')\n",
    "input_features.remove('Deck')"
   ]
  },
  {
   "cell_type": "code",
   "execution_count": 10,
   "id": "c0c854ad",
   "metadata": {
    "execution": {
     "iopub.execute_input": "2025-10-11T13:24:22.423089Z",
     "iopub.status.busy": "2025-10-11T13:24:22.422462Z",
     "iopub.status.idle": "2025-10-11T13:24:22.431477Z",
     "shell.execute_reply": "2025-10-11T13:24:22.430808Z"
    },
    "papermill": {
     "duration": 0.014682,
     "end_time": "2025-10-11T13:24:22.432530",
     "exception": false,
     "start_time": "2025-10-11T13:24:22.417848",
     "status": "completed"
    },
    "tags": []
   },
   "outputs": [],
   "source": [
    "train_df=train_df.fillna(0)"
   ]
  },
  {
   "cell_type": "code",
   "execution_count": 11,
   "id": "733d6189",
   "metadata": {
    "_cell_guid": "22184898-0ed6-4440-a2ec-1e9415933a96",
    "_uuid": "9121dac0-a2bb-43e0-aba1-cc436402987c",
    "execution": {
     "iopub.execute_input": "2025-10-11T13:24:22.440559Z",
     "iopub.status.busy": "2025-10-11T13:24:22.440060Z",
     "iopub.status.idle": "2025-10-11T13:24:57.437846Z",
     "shell.execute_reply": "2025-10-11T13:24:57.437170Z"
    },
    "papermill": {
     "duration": 35.003266,
     "end_time": "2025-10-11T13:24:57.439276",
     "exception": false,
     "start_time": "2025-10-11T13:24:22.436010",
     "status": "completed"
    },
    "tags": []
   },
   "outputs": [
    {
     "name": "stderr",
     "output_type": "stream",
     "text": [
      "I0000 00:00:1760189062.766437      18 gpu_device.cc:2022] Created device /job:localhost/replica:0/task:0/device:GPU:0 with 13942 MB memory:  -> device: 0, name: Tesla T4, pci bus id: 0000:00:04.0, compute capability: 7.5\n",
      "I0000 00:00:1760189062.767141      18 gpu_device.cc:2022] Created device /job:localhost/replica:0/task:0/device:GPU:1 with 13942 MB memory:  -> device: 1, name: Tesla T4, pci bus id: 0000:00:05.0, compute capability: 7.5\n"
     ]
    },
    {
     "name": "stdout",
     "output_type": "stream",
     "text": [
      "Epoch 1/50\n"
     ]
    },
    {
     "name": "stderr",
     "output_type": "stream",
     "text": [
      "WARNING: All log messages before absl::InitializeLog() is called are written to STDERR\n",
      "I0000 00:00:1760189064.984533      61 service.cc:148] XLA service 0x7fc124010340 initialized for platform CUDA (this does not guarantee that XLA will be used). Devices:\n",
      "I0000 00:00:1760189064.985031      61 service.cc:156]   StreamExecutor device (0): Tesla T4, Compute Capability 7.5\n",
      "I0000 00:00:1760189064.985049      61 service.cc:156]   StreamExecutor device (1): Tesla T4, Compute Capability 7.5\n",
      "I0000 00:00:1760189065.171847      61 cuda_dnn.cc:529] Loaded cuDNN version 90300\n"
     ]
    },
    {
     "name": "stdout",
     "output_type": "stream",
     "text": [
      "\u001b[1m 77/218\u001b[0m \u001b[32m━━━━━━━\u001b[0m\u001b[37m━━━━━━━━━━━━━\u001b[0m \u001b[1m0s\u001b[0m 2ms/step - accuracy: 0.5450 - loss: 0.1830"
     ]
    },
    {
     "name": "stderr",
     "output_type": "stream",
     "text": [
      "I0000 00:00:1760189065.936900      61 device_compiler.h:188] Compiled cluster using XLA!  This line is logged at most once for the lifetime of the process.\n"
     ]
    },
    {
     "name": "stdout",
     "output_type": "stream",
     "text": [
      "\u001b[1m218/218\u001b[0m \u001b[32m━━━━━━━━━━━━━━━━━━━━\u001b[0m\u001b[37m\u001b[0m \u001b[1m4s\u001b[0m 8ms/step - accuracy: 0.5927 - loss: 0.1718 - val_accuracy: 0.7579 - val_loss: 0.1376\n",
      "Epoch 2/50\n",
      "\u001b[1m218/218\u001b[0m \u001b[32m━━━━━━━━━━━━━━━━━━━━\u001b[0m\u001b[37m\u001b[0m \u001b[1m1s\u001b[0m 3ms/step - accuracy: 0.7313 - loss: 0.1402 - val_accuracy: 0.7775 - val_loss: 0.1268\n",
      "Epoch 3/50\n",
      "\u001b[1m218/218\u001b[0m \u001b[32m━━━━━━━━━━━━━━━━━━━━\u001b[0m\u001b[37m\u001b[0m \u001b[1m1s\u001b[0m 3ms/step - accuracy: 0.7539 - loss: 0.1293 - val_accuracy: 0.7809 - val_loss: 0.1225\n",
      "Epoch 4/50\n",
      "\u001b[1m218/218\u001b[0m \u001b[32m━━━━━━━━━━━━━━━━━━━━\u001b[0m\u001b[37m\u001b[0m \u001b[1m1s\u001b[0m 3ms/step - accuracy: 0.7617 - loss: 0.1244 - val_accuracy: 0.7867 - val_loss: 0.1206\n",
      "Epoch 5/50\n",
      "\u001b[1m218/218\u001b[0m \u001b[32m━━━━━━━━━━━━━━━━━━━━\u001b[0m\u001b[37m\u001b[0m \u001b[1m1s\u001b[0m 3ms/step - accuracy: 0.7777 - loss: 0.1186 - val_accuracy: 0.7930 - val_loss: 0.1183\n",
      "Epoch 6/50\n",
      "\u001b[1m218/218\u001b[0m \u001b[32m━━━━━━━━━━━━━━━━━━━━\u001b[0m\u001b[37m\u001b[0m \u001b[1m1s\u001b[0m 3ms/step - accuracy: 0.7639 - loss: 0.1211 - val_accuracy: 0.7930 - val_loss: 0.1181\n",
      "Epoch 7/50\n",
      "\u001b[1m218/218\u001b[0m \u001b[32m━━━━━━━━━━━━━━━━━━━━\u001b[0m\u001b[37m\u001b[0m \u001b[1m1s\u001b[0m 3ms/step - accuracy: 0.7714 - loss: 0.1178 - val_accuracy: 0.7913 - val_loss: 0.1160\n",
      "Epoch 8/50\n",
      "\u001b[1m218/218\u001b[0m \u001b[32m━━━━━━━━━━━━━━━━━━━━\u001b[0m\u001b[37m\u001b[0m \u001b[1m1s\u001b[0m 3ms/step - accuracy: 0.7768 - loss: 0.1176 - val_accuracy: 0.7947 - val_loss: 0.1162\n",
      "Epoch 9/50\n",
      "\u001b[1m218/218\u001b[0m \u001b[32m━━━━━━━━━━━━━━━━━━━━\u001b[0m\u001b[37m\u001b[0m \u001b[1m1s\u001b[0m 3ms/step - accuracy: 0.7786 - loss: 0.1172 - val_accuracy: 0.7930 - val_loss: 0.1152\n",
      "Epoch 10/50\n",
      "\u001b[1m218/218\u001b[0m \u001b[32m━━━━━━━━━━━━━━━━━━━━\u001b[0m\u001b[37m\u001b[0m \u001b[1m1s\u001b[0m 3ms/step - accuracy: 0.7785 - loss: 0.1150 - val_accuracy: 0.7941 - val_loss: 0.1162\n",
      "Epoch 11/50\n",
      "\u001b[1m218/218\u001b[0m \u001b[32m━━━━━━━━━━━━━━━━━━━━\u001b[0m\u001b[37m\u001b[0m \u001b[1m1s\u001b[0m 3ms/step - accuracy: 0.7752 - loss: 0.1153 - val_accuracy: 0.7953 - val_loss: 0.1154\n",
      "Epoch 12/50\n",
      "\u001b[1m218/218\u001b[0m \u001b[32m━━━━━━━━━━━━━━━━━━━━\u001b[0m\u001b[37m\u001b[0m \u001b[1m1s\u001b[0m 3ms/step - accuracy: 0.7869 - loss: 0.1117 - val_accuracy: 0.7947 - val_loss: 0.1132\n",
      "Epoch 13/50\n",
      "\u001b[1m218/218\u001b[0m \u001b[32m━━━━━━━━━━━━━━━━━━━━\u001b[0m\u001b[37m\u001b[0m \u001b[1m1s\u001b[0m 3ms/step - accuracy: 0.7928 - loss: 0.1128 - val_accuracy: 0.7964 - val_loss: 0.1140\n",
      "Epoch 14/50\n",
      "\u001b[1m218/218\u001b[0m \u001b[32m━━━━━━━━━━━━━━━━━━━━\u001b[0m\u001b[37m\u001b[0m \u001b[1m1s\u001b[0m 3ms/step - accuracy: 0.7878 - loss: 0.1112 - val_accuracy: 0.7964 - val_loss: 0.1134\n",
      "Epoch 15/50\n",
      "\u001b[1m218/218\u001b[0m \u001b[32m━━━━━━━━━━━━━━━━━━━━\u001b[0m\u001b[37m\u001b[0m \u001b[1m1s\u001b[0m 3ms/step - accuracy: 0.7995 - loss: 0.1099 - val_accuracy: 0.7982 - val_loss: 0.1128\n",
      "Epoch 16/50\n",
      "\u001b[1m218/218\u001b[0m \u001b[32m━━━━━━━━━━━━━━━━━━━━\u001b[0m\u001b[37m\u001b[0m \u001b[1m1s\u001b[0m 3ms/step - accuracy: 0.7875 - loss: 0.1121 - val_accuracy: 0.7947 - val_loss: 0.1135\n",
      "Epoch 17/50\n",
      "\u001b[1m218/218\u001b[0m \u001b[32m━━━━━━━━━━━━━━━━━━━━\u001b[0m\u001b[37m\u001b[0m \u001b[1m1s\u001b[0m 3ms/step - accuracy: 0.7967 - loss: 0.1094 - val_accuracy: 0.7918 - val_loss: 0.1133\n",
      "Epoch 18/50\n",
      "\u001b[1m218/218\u001b[0m \u001b[32m━━━━━━━━━━━━━━━━━━━━\u001b[0m\u001b[37m\u001b[0m \u001b[1m1s\u001b[0m 3ms/step - accuracy: 0.7957 - loss: 0.1082 - val_accuracy: 0.7982 - val_loss: 0.1117\n",
      "Epoch 19/50\n",
      "\u001b[1m218/218\u001b[0m \u001b[32m━━━━━━━━━━━━━━━━━━━━\u001b[0m\u001b[37m\u001b[0m \u001b[1m1s\u001b[0m 3ms/step - accuracy: 0.7959 - loss: 0.1081 - val_accuracy: 0.7964 - val_loss: 0.1125\n",
      "Epoch 20/50\n",
      "\u001b[1m218/218\u001b[0m \u001b[32m━━━━━━━━━━━━━━━━━━━━\u001b[0m\u001b[37m\u001b[0m \u001b[1m1s\u001b[0m 3ms/step - accuracy: 0.7931 - loss: 0.1111 - val_accuracy: 0.8010 - val_loss: 0.1109\n",
      "Epoch 21/50\n",
      "\u001b[1m218/218\u001b[0m \u001b[32m━━━━━━━━━━━━━━━━━━━━\u001b[0m\u001b[37m\u001b[0m \u001b[1m1s\u001b[0m 3ms/step - accuracy: 0.7958 - loss: 0.1084 - val_accuracy: 0.7964 - val_loss: 0.1116\n",
      "Epoch 22/50\n",
      "\u001b[1m218/218\u001b[0m \u001b[32m━━━━━━━━━━━━━━━━━━━━\u001b[0m\u001b[37m\u001b[0m \u001b[1m1s\u001b[0m 3ms/step - accuracy: 0.7995 - loss: 0.1082 - val_accuracy: 0.8010 - val_loss: 0.1095\n",
      "Epoch 23/50\n",
      "\u001b[1m218/218\u001b[0m \u001b[32m━━━━━━━━━━━━━━━━━━━━\u001b[0m\u001b[37m\u001b[0m \u001b[1m1s\u001b[0m 3ms/step - accuracy: 0.7944 - loss: 0.1103 - val_accuracy: 0.7947 - val_loss: 0.1131\n",
      "Epoch 24/50\n",
      "\u001b[1m218/218\u001b[0m \u001b[32m━━━━━━━━━━━━━━━━━━━━\u001b[0m\u001b[37m\u001b[0m \u001b[1m1s\u001b[0m 3ms/step - accuracy: 0.8005 - loss: 0.1082 - val_accuracy: 0.7959 - val_loss: 0.1111\n",
      "Epoch 25/50\n",
      "\u001b[1m218/218\u001b[0m \u001b[32m━━━━━━━━━━━━━━━━━━━━\u001b[0m\u001b[37m\u001b[0m \u001b[1m1s\u001b[0m 3ms/step - accuracy: 0.7993 - loss: 0.1066 - val_accuracy: 0.7964 - val_loss: 0.1118\n",
      "Epoch 26/50\n",
      "\u001b[1m218/218\u001b[0m \u001b[32m━━━━━━━━━━━━━━━━━━━━\u001b[0m\u001b[37m\u001b[0m \u001b[1m1s\u001b[0m 3ms/step - accuracy: 0.7954 - loss: 0.1095 - val_accuracy: 0.7976 - val_loss: 0.1123\n",
      "Epoch 27/50\n",
      "\u001b[1m218/218\u001b[0m \u001b[32m━━━━━━━━━━━━━━━━━━━━\u001b[0m\u001b[37m\u001b[0m \u001b[1m1s\u001b[0m 3ms/step - accuracy: 0.8078 - loss: 0.1070 - val_accuracy: 0.8010 - val_loss: 0.1103\n",
      "Epoch 28/50\n",
      "\u001b[1m218/218\u001b[0m \u001b[32m━━━━━━━━━━━━━━━━━━━━\u001b[0m\u001b[37m\u001b[0m \u001b[1m1s\u001b[0m 3ms/step - accuracy: 0.7875 - loss: 0.1095 - val_accuracy: 0.7970 - val_loss: 0.1119\n",
      "Epoch 29/50\n",
      "\u001b[1m218/218\u001b[0m \u001b[32m━━━━━━━━━━━━━━━━━━━━\u001b[0m\u001b[37m\u001b[0m \u001b[1m1s\u001b[0m 3ms/step - accuracy: 0.8001 - loss: 0.1061 - val_accuracy: 0.8005 - val_loss: 0.1098\n",
      "Epoch 30/50\n",
      "\u001b[1m218/218\u001b[0m \u001b[32m━━━━━━━━━━━━━━━━━━━━\u001b[0m\u001b[37m\u001b[0m \u001b[1m1s\u001b[0m 3ms/step - accuracy: 0.7978 - loss: 0.1074 - val_accuracy: 0.8010 - val_loss: 0.1106\n",
      "Epoch 31/50\n",
      "\u001b[1m218/218\u001b[0m \u001b[32m━━━━━━━━━━━━━━━━━━━━\u001b[0m\u001b[37m\u001b[0m \u001b[1m1s\u001b[0m 3ms/step - accuracy: 0.8015 - loss: 0.1053 - val_accuracy: 0.7999 - val_loss: 0.1104\n",
      "Epoch 32/50\n",
      "\u001b[1m218/218\u001b[0m \u001b[32m━━━━━━━━━━━━━━━━━━━━\u001b[0m\u001b[37m\u001b[0m \u001b[1m1s\u001b[0m 3ms/step - accuracy: 0.7976 - loss: 0.1078 - val_accuracy: 0.7941 - val_loss: 0.1138\n",
      "Epoch 33/50\n",
      "\u001b[1m218/218\u001b[0m \u001b[32m━━━━━━━━━━━━━━━━━━━━\u001b[0m\u001b[37m\u001b[0m \u001b[1m1s\u001b[0m 3ms/step - accuracy: 0.8031 - loss: 0.1069 - val_accuracy: 0.7993 - val_loss: 0.1095\n",
      "Epoch 34/50\n",
      "\u001b[1m218/218\u001b[0m \u001b[32m━━━━━━━━━━━━━━━━━━━━\u001b[0m\u001b[37m\u001b[0m \u001b[1m1s\u001b[0m 3ms/step - accuracy: 0.7986 - loss: 0.1074 - val_accuracy: 0.8028 - val_loss: 0.1090\n",
      "Epoch 35/50\n",
      "\u001b[1m218/218\u001b[0m \u001b[32m━━━━━━━━━━━━━━━━━━━━\u001b[0m\u001b[37m\u001b[0m \u001b[1m1s\u001b[0m 3ms/step - accuracy: 0.7955 - loss: 0.1086 - val_accuracy: 0.7999 - val_loss: 0.1111\n",
      "Epoch 36/50\n",
      "\u001b[1m218/218\u001b[0m \u001b[32m━━━━━━━━━━━━━━━━━━━━\u001b[0m\u001b[37m\u001b[0m \u001b[1m1s\u001b[0m 3ms/step - accuracy: 0.8010 - loss: 0.1070 - val_accuracy: 0.7987 - val_loss: 0.1112\n",
      "Epoch 37/50\n",
      "\u001b[1m218/218\u001b[0m \u001b[32m━━━━━━━━━━━━━━━━━━━━\u001b[0m\u001b[37m\u001b[0m \u001b[1m1s\u001b[0m 3ms/step - accuracy: 0.8074 - loss: 0.1041 - val_accuracy: 0.7970 - val_loss: 0.1133\n",
      "Epoch 38/50\n",
      "\u001b[1m218/218\u001b[0m \u001b[32m━━━━━━━━━━━━━━━━━━━━\u001b[0m\u001b[37m\u001b[0m \u001b[1m1s\u001b[0m 3ms/step - accuracy: 0.7919 - loss: 0.1095 - val_accuracy: 0.8028 - val_loss: 0.1095\n",
      "Epoch 39/50\n",
      "\u001b[1m218/218\u001b[0m \u001b[32m━━━━━━━━━━━━━━━━━━━━\u001b[0m\u001b[37m\u001b[0m \u001b[1m1s\u001b[0m 3ms/step - accuracy: 0.7956 - loss: 0.1066 - val_accuracy: 0.8051 - val_loss: 0.1107\n",
      "Epoch 40/50\n",
      "\u001b[1m218/218\u001b[0m \u001b[32m━━━━━━━━━━━━━━━━━━━━\u001b[0m\u001b[37m\u001b[0m \u001b[1m1s\u001b[0m 3ms/step - accuracy: 0.8006 - loss: 0.1066 - val_accuracy: 0.8010 - val_loss: 0.1128\n",
      "Epoch 41/50\n",
      "\u001b[1m218/218\u001b[0m \u001b[32m━━━━━━━━━━━━━━━━━━━━\u001b[0m\u001b[37m\u001b[0m \u001b[1m1s\u001b[0m 3ms/step - accuracy: 0.8064 - loss: 0.1043 - val_accuracy: 0.8022 - val_loss: 0.1097\n",
      "Epoch 42/50\n",
      "\u001b[1m218/218\u001b[0m \u001b[32m━━━━━━━━━━━━━━━━━━━━\u001b[0m\u001b[37m\u001b[0m \u001b[1m1s\u001b[0m 3ms/step - accuracy: 0.8029 - loss: 0.1037 - val_accuracy: 0.8010 - val_loss: 0.1103\n",
      "Epoch 43/50\n",
      "\u001b[1m218/218\u001b[0m \u001b[32m━━━━━━━━━━━━━━━━━━━━\u001b[0m\u001b[37m\u001b[0m \u001b[1m1s\u001b[0m 3ms/step - accuracy: 0.8050 - loss: 0.1062 - val_accuracy: 0.8010 - val_loss: 0.1095\n",
      "Epoch 44/50\n",
      "\u001b[1m218/218\u001b[0m \u001b[32m━━━━━━━━━━━━━━━━━━━━\u001b[0m\u001b[37m\u001b[0m \u001b[1m1s\u001b[0m 3ms/step - accuracy: 0.8010 - loss: 0.1067 - val_accuracy: 0.8033 - val_loss: 0.1099\n",
      "Epoch 45/50\n",
      "\u001b[1m218/218\u001b[0m \u001b[32m━━━━━━━━━━━━━━━━━━━━\u001b[0m\u001b[37m\u001b[0m \u001b[1m1s\u001b[0m 3ms/step - accuracy: 0.8029 - loss: 0.1056 - val_accuracy: 0.7993 - val_loss: 0.1112\n",
      "Epoch 46/50\n",
      "\u001b[1m218/218\u001b[0m \u001b[32m━━━━━━━━━━━━━━━━━━━━\u001b[0m\u001b[37m\u001b[0m \u001b[1m1s\u001b[0m 3ms/step - accuracy: 0.8150 - loss: 0.1007 - val_accuracy: 0.8005 - val_loss: 0.1113\n",
      "Epoch 47/50\n",
      "\u001b[1m218/218\u001b[0m \u001b[32m━━━━━━━━━━━━━━━━━━━━\u001b[0m\u001b[37m\u001b[0m \u001b[1m1s\u001b[0m 3ms/step - accuracy: 0.8071 - loss: 0.1043 - val_accuracy: 0.8022 - val_loss: 0.1083\n",
      "Epoch 48/50\n",
      "\u001b[1m218/218\u001b[0m \u001b[32m━━━━━━━━━━━━━━━━━━━━\u001b[0m\u001b[37m\u001b[0m \u001b[1m1s\u001b[0m 3ms/step - accuracy: 0.8068 - loss: 0.1040 - val_accuracy: 0.7999 - val_loss: 0.1106\n",
      "Epoch 49/50\n",
      "\u001b[1m218/218\u001b[0m \u001b[32m━━━━━━━━━━━━━━━━━━━━\u001b[0m\u001b[37m\u001b[0m \u001b[1m1s\u001b[0m 3ms/step - accuracy: 0.8033 - loss: 0.1059 - val_accuracy: 0.8016 - val_loss: 0.1142\n",
      "Epoch 50/50\n",
      "\u001b[1m218/218\u001b[0m \u001b[32m━━━━━━━━━━━━━━━━━━━━\u001b[0m\u001b[37m\u001b[0m \u001b[1m1s\u001b[0m 3ms/step - accuracy: 0.8009 - loss: 0.1062 - val_accuracy: 0.8045 - val_loss: 0.1087\n"
     ]
    },
    {
     "name": "stderr",
     "output_type": "stream",
     "text": [
      "/usr/local/lib/python3.11/dist-packages/sklearn/base.py:432: UserWarning: X has feature names, but StandardScaler was fitted without feature names\n",
      "  warnings.warn(\n"
     ]
    },
    {
     "name": "stdout",
     "output_type": "stream",
     "text": [
      "\u001b[1m134/134\u001b[0m \u001b[32m━━━━━━━━━━━━━━━━━━━━\u001b[0m\u001b[37m\u001b[0m \u001b[1m1s\u001b[0m 4ms/step\n"
     ]
    }
   ],
   "source": [
    "from sklearn.preprocessing import StandardScaler\n",
    "\n",
    "\n",
    "\n",
    "# Define the model\n",
    "model = tf.keras.Sequential([\n",
    "    tf.keras.layers.Input(shape=(len(input_features),)),\n",
    "    tf.keras.layers.Dense(128, activation='relu'),  # Increased complexity\n",
    "    tf.keras.layers.Dense(64, activation='relu'),\n",
    "    tf.keras.layers.Dense(32, activation='relu'),\n",
    "    tf.keras.layers.Dense(1, activation='sigmoid')\n",
    "])\n",
    "\n",
    "# Compile the model\n",
    "model.compile(optimizer='SGD', \n",
    "              loss = tf.keras.losses.BinaryFocalCrossentropy(),\n",
    "              metrics=['accuracy'])\n",
    "\n",
    "# Prepare the training data\n",
    "X_train = train_df[input_features].values\n",
    "y_train = train_df['Transported'].astype(int).values\n",
    "scaler = StandardScaler()\n",
    "X_train_scaled = scaler.fit_transform(X_train)\n",
    "# Fit the model\n",
    "model.fit(X_train_scaled, y_train, epochs=50, batch_size=32, validation_split=0.2)\n",
    "\n",
    "X_test = test_df[input_features].copy()\n",
    "X_test = X_test.apply(pd.to_numeric, errors='coerce')\n",
    "X_test = X_test.fillna(X_test.median())   # or other strategy\n",
    "X_test = scaler.transform(X_test)        # use same scaler you fitted\n",
    "predictions = model.predict(X_test)"
   ]
  },
  {
   "cell_type": "code",
   "execution_count": 12,
   "id": "3076e27a",
   "metadata": {
    "_cell_guid": "b3d70272-89e6-46f4-9d32-531f86f6c74a",
    "_uuid": "9cc03d54-20b7-452b-93d7-5cd110de6b4a",
    "collapsed": false,
    "execution": {
     "iopub.execute_input": "2025-10-11T13:24:57.496653Z",
     "iopub.status.busy": "2025-10-11T13:24:57.496347Z",
     "iopub.status.idle": "2025-10-11T13:24:57.512554Z",
     "shell.execute_reply": "2025-10-11T13:24:57.511813Z"
    },
    "jupyter": {
     "outputs_hidden": false
    },
    "papermill": {
     "duration": 0.046544,
     "end_time": "2025-10-11T13:24:57.513799",
     "exception": false,
     "start_time": "2025-10-11T13:24:57.467255",
     "status": "completed"
    },
    "tags": []
   },
   "outputs": [
    {
     "data": {
      "text/html": [
       "<pre style=\"white-space:pre;overflow-x:auto;line-height:normal;font-family:Menlo,'DejaVu Sans Mono',consolas,'Courier New',monospace\"><span style=\"font-weight: bold\">Model: \"sequential\"</span>\n",
       "</pre>\n"
      ],
      "text/plain": [
       "\u001b[1mModel: \"sequential\"\u001b[0m\n"
      ]
     },
     "metadata": {},
     "output_type": "display_data"
    },
    {
     "data": {
      "text/html": [
       "<pre style=\"white-space:pre;overflow-x:auto;line-height:normal;font-family:Menlo,'DejaVu Sans Mono',consolas,'Courier New',monospace\">┏━━━━━━━━━━━━━━━━━━━━━━━━━━━━━━━━━┳━━━━━━━━━━━━━━━━━━━━━━━━┳━━━━━━━━━━━━━━━┓\n",
       "┃<span style=\"font-weight: bold\"> Layer (type)                    </span>┃<span style=\"font-weight: bold\"> Output Shape           </span>┃<span style=\"font-weight: bold\">       Param # </span>┃\n",
       "┡━━━━━━━━━━━━━━━━━━━━━━━━━━━━━━━━━╇━━━━━━━━━━━━━━━━━━━━━━━━╇━━━━━━━━━━━━━━━┩\n",
       "│ dense (<span style=\"color: #0087ff; text-decoration-color: #0087ff\">Dense</span>)                   │ (<span style=\"color: #00d7ff; text-decoration-color: #00d7ff\">None</span>, <span style=\"color: #00af00; text-decoration-color: #00af00\">128</span>)            │         <span style=\"color: #00af00; text-decoration-color: #00af00\">2,432</span> │\n",
       "├─────────────────────────────────┼────────────────────────┼───────────────┤\n",
       "│ dense_1 (<span style=\"color: #0087ff; text-decoration-color: #0087ff\">Dense</span>)                 │ (<span style=\"color: #00d7ff; text-decoration-color: #00d7ff\">None</span>, <span style=\"color: #00af00; text-decoration-color: #00af00\">64</span>)             │         <span style=\"color: #00af00; text-decoration-color: #00af00\">8,256</span> │\n",
       "├─────────────────────────────────┼────────────────────────┼───────────────┤\n",
       "│ dense_2 (<span style=\"color: #0087ff; text-decoration-color: #0087ff\">Dense</span>)                 │ (<span style=\"color: #00d7ff; text-decoration-color: #00d7ff\">None</span>, <span style=\"color: #00af00; text-decoration-color: #00af00\">32</span>)             │         <span style=\"color: #00af00; text-decoration-color: #00af00\">2,080</span> │\n",
       "├─────────────────────────────────┼────────────────────────┼───────────────┤\n",
       "│ dense_3 (<span style=\"color: #0087ff; text-decoration-color: #0087ff\">Dense</span>)                 │ (<span style=\"color: #00d7ff; text-decoration-color: #00d7ff\">None</span>, <span style=\"color: #00af00; text-decoration-color: #00af00\">1</span>)              │            <span style=\"color: #00af00; text-decoration-color: #00af00\">33</span> │\n",
       "└─────────────────────────────────┴────────────────────────┴───────────────┘\n",
       "</pre>\n"
      ],
      "text/plain": [
       "┏━━━━━━━━━━━━━━━━━━━━━━━━━━━━━━━━━┳━━━━━━━━━━━━━━━━━━━━━━━━┳━━━━━━━━━━━━━━━┓\n",
       "┃\u001b[1m \u001b[0m\u001b[1mLayer (type)                   \u001b[0m\u001b[1m \u001b[0m┃\u001b[1m \u001b[0m\u001b[1mOutput Shape          \u001b[0m\u001b[1m \u001b[0m┃\u001b[1m \u001b[0m\u001b[1m      Param #\u001b[0m\u001b[1m \u001b[0m┃\n",
       "┡━━━━━━━━━━━━━━━━━━━━━━━━━━━━━━━━━╇━━━━━━━━━━━━━━━━━━━━━━━━╇━━━━━━━━━━━━━━━┩\n",
       "│ dense (\u001b[38;5;33mDense\u001b[0m)                   │ (\u001b[38;5;45mNone\u001b[0m, \u001b[38;5;34m128\u001b[0m)            │         \u001b[38;5;34m2,432\u001b[0m │\n",
       "├─────────────────────────────────┼────────────────────────┼───────────────┤\n",
       "│ dense_1 (\u001b[38;5;33mDense\u001b[0m)                 │ (\u001b[38;5;45mNone\u001b[0m, \u001b[38;5;34m64\u001b[0m)             │         \u001b[38;5;34m8,256\u001b[0m │\n",
       "├─────────────────────────────────┼────────────────────────┼───────────────┤\n",
       "│ dense_2 (\u001b[38;5;33mDense\u001b[0m)                 │ (\u001b[38;5;45mNone\u001b[0m, \u001b[38;5;34m32\u001b[0m)             │         \u001b[38;5;34m2,080\u001b[0m │\n",
       "├─────────────────────────────────┼────────────────────────┼───────────────┤\n",
       "│ dense_3 (\u001b[38;5;33mDense\u001b[0m)                 │ (\u001b[38;5;45mNone\u001b[0m, \u001b[38;5;34m1\u001b[0m)              │            \u001b[38;5;34m33\u001b[0m │\n",
       "└─────────────────────────────────┴────────────────────────┴───────────────┘\n"
      ]
     },
     "metadata": {},
     "output_type": "display_data"
    },
    {
     "data": {
      "text/html": [
       "<pre style=\"white-space:pre;overflow-x:auto;line-height:normal;font-family:Menlo,'DejaVu Sans Mono',consolas,'Courier New',monospace\"><span style=\"font-weight: bold\"> Total params: </span><span style=\"color: #00af00; text-decoration-color: #00af00\">12,803</span> (50.02 KB)\n",
       "</pre>\n"
      ],
      "text/plain": [
       "\u001b[1m Total params: \u001b[0m\u001b[38;5;34m12,803\u001b[0m (50.02 KB)\n"
      ]
     },
     "metadata": {},
     "output_type": "display_data"
    },
    {
     "data": {
      "text/html": [
       "<pre style=\"white-space:pre;overflow-x:auto;line-height:normal;font-family:Menlo,'DejaVu Sans Mono',consolas,'Courier New',monospace\"><span style=\"font-weight: bold\"> Trainable params: </span><span style=\"color: #00af00; text-decoration-color: #00af00\">12,801</span> (50.00 KB)\n",
       "</pre>\n"
      ],
      "text/plain": [
       "\u001b[1m Trainable params: \u001b[0m\u001b[38;5;34m12,801\u001b[0m (50.00 KB)\n"
      ]
     },
     "metadata": {},
     "output_type": "display_data"
    },
    {
     "data": {
      "text/html": [
       "<pre style=\"white-space:pre;overflow-x:auto;line-height:normal;font-family:Menlo,'DejaVu Sans Mono',consolas,'Courier New',monospace\"><span style=\"font-weight: bold\"> Non-trainable params: </span><span style=\"color: #00af00; text-decoration-color: #00af00\">0</span> (0.00 B)\n",
       "</pre>\n"
      ],
      "text/plain": [
       "\u001b[1m Non-trainable params: \u001b[0m\u001b[38;5;34m0\u001b[0m (0.00 B)\n"
      ]
     },
     "metadata": {},
     "output_type": "display_data"
    },
    {
     "data": {
      "text/html": [
       "<pre style=\"white-space:pre;overflow-x:auto;line-height:normal;font-family:Menlo,'DejaVu Sans Mono',consolas,'Courier New',monospace\"><span style=\"font-weight: bold\"> Optimizer params: </span><span style=\"color: #00af00; text-decoration-color: #00af00\">2</span> (12.00 B)\n",
       "</pre>\n"
      ],
      "text/plain": [
       "\u001b[1m Optimizer params: \u001b[0m\u001b[38;5;34m2\u001b[0m (12.00 B)\n"
      ]
     },
     "metadata": {},
     "output_type": "display_data"
    }
   ],
   "source": [
    "model.summary()"
   ]
  },
  {
   "cell_type": "code",
   "execution_count": 13,
   "id": "ae59c301",
   "metadata": {
    "_cell_guid": "528a6f33-6c8f-49e5-bb0c-7c922773ae5d",
    "_uuid": "4bb4f708-d91a-4c69-8618-8ef65bbbdecb",
    "collapsed": false,
    "execution": {
     "iopub.execute_input": "2025-10-11T13:24:57.570312Z",
     "iopub.status.busy": "2025-10-11T13:24:57.570108Z",
     "iopub.status.idle": "2025-10-11T13:24:57.995096Z",
     "shell.execute_reply": "2025-10-11T13:24:57.994258Z"
    },
    "jupyter": {
     "outputs_hidden": false
    },
    "papermill": {
     "duration": 0.454373,
     "end_time": "2025-10-11T13:24:57.996291",
     "exception": false,
     "start_time": "2025-10-11T13:24:57.541918",
     "status": "completed"
    },
    "tags": []
   },
   "outputs": [
    {
     "name": "stdout",
     "output_type": "stream",
     "text": [
      "Submission exported to /kaggle/working/submission.csv\n",
      "PassengerId,Transported\r\n",
      "0013_01,False\r\n",
      "0018_01,False\r\n",
      "0019_01,True\r\n",
      "0021_01,True\r\n",
      "0023_01,False\r\n",
      "0027_01,True\r\n",
      "0029_01,True\r\n",
      "0032_01,True\r\n",
      "0032_02,True\r\n"
     ]
    }
   ],
   "source": [
    "def prediction_to_kaggle_format(model, test_df, threshold=0.5):\n",
    "    # Prepare features for predictions using the same input features as used in training\n",
    "    # X_test = test_df[input_features].values  # Ensure input features are consistent\n",
    "    proba_survive = model.predict(X_test, verbose=0)  # Predict probabilities\n",
    "    \n",
    "    # Check the shape of proba_survive\n",
    "    if proba_survive.ndim > 1:\n",
    "        proba_survive = proba_survive[:, 0]  # Flatten if necessary\n",
    "    \n",
    "    # Create the DataFrame for submission\n",
    "    return pd.DataFrame({\n",
    "        \"PassengerId\": test_df[\"PassengerId\"].values,  # Ensure this is a 1D array\n",
    "        \"Transported\": (proba_survive >= threshold).astype(str)  # Convert boolean to string\n",
    "    })\n",
    "\n",
    "def make_submission(kaggle_predictions):\n",
    "    path = \"/kaggle/working/submission.csv\"\n",
    "    kaggle_predictions.to_csv(path, index=False)\n",
    "    print(f\"Submission exported to {path}\")\n",
    "\n",
    "# Generate predictions and make the submission\n",
    "kaggle_predictions = prediction_to_kaggle_format(model, test_df)  # Use preprocessed test_df\n",
    "make_submission(kaggle_predictions)\n",
    "\n",
    "# Optional: Check the first few lines of the submission\n",
    "!head /kaggle/working/submission.csv"
   ]
  },
  {
   "cell_type": "code",
   "execution_count": null,
   "id": "b62735ff",
   "metadata": {
    "_cell_guid": "d2ba3435-355a-43f6-84a8-97318ebcff80",
    "_uuid": "5332e4bf-4cf0-4bb2-8f3f-d4ba899a6c3f",
    "collapsed": false,
    "jupyter": {
     "outputs_hidden": false
    },
    "papermill": {
     "duration": 0.02672,
     "end_time": "2025-10-11T13:24:58.051337",
     "exception": false,
     "start_time": "2025-10-11T13:24:58.024617",
     "status": "completed"
    },
    "tags": []
   },
   "outputs": [],
   "source": []
  },
  {
   "cell_type": "code",
   "execution_count": null,
   "id": "6fb66ca8",
   "metadata": {
    "_cell_guid": "224f4aa6-a6b4-4c48-bc43-79bf6a68d340",
    "_uuid": "ca8a049b-990f-4099-bdb0-f6a4c22e40c6",
    "collapsed": false,
    "jupyter": {
     "outputs_hidden": false
    },
    "papermill": {
     "duration": 0.026365,
     "end_time": "2025-10-11T13:24:58.104182",
     "exception": false,
     "start_time": "2025-10-11T13:24:58.077817",
     "status": "completed"
    },
    "tags": []
   },
   "outputs": [],
   "source": []
  }
 ],
 "metadata": {
  "kaggle": {
   "accelerator": "nvidiaTeslaT4",
   "dataSources": [
    {
     "databundleVersionId": 3220602,
     "sourceId": 34377,
     "sourceType": "competition"
    }
   ],
   "dockerImageVersionId": 31089,
   "isGpuEnabled": true,
   "isInternetEnabled": true,
   "language": "python",
   "sourceType": "notebook"
  },
  "kernelspec": {
   "display_name": "Python 3",
   "language": "python",
   "name": "python3"
  },
  "language_info": {
   "codemirror_mode": {
    "name": "ipython",
    "version": 3
   },
   "file_extension": ".py",
   "mimetype": "text/x-python",
   "name": "python",
   "nbconvert_exporter": "python",
   "pygments_lexer": "ipython3",
   "version": "3.11.13"
  },
  "papermill": {
   "default_parameters": {},
   "duration": 64.213404,
   "end_time": "2025-10-11T13:25:01.838827",
   "environment_variables": {},
   "exception": null,
   "input_path": "__notebook__.ipynb",
   "output_path": "__notebook__.ipynb",
   "parameters": {},
   "start_time": "2025-10-11T13:23:57.625423",
   "version": "2.6.0"
  }
 },
 "nbformat": 4,
 "nbformat_minor": 5
}

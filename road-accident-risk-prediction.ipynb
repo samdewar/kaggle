{
 "cells": [
  {
   "cell_type": "code",
   "execution_count": 1,
   "id": "612c419d",
   "metadata": {
    "execution": {
     "iopub.execute_input": "2025-10-22T16:24:32.276219Z",
     "iopub.status.busy": "2025-10-22T16:24:32.275915Z",
     "iopub.status.idle": "2025-10-22T16:24:32.284724Z",
     "shell.execute_reply": "2025-10-22T16:24:32.283738Z"
    },
    "papermill": {
     "duration": 0.015162,
     "end_time": "2025-10-22T16:24:32.286183",
     "exception": false,
     "start_time": "2025-10-22T16:24:32.271021",
     "status": "completed"
    },
    "tags": []
   },
   "outputs": [
    {
     "name": "stdout",
     "output_type": "stream",
     "text": [
      "helloworld\n"
     ]
    }
   ],
   "source": [
    "print('helloworld')"
   ]
  },
  {
   "cell_type": "code",
   "execution_count": 2,
   "id": "0aecac76",
   "metadata": {
    "execution": {
     "iopub.execute_input": "2025-10-22T16:24:32.293514Z",
     "iopub.status.busy": "2025-10-22T16:24:32.293228Z",
     "iopub.status.idle": "2025-10-22T16:24:34.110855Z",
     "shell.execute_reply": "2025-10-22T16:24:34.109947Z"
    },
    "papermill": {
     "duration": 1.822833,
     "end_time": "2025-10-22T16:24:34.112360",
     "exception": false,
     "start_time": "2025-10-22T16:24:32.289527",
     "status": "completed"
    },
    "tags": []
   },
   "outputs": [
    {
     "name": "stdout",
     "output_type": "stream",
     "text": [
      "/kaggle/input/playground-series-s5e10/sample_submission.csv\n",
      "/kaggle/input/playground-series-s5e10/train.csv\n",
      "/kaggle/input/playground-series-s5e10/test.csv\n"
     ]
    }
   ],
   "source": [
    "# This Python 3 environment comes with many helpful analytics libraries installed\n",
    "# It is defined by the kaggle/python Docker image: https://github.com/kaggle/docker-python\n",
    "# For example, here's several helpful packages to load\n",
    "\n",
    "import numpy as np # linear algebra\n",
    "import pandas as pd # data processing, CSV file I/O (e.g. pd.read_csv)\n",
    "\n",
    "# Input data files are available in the read-only \"../input/\" directory\n",
    "# For example, running this (by clicking run or pressing Shift+Enter) will list all files under the input directory\n",
    "\n",
    "import os\n",
    "for dirname, _, filenames in os.walk('/kaggle/input'):\n",
    "    for filename in filenames:\n",
    "        print(os.path.join(dirname, filename))\n",
    "\n",
    "# You can write up to 20GB to the current directory (/kaggle/working/) that gets preserved as output when you create a version using \"Save & Run All\" \n",
    "# You can also write temporary files to /kaggle/temp/, but they won't be saved outside of the current session\n"
   ]
  },
  {
   "cell_type": "code",
   "execution_count": 3,
   "id": "fd92d218",
   "metadata": {
    "execution": {
     "iopub.execute_input": "2025-10-22T16:24:34.120343Z",
     "iopub.status.busy": "2025-10-22T16:24:34.119957Z",
     "iopub.status.idle": "2025-10-22T16:24:35.558643Z",
     "shell.execute_reply": "2025-10-22T16:24:35.557850Z"
    },
    "papermill": {
     "duration": 1.444545,
     "end_time": "2025-10-22T16:24:35.560355",
     "exception": false,
     "start_time": "2025-10-22T16:24:34.115810",
     "status": "completed"
    },
    "tags": []
   },
   "outputs": [],
   "source": [
    "train_df=pd.read_csv('/kaggle/input/playground-series-s5e10/train.csv')\n",
    "test_df=pd.read_csv('/kaggle/input/playground-series-s5e10/test.csv')"
   ]
  },
  {
   "cell_type": "code",
   "execution_count": 4,
   "id": "bdfa6506",
   "metadata": {
    "execution": {
     "iopub.execute_input": "2025-10-22T16:24:35.567823Z",
     "iopub.status.busy": "2025-10-22T16:24:35.567461Z",
     "iopub.status.idle": "2025-10-22T16:24:35.576288Z",
     "shell.execute_reply": "2025-10-22T16:24:35.575364Z"
    },
    "papermill": {
     "duration": 0.01412,
     "end_time": "2025-10-22T16:24:35.577694",
     "exception": false,
     "start_time": "2025-10-22T16:24:35.563574",
     "status": "completed"
    },
    "tags": []
   },
   "outputs": [],
   "source": [
    "def preprocess(df):\n",
    "\n",
    "\n",
    "    \n",
    "\n",
    "    \n",
    "    def bool_to_int(df):\n",
    "        bool_cols = df.select_dtypes(include='bool').columns\n",
    "        df[bool_cols] = df[bool_cols].astype(int)\n",
    "        return df\n",
    "\n",
    "\n",
    "    def handle_road_type(x):\n",
    "        if x == 'rural':\n",
    "            return 0\n",
    "        elif x == 'urban':\n",
    "            return 1\n",
    "        elif x == 'highway':\n",
    "            return 2\n",
    "        else:\n",
    "            return -1\n",
    "\n",
    "\n",
    "    def handle_lighting(x):\n",
    "        if x== 'night':\n",
    "            return 0\n",
    "        elif x=='dim':\n",
    "            return 1\n",
    "        elif x=='daylight':\n",
    "            return 2\n",
    "        else: return -1\n",
    "\n",
    "    def handle_time_of_day(x):\n",
    "        if x=='morning':\n",
    "            return 0\n",
    "        elif x=='afternoon':\n",
    "            return 1\n",
    "        elif x=='evening':\n",
    "            return 2\n",
    "    \n",
    "        else: return -1\n",
    "\n",
    "    def handle_weather(df):\n",
    "        id_col=df['id']\n",
    "        dums=pd.get_dummies(df['weather'],dummy_na=False)\n",
    "        remaining=df.drop(columns=['weather'])\n",
    "        df = pd.concat([id_col.reset_index(drop=True), remaining.reset_index(drop=True), dums.reset_index(drop=True)], axis=1)\n",
    "        return df\n",
    "    df['road_type']=df['road_type'].apply(handle_road_type)\n",
    "    df['time_of_day']=df['time_of_day'].apply(handle_time_of_day)\n",
    "    df['lighting']=df['lighting'].apply(handle_lighting)\n",
    "\n",
    "    df=handle_weather(df)\n",
    "\n",
    "    df=bool_to_int(df)\n",
    "\n",
    "\n",
    "    return df\n"
   ]
  },
  {
   "cell_type": "code",
   "execution_count": 5,
   "id": "0b9308c4",
   "metadata": {
    "execution": {
     "iopub.execute_input": "2025-10-22T16:24:35.584974Z",
     "iopub.status.busy": "2025-10-22T16:24:35.584683Z",
     "iopub.status.idle": "2025-10-22T16:24:36.560576Z",
     "shell.execute_reply": "2025-10-22T16:24:36.559726Z"
    },
    "papermill": {
     "duration": 0.981401,
     "end_time": "2025-10-22T16:24:36.562276",
     "exception": false,
     "start_time": "2025-10-22T16:24:35.580875",
     "status": "completed"
    },
    "tags": []
   },
   "outputs": [],
   "source": [
    "train_df=preprocess(train_df)\n",
    "test_df=preprocess(test_df)"
   ]
  },
  {
   "cell_type": "code",
   "execution_count": 6,
   "id": "acfbb287",
   "metadata": {
    "execution": {
     "iopub.execute_input": "2025-10-22T16:24:36.571854Z",
     "iopub.status.busy": "2025-10-22T16:24:36.571441Z",
     "iopub.status.idle": "2025-10-22T16:24:36.600905Z",
     "shell.execute_reply": "2025-10-22T16:24:36.599723Z"
    },
    "papermill": {
     "duration": 0.03552,
     "end_time": "2025-10-22T16:24:36.602709",
     "exception": false,
     "start_time": "2025-10-22T16:24:36.567189",
     "status": "completed"
    },
    "tags": []
   },
   "outputs": [
    {
     "name": "stdout",
     "output_type": "stream",
     "text": [
      "<class 'pandas.core.frame.DataFrame'>\n",
      "RangeIndex: 517754 entries, 0 to 517753\n",
      "Data columns (total 17 columns):\n",
      " #   Column                  Non-Null Count   Dtype  \n",
      "---  ------                  --------------   -----  \n",
      " 0   id                      517754 non-null  int64  \n",
      " 1   id                      517754 non-null  int64  \n",
      " 2   road_type               517754 non-null  int64  \n",
      " 3   num_lanes               517754 non-null  int64  \n",
      " 4   curvature               517754 non-null  float64\n",
      " 5   speed_limit             517754 non-null  int64  \n",
      " 6   lighting                517754 non-null  int64  \n",
      " 7   road_signs_present      517754 non-null  int64  \n",
      " 8   public_road             517754 non-null  int64  \n",
      " 9   time_of_day             517754 non-null  int64  \n",
      " 10  holiday                 517754 non-null  int64  \n",
      " 11  school_season           517754 non-null  int64  \n",
      " 12  num_reported_accidents  517754 non-null  int64  \n",
      " 13  accident_risk           517754 non-null  float64\n",
      " 14  clear                   517754 non-null  int64  \n",
      " 15  foggy                   517754 non-null  int64  \n",
      " 16  rainy                   517754 non-null  int64  \n",
      "dtypes: float64(2), int64(15)\n",
      "memory usage: 67.2 MB\n"
     ]
    }
   ],
   "source": [
    "train_df.info()"
   ]
  },
  {
   "cell_type": "code",
   "execution_count": 7,
   "id": "cb595132",
   "metadata": {
    "execution": {
     "iopub.execute_input": "2025-10-22T16:24:36.610175Z",
     "iopub.status.busy": "2025-10-22T16:24:36.609877Z",
     "iopub.status.idle": "2025-10-22T16:24:36.617173Z",
     "shell.execute_reply": "2025-10-22T16:24:36.616235Z"
    },
    "papermill": {
     "duration": 0.012627,
     "end_time": "2025-10-22T16:24:36.618512",
     "exception": false,
     "start_time": "2025-10-22T16:24:36.605885",
     "status": "completed"
    },
    "tags": []
   },
   "outputs": [
    {
     "data": {
      "text/plain": [
       "['road_type',\n",
       " 'num_lanes',\n",
       " 'curvature',\n",
       " 'speed_limit',\n",
       " 'lighting',\n",
       " 'road_signs_present',\n",
       " 'public_road',\n",
       " 'time_of_day',\n",
       " 'holiday',\n",
       " 'school_season',\n",
       " 'num_reported_accidents',\n",
       " 'clear',\n",
       " 'foggy',\n",
       " 'rainy']"
      ]
     },
     "execution_count": 7,
     "metadata": {},
     "output_type": "execute_result"
    }
   ],
   "source": [
    "input_features=list(train_df.columns)\n",
    "input_features.remove('id')\n",
    "input_features.remove('id')\n",
    "\n",
    "input_features.remove('accident_risk')\n",
    "input_features"
   ]
  },
  {
   "cell_type": "code",
   "execution_count": 8,
   "id": "d74eabca",
   "metadata": {
    "execution": {
     "iopub.execute_input": "2025-10-22T16:24:36.626533Z",
     "iopub.status.busy": "2025-10-22T16:24:36.626210Z",
     "iopub.status.idle": "2025-10-22T16:24:55.102403Z",
     "shell.execute_reply": "2025-10-22T16:24:55.101453Z"
    },
    "papermill": {
     "duration": 18.482166,
     "end_time": "2025-10-22T16:24:55.104191",
     "exception": false,
     "start_time": "2025-10-22T16:24:36.622025",
     "status": "completed"
    },
    "tags": []
   },
   "outputs": [
    {
     "name": "stderr",
     "output_type": "stream",
     "text": [
      "2025-10-22 16:24:38.738191: E external/local_xla/xla/stream_executor/cuda/cuda_fft.cc:477] Unable to register cuFFT factory: Attempting to register factory for plugin cuFFT when one has already been registered\n",
      "WARNING: All log messages before absl::InitializeLog() is called are written to STDERR\n",
      "E0000 00:00:1761150278.987390      13 cuda_dnn.cc:8310] Unable to register cuDNN factory: Attempting to register factory for plugin cuDNN when one has already been registered\n",
      "E0000 00:00:1761150279.057768      13 cuda_blas.cc:1418] Unable to register cuBLAS factory: Attempting to register factory for plugin cuBLAS when one has already been registered\n"
     ]
    }
   ],
   "source": [
    "import tensorflow as tf\n",
    "import keras\n",
    "from sklearn.model_selection import train_test_split"
   ]
  },
  {
   "cell_type": "code",
   "execution_count": 9,
   "id": "ecb47162",
   "metadata": {
    "execution": {
     "iopub.execute_input": "2025-10-22T16:24:55.112903Z",
     "iopub.status.busy": "2025-10-22T16:24:55.112201Z",
     "iopub.status.idle": "2025-10-22T16:24:55.276241Z",
     "shell.execute_reply": "2025-10-22T16:24:55.275295Z"
    },
    "papermill": {
     "duration": 0.169861,
     "end_time": "2025-10-22T16:24:55.277734",
     "exception": false,
     "start_time": "2025-10-22T16:24:55.107873",
     "status": "completed"
    },
    "tags": []
   },
   "outputs": [
    {
     "name": "stderr",
     "output_type": "stream",
     "text": [
      "2025-10-22 16:24:55.197041: E external/local_xla/xla/stream_executor/cuda/cuda_driver.cc:152] failed call to cuInit: INTERNAL: CUDA error: Failed call to cuInit: UNKNOWN ERROR (303)\n"
     ]
    }
   ],
   "source": [
    "# Define the model\n",
    "model = tf.keras.Sequential([\n",
    "    tf.keras.layers.Input(shape=(len(input_features),)),\n",
    "    tf.keras.layers.Dense(128, activation='relu'),\n",
    "    tf.keras.layers.Dense(64, activation='relu'),\n",
    "    tf.keras.layers.Dense(32, activation='relu'),\n",
    "    tf.keras.layers.Dense(1, activation='sigmoid')\n",
    "])\n"
   ]
  },
  {
   "cell_type": "code",
   "execution_count": 10,
   "id": "6e84c28b",
   "metadata": {
    "execution": {
     "iopub.execute_input": "2025-10-22T16:24:55.286498Z",
     "iopub.status.busy": "2025-10-22T16:24:55.285604Z",
     "iopub.status.idle": "2025-10-22T16:24:55.301263Z",
     "shell.execute_reply": "2025-10-22T16:24:55.300429Z"
    },
    "papermill": {
     "duration": 0.021587,
     "end_time": "2025-10-22T16:24:55.302887",
     "exception": false,
     "start_time": "2025-10-22T16:24:55.281300",
     "status": "completed"
    },
    "tags": []
   },
   "outputs": [],
   "source": [
    "# Compile the model\n",
    "model.compile(optimizer='ADAM', \n",
    "              loss = tf.keras.losses.MeanAbsoluteError,\n",
    "              metrics=['RootMeanSquaredError'])"
   ]
  },
  {
   "cell_type": "code",
   "execution_count": 11,
   "id": "5089a879",
   "metadata": {
    "execution": {
     "iopub.execute_input": "2025-10-22T16:24:55.311428Z",
     "iopub.status.busy": "2025-10-22T16:24:55.311109Z",
     "iopub.status.idle": "2025-10-22T16:24:55.445826Z",
     "shell.execute_reply": "2025-10-22T16:24:55.444832Z"
    },
    "papermill": {
     "duration": 0.140898,
     "end_time": "2025-10-22T16:24:55.447509",
     "exception": false,
     "start_time": "2025-10-22T16:24:55.306611",
     "status": "completed"
    },
    "tags": []
   },
   "outputs": [],
   "source": [
    "X_train = train_df[input_features].values\n",
    "y_train = train_df['accident_risk'].astype(int).values\n",
    "\n",
    "X_test=test_df[input_features].values\n"
   ]
  },
  {
   "cell_type": "code",
   "execution_count": 12,
   "id": "20b0d90f",
   "metadata": {
    "execution": {
     "iopub.execute_input": "2025-10-22T16:24:55.455842Z",
     "iopub.status.busy": "2025-10-22T16:24:55.455213Z",
     "iopub.status.idle": "2025-10-22T16:25:01.270395Z",
     "shell.execute_reply": "2025-10-22T16:25:01.269471Z"
    },
    "papermill": {
     "duration": 5.820883,
     "end_time": "2025-10-22T16:25:01.271952",
     "exception": false,
     "start_time": "2025-10-22T16:24:55.451069",
     "status": "completed"
    },
    "tags": []
   },
   "outputs": [
    {
     "name": "stdout",
     "output_type": "stream",
     "text": [
      "\u001b[1m829/829\u001b[0m \u001b[32m━━━━━━━━━━━━━━━━━━━━\u001b[0m\u001b[37m\u001b[0m \u001b[1m6s\u001b[0m 4ms/step - RootMeanSquaredError: 0.0836 - loss: 0.0169 - val_RootMeanSquaredError: 0.0088 - val_loss: 7.7260e-05\n"
     ]
    },
    {
     "data": {
      "text/plain": [
       "<keras.src.callbacks.history.History at 0x7dbe6346d110>"
      ]
     },
     "execution_count": 12,
     "metadata": {},
     "output_type": "execute_result"
    }
   ],
   "source": [
    "model.fit(tf.expand_dims(X_train, axis=-1),y_train,epochs=1,batch_size=500,validation_split=0.2)"
   ]
  },
  {
   "cell_type": "code",
   "execution_count": 13,
   "id": "a655d6ff",
   "metadata": {
    "execution": {
     "iopub.execute_input": "2025-10-22T16:25:01.286338Z",
     "iopub.status.busy": "2025-10-22T16:25:01.285489Z",
     "iopub.status.idle": "2025-10-22T16:25:01.316420Z",
     "shell.execute_reply": "2025-10-22T16:25:01.315466Z"
    },
    "papermill": {
     "duration": 0.039625,
     "end_time": "2025-10-22T16:25:01.318154",
     "exception": false,
     "start_time": "2025-10-22T16:25:01.278529",
     "status": "completed"
    },
    "tags": []
   },
   "outputs": [],
   "source": [
    "test_df = test_df.loc[:,~test_df.columns.duplicated()].copy()"
   ]
  },
  {
   "cell_type": "code",
   "execution_count": 14,
   "id": "629ad07a",
   "metadata": {
    "execution": {
     "iopub.execute_input": "2025-10-22T16:25:01.332528Z",
     "iopub.status.busy": "2025-10-22T16:25:01.331508Z",
     "iopub.status.idle": "2025-10-22T16:25:09.784859Z",
     "shell.execute_reply": "2025-10-22T16:25:09.783609Z"
    },
    "papermill": {
     "duration": 8.462279,
     "end_time": "2025-10-22T16:25:09.786563",
     "exception": false,
     "start_time": "2025-10-22T16:25:01.324284",
     "status": "completed"
    },
    "tags": []
   },
   "outputs": [
    {
     "name": "stdout",
     "output_type": "stream",
     "text": [
      "Submission exported to /kaggle/working/submission.csv\n",
      "id,accident_risk\r\n",
      "517754,2.4924163e-14\r\n",
      "517755,2.2925416e-14\r\n",
      "517756,1.6376612e-11\r\n",
      "517757,1.08656695e-11\r\n",
      "517758,8.756728e-12\r\n",
      "517759,1.8832464e-08\r\n",
      "517760,8.4203685e-22\r\n",
      "517761,1.4948201e-08\r\n",
      "517762,1.39245525e-14\r\n"
     ]
    }
   ],
   "source": [
    "def prediction_to_kaggle_format(model, test_df, threshold=0.5):\n",
    "    # Prepare features for predictions using the same input features as used in training\n",
    "    # X_test = test_df[input_features].values  # Ensure input features are consistent\n",
    "    risk = model.predict(X_test, verbose=0)  # Predict probabilities\n",
    "    \n",
    "    # Check the shape of proba_survive\n",
    "    if risk.ndim > 1:\n",
    "        risk = risk[:, 0]  # Flatten if necessary\n",
    "    \n",
    "    # Create the DataFrame for submission\n",
    "    return pd.DataFrame({\n",
    "        \"id\": test_df[\"id\"].values,  # Ensure this is a 1D array\n",
    "        \"accident_risk\": risk  # Convert boolean to string\n",
    "    })\n",
    "\n",
    "def make_submission(kaggle_predictions):\n",
    "    path = \"/kaggle/working/submission.csv\"\n",
    "    kaggle_predictions.to_csv(path, index=False)\n",
    "    print(f\"Submission exported to {path}\")\n",
    "\n",
    "# Generate predictions and make the submission\n",
    "kaggle_predictions = prediction_to_kaggle_format(model, test_df)  # Use preprocessed test_df\n",
    "make_submission(kaggle_predictions)\n",
    "\n",
    "# Optional: Check the first few lines of the submission\n",
    "!head /kaggle/working/submission.csv\n"
   ]
  },
  {
   "cell_type": "code",
   "execution_count": null,
   "id": "aa3775d4",
   "metadata": {
    "papermill": {
     "duration": 0.005696,
     "end_time": "2025-10-22T16:25:09.798456",
     "exception": false,
     "start_time": "2025-10-22T16:25:09.792760",
     "status": "completed"
    },
    "tags": []
   },
   "outputs": [],
   "source": []
  }
 ],
 "metadata": {
  "kaggle": {
   "accelerator": "none",
   "dataSources": [
    {
     "databundleVersionId": 13760552,
     "sourceId": 91721,
     "sourceType": "competition"
    }
   ],
   "dockerImageVersionId": 31153,
   "isGpuEnabled": false,
   "isInternetEnabled": true,
   "language": "python",
   "sourceType": "notebook"
  },
  "kernelspec": {
   "display_name": "Python 3 (ipykernel)",
   "language": "python",
   "name": "python3"
  },
  "language_info": {
   "codemirror_mode": {
    "name": "ipython",
    "version": 3
   },
   "file_extension": ".py",
   "mimetype": "text/x-python",
   "name": "python",
   "nbconvert_exporter": "python",
   "pygments_lexer": "ipython3",
   "version": "3.11.13"
  },
  "papermill": {
   "default_parameters": {},
   "duration": 45.181755,
   "end_time": "2025-10-22T16:25:12.783116",
   "environment_variables": {},
   "exception": null,
   "input_path": "__notebook__.ipynb",
   "output_path": "__notebook__.ipynb",
   "parameters": {},
   "start_time": "2025-10-22T16:24:27.601361",
   "version": "2.6.0"
  }
 },
 "nbformat": 4,
 "nbformat_minor": 5
}

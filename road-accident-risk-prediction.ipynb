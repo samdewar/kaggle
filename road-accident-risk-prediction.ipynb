{
 "cells": [
  {
   "cell_type": "code",
   "execution_count": 1,
   "id": "54d6cfda",
   "metadata": {
    "execution": {
     "iopub.execute_input": "2025-10-23T17:11:32.956302Z",
     "iopub.status.busy": "2025-10-23T17:11:32.955996Z",
     "iopub.status.idle": "2025-10-23T17:11:32.964685Z",
     "shell.execute_reply": "2025-10-23T17:11:32.963753Z"
    },
    "papermill": {
     "duration": 0.015323,
     "end_time": "2025-10-23T17:11:32.966055",
     "exception": false,
     "start_time": "2025-10-23T17:11:32.950732",
     "status": "completed"
    },
    "tags": []
   },
   "outputs": [
    {
     "name": "stdout",
     "output_type": "stream",
     "text": [
      "helloworld\n"
     ]
    }
   ],
   "source": [
    "print('helloworld')"
   ]
  },
  {
   "cell_type": "code",
   "execution_count": 2,
   "id": "51f14c6b",
   "metadata": {
    "execution": {
     "iopub.execute_input": "2025-10-23T17:11:32.973924Z",
     "iopub.status.busy": "2025-10-23T17:11:32.973610Z",
     "iopub.status.idle": "2025-10-23T17:11:34.884211Z",
     "shell.execute_reply": "2025-10-23T17:11:34.883102Z"
    },
    "papermill": {
     "duration": 1.916167,
     "end_time": "2025-10-23T17:11:34.885767",
     "exception": false,
     "start_time": "2025-10-23T17:11:32.969600",
     "status": "completed"
    },
    "tags": []
   },
   "outputs": [
    {
     "name": "stdout",
     "output_type": "stream",
     "text": [
      "/kaggle/input/playground-series-s5e10/sample_submission.csv\n",
      "/kaggle/input/playground-series-s5e10/train.csv\n",
      "/kaggle/input/playground-series-s5e10/test.csv\n"
     ]
    }
   ],
   "source": [
    "# This Python 3 environment comes with many helpful analytics libraries installed\n",
    "# It is defined by the kaggle/python Docker image: https://github.com/kaggle/docker-python\n",
    "# For example, here's several helpful packages to load\n",
    "\n",
    "import numpy as np # linear algebra\n",
    "import pandas as pd # data processing, CSV file I/O (e.g. pd.read_csv)\n",
    "\n",
    "# Input data files are available in the read-only \"../input/\" directory\n",
    "# For example, running this (by clicking run or pressing Shift+Enter) will list all files under the input directory\n",
    "\n",
    "import os\n",
    "for dirname, _, filenames in os.walk('/kaggle/input'):\n",
    "    for filename in filenames:\n",
    "        print(os.path.join(dirname, filename))\n",
    "\n",
    "# You can write up to 20GB to the current directory (/kaggle/working/) that gets preserved as output when you create a version using \"Save & Run All\" \n",
    "# You can also write temporary files to /kaggle/temp/, but they won't be saved outside of the current session\n"
   ]
  },
  {
   "cell_type": "code",
   "execution_count": 3,
   "id": "c54c4787",
   "metadata": {
    "execution": {
     "iopub.execute_input": "2025-10-23T17:11:34.893953Z",
     "iopub.status.busy": "2025-10-23T17:11:34.893512Z",
     "iopub.status.idle": "2025-10-23T17:11:36.338241Z",
     "shell.execute_reply": "2025-10-23T17:11:36.337405Z"
    },
    "papermill": {
     "duration": 1.450529,
     "end_time": "2025-10-23T17:11:36.339785",
     "exception": false,
     "start_time": "2025-10-23T17:11:34.889256",
     "status": "completed"
    },
    "tags": []
   },
   "outputs": [],
   "source": [
    "train_df=pd.read_csv('/kaggle/input/playground-series-s5e10/train.csv')\n",
    "test_df=pd.read_csv('/kaggle/input/playground-series-s5e10/test.csv')"
   ]
  },
  {
   "cell_type": "code",
   "execution_count": 4,
   "id": "dc3dfe1a",
   "metadata": {
    "execution": {
     "iopub.execute_input": "2025-10-23T17:11:36.347772Z",
     "iopub.status.busy": "2025-10-23T17:11:36.347463Z",
     "iopub.status.idle": "2025-10-23T17:11:36.356169Z",
     "shell.execute_reply": "2025-10-23T17:11:36.355221Z"
    },
    "papermill": {
     "duration": 0.014207,
     "end_time": "2025-10-23T17:11:36.357530",
     "exception": false,
     "start_time": "2025-10-23T17:11:36.343323",
     "status": "completed"
    },
    "tags": []
   },
   "outputs": [],
   "source": [
    "def preprocess(df):\n",
    "\n",
    "\n",
    "    \n",
    "\n",
    "    \n",
    "    def bool_to_int(df):\n",
    "        bool_cols = df.select_dtypes(include='bool').columns\n",
    "        df[bool_cols] = df[bool_cols].astype(int)\n",
    "        return df\n",
    "\n",
    "\n",
    "    def handle_road_type(x):\n",
    "        if x == 'rural':\n",
    "            return 0\n",
    "        elif x == 'urban':\n",
    "            return 1\n",
    "        elif x == 'highway':\n",
    "            return 2\n",
    "        else:\n",
    "            return -1\n",
    "\n",
    "\n",
    "    def handle_lighting(x):\n",
    "        if x== 'night':\n",
    "            return 0\n",
    "        elif x=='dim':\n",
    "            return 1\n",
    "        elif x=='daylight':\n",
    "            return 2\n",
    "        else: return -1\n",
    "\n",
    "    def handle_time_of_day(x):\n",
    "        if x=='morning':\n",
    "            return 0\n",
    "        elif x=='afternoon':\n",
    "            return 1\n",
    "        elif x=='evening':\n",
    "            return 2\n",
    "    \n",
    "        else: return -1\n",
    "\n",
    "    def handle_weather(df):\n",
    "        id_col=df['id']\n",
    "        dums=pd.get_dummies(df['weather'],dummy_na=False)\n",
    "        remaining=df.drop(columns=['weather'])\n",
    "        df = pd.concat([id_col.reset_index(drop=True), remaining.reset_index(drop=True), dums.reset_index(drop=True)], axis=1)\n",
    "        return df\n",
    "    df['road_type']=df['road_type'].apply(handle_road_type)\n",
    "    df['time_of_day']=df['time_of_day'].apply(handle_time_of_day)\n",
    "    df['lighting']=df['lighting'].apply(handle_lighting)\n",
    "\n",
    "    df=handle_weather(df)\n",
    "\n",
    "    df=bool_to_int(df)\n",
    "\n",
    "\n",
    "    return df\n"
   ]
  },
  {
   "cell_type": "code",
   "execution_count": 5,
   "id": "6f9eb289",
   "metadata": {
    "execution": {
     "iopub.execute_input": "2025-10-23T17:11:36.365488Z",
     "iopub.status.busy": "2025-10-23T17:11:36.364732Z",
     "iopub.status.idle": "2025-10-23T17:11:37.338438Z",
     "shell.execute_reply": "2025-10-23T17:11:37.337489Z"
    },
    "papermill": {
     "duration": 0.979252,
     "end_time": "2025-10-23T17:11:37.340092",
     "exception": false,
     "start_time": "2025-10-23T17:11:36.360840",
     "status": "completed"
    },
    "tags": []
   },
   "outputs": [],
   "source": [
    "train_df=preprocess(train_df)\n",
    "test_df=preprocess(test_df)"
   ]
  },
  {
   "cell_type": "code",
   "execution_count": 6,
   "id": "2c5039d9",
   "metadata": {
    "execution": {
     "iopub.execute_input": "2025-10-23T17:11:37.348030Z",
     "iopub.status.busy": "2025-10-23T17:11:37.347344Z",
     "iopub.status.idle": "2025-10-23T17:11:37.376684Z",
     "shell.execute_reply": "2025-10-23T17:11:37.375576Z"
    },
    "papermill": {
     "duration": 0.034784,
     "end_time": "2025-10-23T17:11:37.378252",
     "exception": false,
     "start_time": "2025-10-23T17:11:37.343468",
     "status": "completed"
    },
    "tags": []
   },
   "outputs": [
    {
     "name": "stdout",
     "output_type": "stream",
     "text": [
      "<class 'pandas.core.frame.DataFrame'>\n",
      "RangeIndex: 517754 entries, 0 to 517753\n",
      "Data columns (total 17 columns):\n",
      " #   Column                  Non-Null Count   Dtype  \n",
      "---  ------                  --------------   -----  \n",
      " 0   id                      517754 non-null  int64  \n",
      " 1   id                      517754 non-null  int64  \n",
      " 2   road_type               517754 non-null  int64  \n",
      " 3   num_lanes               517754 non-null  int64  \n",
      " 4   curvature               517754 non-null  float64\n",
      " 5   speed_limit             517754 non-null  int64  \n",
      " 6   lighting                517754 non-null  int64  \n",
      " 7   road_signs_present      517754 non-null  int64  \n",
      " 8   public_road             517754 non-null  int64  \n",
      " 9   time_of_day             517754 non-null  int64  \n",
      " 10  holiday                 517754 non-null  int64  \n",
      " 11  school_season           517754 non-null  int64  \n",
      " 12  num_reported_accidents  517754 non-null  int64  \n",
      " 13  accident_risk           517754 non-null  float64\n",
      " 14  clear                   517754 non-null  int64  \n",
      " 15  foggy                   517754 non-null  int64  \n",
      " 16  rainy                   517754 non-null  int64  \n",
      "dtypes: float64(2), int64(15)\n",
      "memory usage: 67.2 MB\n"
     ]
    }
   ],
   "source": [
    "train_df.info()"
   ]
  },
  {
   "cell_type": "code",
   "execution_count": 7,
   "id": "502b5604",
   "metadata": {
    "execution": {
     "iopub.execute_input": "2025-10-23T17:11:37.386313Z",
     "iopub.status.busy": "2025-10-23T17:11:37.385756Z",
     "iopub.status.idle": "2025-10-23T17:11:37.392790Z",
     "shell.execute_reply": "2025-10-23T17:11:37.391924Z"
    },
    "papermill": {
     "duration": 0.012652,
     "end_time": "2025-10-23T17:11:37.394225",
     "exception": false,
     "start_time": "2025-10-23T17:11:37.381573",
     "status": "completed"
    },
    "tags": []
   },
   "outputs": [
    {
     "data": {
      "text/plain": [
       "['road_type',\n",
       " 'num_lanes',\n",
       " 'curvature',\n",
       " 'speed_limit',\n",
       " 'lighting',\n",
       " 'road_signs_present',\n",
       " 'public_road',\n",
       " 'time_of_day',\n",
       " 'holiday',\n",
       " 'school_season',\n",
       " 'num_reported_accidents',\n",
       " 'clear',\n",
       " 'foggy',\n",
       " 'rainy']"
      ]
     },
     "execution_count": 7,
     "metadata": {},
     "output_type": "execute_result"
    }
   ],
   "source": [
    "input_features=list(train_df.columns)\n",
    "input_features.remove('id')\n",
    "input_features.remove('id')\n",
    "\n",
    "input_features.remove('accident_risk')\n",
    "input_features"
   ]
  },
  {
   "cell_type": "code",
   "execution_count": 8,
   "id": "9e5470db",
   "metadata": {
    "execution": {
     "iopub.execute_input": "2025-10-23T17:11:37.402185Z",
     "iopub.status.busy": "2025-10-23T17:11:37.401846Z",
     "iopub.status.idle": "2025-10-23T17:11:55.003929Z",
     "shell.execute_reply": "2025-10-23T17:11:55.002956Z"
    },
    "papermill": {
     "duration": 17.607838,
     "end_time": "2025-10-23T17:11:55.005683",
     "exception": false,
     "start_time": "2025-10-23T17:11:37.397845",
     "status": "completed"
    },
    "tags": []
   },
   "outputs": [
    {
     "name": "stderr",
     "output_type": "stream",
     "text": [
      "2025-10-23 17:11:39.349907: E external/local_xla/xla/stream_executor/cuda/cuda_fft.cc:477] Unable to register cuFFT factory: Attempting to register factory for plugin cuFFT when one has already been registered\n",
      "WARNING: All log messages before absl::InitializeLog() is called are written to STDERR\n",
      "E0000 00:00:1761239499.591860      13 cuda_dnn.cc:8310] Unable to register cuDNN factory: Attempting to register factory for plugin cuDNN when one has already been registered\n",
      "E0000 00:00:1761239499.663659      13 cuda_blas.cc:1418] Unable to register cuBLAS factory: Attempting to register factory for plugin cuBLAS when one has already been registered\n"
     ]
    }
   ],
   "source": [
    "import tensorflow as tf\n",
    "import keras\n",
    "from sklearn.model_selection import train_test_split"
   ]
  },
  {
   "cell_type": "code",
   "execution_count": 9,
   "id": "2b8f8d7c",
   "metadata": {
    "execution": {
     "iopub.execute_input": "2025-10-23T17:11:55.014520Z",
     "iopub.status.busy": "2025-10-23T17:11:55.013899Z",
     "iopub.status.idle": "2025-10-23T17:11:55.178090Z",
     "shell.execute_reply": "2025-10-23T17:11:55.177002Z"
    },
    "papermill": {
     "duration": 0.170393,
     "end_time": "2025-10-23T17:11:55.179685",
     "exception": false,
     "start_time": "2025-10-23T17:11:55.009292",
     "status": "completed"
    },
    "tags": []
   },
   "outputs": [
    {
     "name": "stderr",
     "output_type": "stream",
     "text": [
      "2025-10-23 17:11:55.096995: E external/local_xla/xla/stream_executor/cuda/cuda_driver.cc:152] failed call to cuInit: INTERNAL: CUDA error: Failed call to cuInit: UNKNOWN ERROR (303)\n"
     ]
    }
   ],
   "source": [
    "# Define the model\n",
    "model = tf.keras.Sequential([\n",
    "    tf.keras.layers.Input(shape=(len(input_features),)),\n",
    "    tf.keras.layers.Dense(128, activation='elu'),\n",
    "    tf.keras.layers.Dense(64, activation='elu'),\n",
    "    tf.keras.layers.Dense(32, activation='elu'),\n",
    "    tf.keras.layers.Dense(1, activation='elu')\n",
    "])\n"
   ]
  },
  {
   "cell_type": "code",
   "execution_count": 10,
   "id": "09ca1956",
   "metadata": {
    "execution": {
     "iopub.execute_input": "2025-10-23T17:11:55.187920Z",
     "iopub.status.busy": "2025-10-23T17:11:55.187577Z",
     "iopub.status.idle": "2025-10-23T17:11:55.201939Z",
     "shell.execute_reply": "2025-10-23T17:11:55.200997Z"
    },
    "papermill": {
     "duration": 0.020275,
     "end_time": "2025-10-23T17:11:55.203545",
     "exception": false,
     "start_time": "2025-10-23T17:11:55.183270",
     "status": "completed"
    },
    "tags": []
   },
   "outputs": [],
   "source": [
    "# Compile the model\n",
    "model.compile(optimizer='ADAM', \n",
    "              loss = tf.keras.losses.MeanAbsoluteError,\n",
    "              metrics=['RootMeanSquaredError'])"
   ]
  },
  {
   "cell_type": "code",
   "execution_count": 11,
   "id": "96c37428",
   "metadata": {
    "execution": {
     "iopub.execute_input": "2025-10-23T17:11:55.212775Z",
     "iopub.status.busy": "2025-10-23T17:11:55.212414Z",
     "iopub.status.idle": "2025-10-23T17:11:55.497909Z",
     "shell.execute_reply": "2025-10-23T17:11:55.496922Z"
    },
    "papermill": {
     "duration": 0.292705,
     "end_time": "2025-10-23T17:11:55.499739",
     "exception": false,
     "start_time": "2025-10-23T17:11:55.207034",
     "status": "completed"
    },
    "tags": []
   },
   "outputs": [],
   "source": [
    "from sklearn.preprocessing import StandardScaler\n",
    "scaler = StandardScaler()\n",
    "\n",
    "\n",
    "\n",
    "X_train = train_df[input_features].values\n",
    "y_train = train_df['accident_risk']#.astype(int).values\n",
    "\n",
    "X_test=test_df[input_features].values\n",
    "\n",
    "\n",
    "X_train_scaled = scaler.fit_transform(X_train)\n",
    "X_test_scaled = scaler.transform(X_test)\n",
    "#449"
   ]
  },
  {
   "cell_type": "code",
   "execution_count": 12,
   "id": "cd4a5349",
   "metadata": {
    "execution": {
     "iopub.execute_input": "2025-10-23T17:11:55.509702Z",
     "iopub.status.busy": "2025-10-23T17:11:55.509362Z",
     "iopub.status.idle": "2025-10-23T17:35:37.511754Z",
     "shell.execute_reply": "2025-10-23T17:35:37.510754Z"
    },
    "papermill": {
     "duration": 1422.009123,
     "end_time": "2025-10-23T17:35:37.513350",
     "exception": false,
     "start_time": "2025-10-23T17:11:55.504227",
     "status": "completed"
    },
    "tags": []
   },
   "outputs": [
    {
     "name": "stdout",
     "output_type": "stream",
     "text": [
      "Epoch 1/50\n",
      "\u001b[1m12944/12944\u001b[0m \u001b[32m━━━━━━━━━━━━━━━━━━━━\u001b[0m\u001b[37m\u001b[0m \u001b[1m30s\u001b[0m 2ms/step - RootMeanSquaredError: 0.0780 - loss: 0.0583 - val_RootMeanSquaredError: 0.0603 - val_loss: 0.0467\n",
      "Epoch 2/50\n",
      "\u001b[1m12944/12944\u001b[0m \u001b[32m━━━━━━━━━━━━━━━━━━━━\u001b[0m\u001b[37m\u001b[0m \u001b[1m28s\u001b[0m 2ms/step - RootMeanSquaredError: 0.0606 - loss: 0.0472 - val_RootMeanSquaredError: 0.0582 - val_loss: 0.0452\n",
      "Epoch 3/50\n",
      "\u001b[1m12944/12944\u001b[0m \u001b[32m━━━━━━━━━━━━━━━━━━━━\u001b[0m\u001b[37m\u001b[0m \u001b[1m28s\u001b[0m 2ms/step - RootMeanSquaredError: 0.0595 - loss: 0.0462 - val_RootMeanSquaredError: 0.0579 - val_loss: 0.0450\n",
      "Epoch 4/50\n",
      "\u001b[1m12944/12944\u001b[0m \u001b[32m━━━━━━━━━━━━━━━━━━━━\u001b[0m\u001b[37m\u001b[0m \u001b[1m28s\u001b[0m 2ms/step - RootMeanSquaredError: 0.0587 - loss: 0.0456 - val_RootMeanSquaredError: 0.0574 - val_loss: 0.0448\n",
      "Epoch 5/50\n",
      "\u001b[1m12944/12944\u001b[0m \u001b[32m━━━━━━━━━━━━━━━━━━━━\u001b[0m\u001b[37m\u001b[0m \u001b[1m28s\u001b[0m 2ms/step - RootMeanSquaredError: 0.0586 - loss: 0.0454 - val_RootMeanSquaredError: 0.0582 - val_loss: 0.0453\n",
      "Epoch 6/50\n",
      "\u001b[1m12944/12944\u001b[0m \u001b[32m━━━━━━━━━━━━━━━━━━━━\u001b[0m\u001b[37m\u001b[0m \u001b[1m28s\u001b[0m 2ms/step - RootMeanSquaredError: 0.0583 - loss: 0.0452 - val_RootMeanSquaredError: 0.0575 - val_loss: 0.0447\n",
      "Epoch 7/50\n",
      "\u001b[1m12944/12944\u001b[0m \u001b[32m━━━━━━━━━━━━━━━━━━━━\u001b[0m\u001b[37m\u001b[0m \u001b[1m27s\u001b[0m 2ms/step - RootMeanSquaredError: 0.0581 - loss: 0.0451 - val_RootMeanSquaredError: 0.0582 - val_loss: 0.0454\n",
      "Epoch 8/50\n",
      "\u001b[1m12944/12944\u001b[0m \u001b[32m━━━━━━━━━━━━━━━━━━━━\u001b[0m\u001b[37m\u001b[0m \u001b[1m28s\u001b[0m 2ms/step - RootMeanSquaredError: 0.0581 - loss: 0.0450 - val_RootMeanSquaredError: 0.0582 - val_loss: 0.0451\n",
      "Epoch 9/50\n",
      "\u001b[1m12944/12944\u001b[0m \u001b[32m━━━━━━━━━━━━━━━━━━━━\u001b[0m\u001b[37m\u001b[0m \u001b[1m28s\u001b[0m 2ms/step - RootMeanSquaredError: 0.0581 - loss: 0.0450 - val_RootMeanSquaredError: 0.0577 - val_loss: 0.0449\n",
      "Epoch 10/50\n",
      "\u001b[1m12944/12944\u001b[0m \u001b[32m━━━━━━━━━━━━━━━━━━━━\u001b[0m\u001b[37m\u001b[0m \u001b[1m28s\u001b[0m 2ms/step - RootMeanSquaredError: 0.0578 - loss: 0.0449 - val_RootMeanSquaredError: 0.0576 - val_loss: 0.0448\n",
      "Epoch 11/50\n",
      "\u001b[1m12944/12944\u001b[0m \u001b[32m━━━━━━━━━━━━━━━━━━━━\u001b[0m\u001b[37m\u001b[0m \u001b[1m28s\u001b[0m 2ms/step - RootMeanSquaredError: 0.0579 - loss: 0.0449 - val_RootMeanSquaredError: 0.0571 - val_loss: 0.0443\n",
      "Epoch 12/50\n",
      "\u001b[1m12944/12944\u001b[0m \u001b[32m━━━━━━━━━━━━━━━━━━━━\u001b[0m\u001b[37m\u001b[0m \u001b[1m29s\u001b[0m 2ms/step - RootMeanSquaredError: 0.0579 - loss: 0.0448 - val_RootMeanSquaredError: 0.0571 - val_loss: 0.0445\n",
      "Epoch 13/50\n",
      "\u001b[1m12944/12944\u001b[0m \u001b[32m━━━━━━━━━━━━━━━━━━━━\u001b[0m\u001b[37m\u001b[0m \u001b[1m28s\u001b[0m 2ms/step - RootMeanSquaredError: 0.0579 - loss: 0.0449 - val_RootMeanSquaredError: 0.0573 - val_loss: 0.0445\n",
      "Epoch 14/50\n",
      "\u001b[1m12944/12944\u001b[0m \u001b[32m━━━━━━━━━━━━━━━━━━━━\u001b[0m\u001b[37m\u001b[0m \u001b[1m28s\u001b[0m 2ms/step - RootMeanSquaredError: 0.0581 - loss: 0.0448 - val_RootMeanSquaredError: 0.0570 - val_loss: 0.0443\n",
      "Epoch 15/50\n",
      "\u001b[1m12944/12944\u001b[0m \u001b[32m━━━━━━━━━━━━━━━━━━━━\u001b[0m\u001b[37m\u001b[0m \u001b[1m29s\u001b[0m 2ms/step - RootMeanSquaredError: 0.0576 - loss: 0.0447 - val_RootMeanSquaredError: 0.0572 - val_loss: 0.0444\n",
      "Epoch 16/50\n",
      "\u001b[1m12944/12944\u001b[0m \u001b[32m━━━━━━━━━━━━━━━━━━━━\u001b[0m\u001b[37m\u001b[0m \u001b[1m30s\u001b[0m 2ms/step - RootMeanSquaredError: 0.0577 - loss: 0.0448 - val_RootMeanSquaredError: 0.0571 - val_loss: 0.0443\n",
      "Epoch 17/50\n",
      "\u001b[1m12944/12944\u001b[0m \u001b[32m━━━━━━━━━━━━━━━━━━━━\u001b[0m\u001b[37m\u001b[0m \u001b[1m29s\u001b[0m 2ms/step - RootMeanSquaredError: 0.0578 - loss: 0.0447 - val_RootMeanSquaredError: 0.0570 - val_loss: 0.0442\n",
      "Epoch 18/50\n",
      "\u001b[1m12944/12944\u001b[0m \u001b[32m━━━━━━━━━━━━━━━━━━━━\u001b[0m\u001b[37m\u001b[0m \u001b[1m29s\u001b[0m 2ms/step - RootMeanSquaredError: 0.0576 - loss: 0.0446 - val_RootMeanSquaredError: 0.0574 - val_loss: 0.0444\n",
      "Epoch 19/50\n",
      "\u001b[1m12944/12944\u001b[0m \u001b[32m━━━━━━━━━━━━━━━━━━━━\u001b[0m\u001b[37m\u001b[0m \u001b[1m29s\u001b[0m 2ms/step - RootMeanSquaredError: 0.0577 - loss: 0.0448 - val_RootMeanSquaredError: 0.0584 - val_loss: 0.0453\n",
      "Epoch 20/50\n",
      "\u001b[1m12944/12944\u001b[0m \u001b[32m━━━━━━━━━━━━━━━━━━━━\u001b[0m\u001b[37m\u001b[0m \u001b[1m29s\u001b[0m 2ms/step - RootMeanSquaredError: 0.0579 - loss: 0.0447 - val_RootMeanSquaredError: 0.0576 - val_loss: 0.0446\n",
      "Epoch 21/50\n",
      "\u001b[1m12944/12944\u001b[0m \u001b[32m━━━━━━━━━━━━━━━━━━━━\u001b[0m\u001b[37m\u001b[0m \u001b[1m28s\u001b[0m 2ms/step - RootMeanSquaredError: 0.0578 - loss: 0.0448 - val_RootMeanSquaredError: 0.0574 - val_loss: 0.0445\n",
      "Epoch 22/50\n",
      "\u001b[1m12944/12944\u001b[0m \u001b[32m━━━━━━━━━━━━━━━━━━━━\u001b[0m\u001b[37m\u001b[0m \u001b[1m28s\u001b[0m 2ms/step - RootMeanSquaredError: 0.0576 - loss: 0.0446 - val_RootMeanSquaredError: 0.0579 - val_loss: 0.0448\n",
      "Epoch 23/50\n",
      "\u001b[1m12944/12944\u001b[0m \u001b[32m━━━━━━━━━━━━━━━━━━━━\u001b[0m\u001b[37m\u001b[0m \u001b[1m29s\u001b[0m 2ms/step - RootMeanSquaredError: 0.0576 - loss: 0.0446 - val_RootMeanSquaredError: 0.0579 - val_loss: 0.0451\n",
      "Epoch 24/50\n",
      "\u001b[1m12944/12944\u001b[0m \u001b[32m━━━━━━━━━━━━━━━━━━━━\u001b[0m\u001b[37m\u001b[0m \u001b[1m29s\u001b[0m 2ms/step - RootMeanSquaredError: 0.0578 - loss: 0.0447 - val_RootMeanSquaredError: 0.0569 - val_loss: 0.0442\n",
      "Epoch 25/50\n",
      "\u001b[1m12944/12944\u001b[0m \u001b[32m━━━━━━━━━━━━━━━━━━━━\u001b[0m\u001b[37m\u001b[0m \u001b[1m29s\u001b[0m 2ms/step - RootMeanSquaredError: 0.0576 - loss: 0.0446 - val_RootMeanSquaredError: 0.0582 - val_loss: 0.0453\n",
      "Epoch 26/50\n",
      "\u001b[1m12944/12944\u001b[0m \u001b[32m━━━━━━━━━━━━━━━━━━━━\u001b[0m\u001b[37m\u001b[0m \u001b[1m29s\u001b[0m 2ms/step - RootMeanSquaredError: 0.0578 - loss: 0.0447 - val_RootMeanSquaredError: 0.0577 - val_loss: 0.0447\n",
      "Epoch 27/50\n",
      "\u001b[1m12944/12944\u001b[0m \u001b[32m━━━━━━━━━━━━━━━━━━━━\u001b[0m\u001b[37m\u001b[0m \u001b[1m28s\u001b[0m 2ms/step - RootMeanSquaredError: 0.0575 - loss: 0.0446 - val_RootMeanSquaredError: 0.0573 - val_loss: 0.0445\n",
      "Epoch 28/50\n",
      "\u001b[1m12944/12944\u001b[0m \u001b[32m━━━━━━━━━━━━━━━━━━━━\u001b[0m\u001b[37m\u001b[0m \u001b[1m28s\u001b[0m 2ms/step - RootMeanSquaredError: 0.0577 - loss: 0.0446 - val_RootMeanSquaredError: 0.0575 - val_loss: 0.0446\n",
      "Epoch 29/50\n",
      "\u001b[1m12944/12944\u001b[0m \u001b[32m━━━━━━━━━━━━━━━━━━━━\u001b[0m\u001b[37m\u001b[0m \u001b[1m28s\u001b[0m 2ms/step - RootMeanSquaredError: 0.0576 - loss: 0.0446 - val_RootMeanSquaredError: 0.0569 - val_loss: 0.0442\n",
      "Epoch 30/50\n",
      "\u001b[1m12944/12944\u001b[0m \u001b[32m━━━━━━━━━━━━━━━━━━━━\u001b[0m\u001b[37m\u001b[0m \u001b[1m28s\u001b[0m 2ms/step - RootMeanSquaredError: 0.0575 - loss: 0.0445 - val_RootMeanSquaredError: 0.0570 - val_loss: 0.0443\n",
      "Epoch 31/50\n",
      "\u001b[1m12944/12944\u001b[0m \u001b[32m━━━━━━━━━━━━━━━━━━━━\u001b[0m\u001b[37m\u001b[0m \u001b[1m29s\u001b[0m 2ms/step - RootMeanSquaredError: 0.0575 - loss: 0.0445 - val_RootMeanSquaredError: 0.0569 - val_loss: 0.0441\n",
      "Epoch 32/50\n",
      "\u001b[1m12944/12944\u001b[0m \u001b[32m━━━━━━━━━━━━━━━━━━━━\u001b[0m\u001b[37m\u001b[0m \u001b[1m29s\u001b[0m 2ms/step - RootMeanSquaredError: 0.0577 - loss: 0.0446 - val_RootMeanSquaredError: 0.0575 - val_loss: 0.0449\n",
      "Epoch 33/50\n",
      "\u001b[1m12944/12944\u001b[0m \u001b[32m━━━━━━━━━━━━━━━━━━━━\u001b[0m\u001b[37m\u001b[0m \u001b[1m28s\u001b[0m 2ms/step - RootMeanSquaredError: 0.0576 - loss: 0.0446 - val_RootMeanSquaredError: 0.0571 - val_loss: 0.0444\n",
      "Epoch 34/50\n",
      "\u001b[1m12944/12944\u001b[0m \u001b[32m━━━━━━━━━━━━━━━━━━━━\u001b[0m\u001b[37m\u001b[0m \u001b[1m29s\u001b[0m 2ms/step - RootMeanSquaredError: 0.0576 - loss: 0.0446 - val_RootMeanSquaredError: 0.0576 - val_loss: 0.0447\n",
      "Epoch 35/50\n",
      "\u001b[1m12944/12944\u001b[0m \u001b[32m━━━━━━━━━━━━━━━━━━━━\u001b[0m\u001b[37m\u001b[0m \u001b[1m28s\u001b[0m 2ms/step - RootMeanSquaredError: 0.0575 - loss: 0.0446 - val_RootMeanSquaredError: 0.0569 - val_loss: 0.0442\n",
      "Epoch 36/50\n",
      "\u001b[1m12944/12944\u001b[0m \u001b[32m━━━━━━━━━━━━━━━━━━━━\u001b[0m\u001b[37m\u001b[0m \u001b[1m28s\u001b[0m 2ms/step - RootMeanSquaredError: 0.0577 - loss: 0.0446 - val_RootMeanSquaredError: 0.0569 - val_loss: 0.0442\n",
      "Epoch 37/50\n",
      "\u001b[1m12944/12944\u001b[0m \u001b[32m━━━━━━━━━━━━━━━━━━━━\u001b[0m\u001b[37m\u001b[0m \u001b[1m28s\u001b[0m 2ms/step - RootMeanSquaredError: 0.0575 - loss: 0.0446 - val_RootMeanSquaredError: 0.0567 - val_loss: 0.0440\n",
      "Epoch 38/50\n",
      "\u001b[1m12944/12944\u001b[0m \u001b[32m━━━━━━━━━━━━━━━━━━━━\u001b[0m\u001b[37m\u001b[0m \u001b[1m29s\u001b[0m 2ms/step - RootMeanSquaredError: 0.0575 - loss: 0.0445 - val_RootMeanSquaredError: 0.0569 - val_loss: 0.0442\n",
      "Epoch 39/50\n",
      "\u001b[1m12944/12944\u001b[0m \u001b[32m━━━━━━━━━━━━━━━━━━━━\u001b[0m\u001b[37m\u001b[0m \u001b[1m28s\u001b[0m 2ms/step - RootMeanSquaredError: 0.0575 - loss: 0.0445 - val_RootMeanSquaredError: 0.0571 - val_loss: 0.0444\n",
      "Epoch 40/50\n",
      "\u001b[1m12944/12944\u001b[0m \u001b[32m━━━━━━━━━━━━━━━━━━━━\u001b[0m\u001b[37m\u001b[0m \u001b[1m29s\u001b[0m 2ms/step - RootMeanSquaredError: 0.0577 - loss: 0.0446 - val_RootMeanSquaredError: 0.0574 - val_loss: 0.0445\n",
      "Epoch 41/50\n",
      "\u001b[1m12944/12944\u001b[0m \u001b[32m━━━━━━━━━━━━━━━━━━━━\u001b[0m\u001b[37m\u001b[0m \u001b[1m28s\u001b[0m 2ms/step - RootMeanSquaredError: 0.0575 - loss: 0.0445 - val_RootMeanSquaredError: 0.0572 - val_loss: 0.0445\n",
      "Epoch 42/50\n",
      "\u001b[1m12944/12944\u001b[0m \u001b[32m━━━━━━━━━━━━━━━━━━━━\u001b[0m\u001b[37m\u001b[0m \u001b[1m29s\u001b[0m 2ms/step - RootMeanSquaredError: 0.0576 - loss: 0.0446 - val_RootMeanSquaredError: 0.0570 - val_loss: 0.0443\n",
      "Epoch 43/50\n",
      "\u001b[1m12944/12944\u001b[0m \u001b[32m━━━━━━━━━━━━━━━━━━━━\u001b[0m\u001b[37m\u001b[0m \u001b[1m28s\u001b[0m 2ms/step - RootMeanSquaredError: 0.0577 - loss: 0.0446 - val_RootMeanSquaredError: 0.0585 - val_loss: 0.0453\n",
      "Epoch 44/50\n",
      "\u001b[1m12944/12944\u001b[0m \u001b[32m━━━━━━━━━━━━━━━━━━━━\u001b[0m\u001b[37m\u001b[0m \u001b[1m28s\u001b[0m 2ms/step - RootMeanSquaredError: 0.0575 - loss: 0.0445 - val_RootMeanSquaredError: 0.0575 - val_loss: 0.0446\n",
      "Epoch 45/50\n",
      "\u001b[1m12944/12944\u001b[0m \u001b[32m━━━━━━━━━━━━━━━━━━━━\u001b[0m\u001b[37m\u001b[0m \u001b[1m28s\u001b[0m 2ms/step - RootMeanSquaredError: 0.0576 - loss: 0.0445 - val_RootMeanSquaredError: 0.0571 - val_loss: 0.0442\n",
      "Epoch 46/50\n",
      "\u001b[1m12944/12944\u001b[0m \u001b[32m━━━━━━━━━━━━━━━━━━━━\u001b[0m\u001b[37m\u001b[0m \u001b[1m28s\u001b[0m 2ms/step - RootMeanSquaredError: 0.0576 - loss: 0.0445 - val_RootMeanSquaredError: 0.0569 - val_loss: 0.0442\n",
      "Epoch 47/50\n",
      "\u001b[1m12944/12944\u001b[0m \u001b[32m━━━━━━━━━━━━━━━━━━━━\u001b[0m\u001b[37m\u001b[0m \u001b[1m28s\u001b[0m 2ms/step - RootMeanSquaredError: 0.0575 - loss: 0.0445 - val_RootMeanSquaredError: 0.0572 - val_loss: 0.0445\n",
      "Epoch 48/50\n",
      "\u001b[1m12944/12944\u001b[0m \u001b[32m━━━━━━━━━━━━━━━━━━━━\u001b[0m\u001b[37m\u001b[0m \u001b[1m28s\u001b[0m 2ms/step - RootMeanSquaredError: 0.0574 - loss: 0.0444 - val_RootMeanSquaredError: 0.0572 - val_loss: 0.0442\n",
      "Epoch 49/50\n",
      "\u001b[1m12944/12944\u001b[0m \u001b[32m━━━━━━━━━━━━━━━━━━━━\u001b[0m\u001b[37m\u001b[0m \u001b[1m28s\u001b[0m 2ms/step - RootMeanSquaredError: 0.0578 - loss: 0.0446 - val_RootMeanSquaredError: 0.0573 - val_loss: 0.0445\n",
      "Epoch 50/50\n",
      "\u001b[1m12944/12944\u001b[0m \u001b[32m━━━━━━━━━━━━━━━━━━━━\u001b[0m\u001b[37m\u001b[0m \u001b[1m28s\u001b[0m 2ms/step - RootMeanSquaredError: 0.0576 - loss: 0.0445 - val_RootMeanSquaredError: 0.0575 - val_loss: 0.0447\n"
     ]
    },
    {
     "data": {
      "text/plain": [
       "<keras.src.callbacks.history.History at 0x7933d88ac510>"
      ]
     },
     "execution_count": 12,
     "metadata": {},
     "output_type": "execute_result"
    }
   ],
   "source": [
    "model.fit(tf.expand_dims(X_train_scaled, axis=-1),y_train,epochs=50,batch_size=32,validation_split=0.2)"
   ]
  },
  {
   "cell_type": "code",
   "execution_count": 13,
   "id": "c337232c",
   "metadata": {
    "execution": {
     "iopub.execute_input": "2025-10-23T17:35:40.030044Z",
     "iopub.status.busy": "2025-10-23T17:35:40.029505Z",
     "iopub.status.idle": "2025-10-23T17:35:40.058194Z",
     "shell.execute_reply": "2025-10-23T17:35:40.057206Z"
    },
    "papermill": {
     "duration": 1.218424,
     "end_time": "2025-10-23T17:35:40.059795",
     "exception": false,
     "start_time": "2025-10-23T17:35:38.841371",
     "status": "completed"
    },
    "tags": []
   },
   "outputs": [],
   "source": [
    "test_df = test_df.loc[:,~test_df.columns.duplicated()].copy()"
   ]
  },
  {
   "cell_type": "code",
   "execution_count": 14,
   "id": "5aa3519e",
   "metadata": {
    "execution": {
     "iopub.execute_input": "2025-10-23T17:35:42.546556Z",
     "iopub.status.busy": "2025-10-23T17:35:42.546233Z",
     "iopub.status.idle": "2025-10-23T17:35:50.947895Z",
     "shell.execute_reply": "2025-10-23T17:35:50.946195Z"
    },
    "papermill": {
     "duration": 9.572117,
     "end_time": "2025-10-23T17:35:50.950426",
     "exception": false,
     "start_time": "2025-10-23T17:35:41.378309",
     "status": "completed"
    },
    "tags": []
   },
   "outputs": [
    {
     "name": "stdout",
     "output_type": "stream",
     "text": [
      "Submission exported to /kaggle/working/submission.csv\n",
      "id,accident_risk\r\n",
      "517754,0.28292933\r\n",
      "517755,0.12837091\r\n",
      "517756,0.19100678\r\n",
      "517757,0.30097404\r\n",
      "517758,0.38816816\r\n",
      "517759,0.4322775\r\n",
      "517760,0.27069366\r\n",
      "517761,0.20696464\r\n",
      "517762,0.34740508\r\n"
     ]
    }
   ],
   "source": [
    "def prediction_to_kaggle_format(model, test_df):\n",
    "    # Prepare features for predictions using the same input features as used in training\n",
    "    # X_test = test_df[input_features].values  # Ensure input features are consistent\n",
    "    risk = model.predict(X_test_scaled, verbose=0)  # Predict probabilities\n",
    "    \n",
    "    # Check the shape of proba_survive\n",
    "    if risk.ndim > 1:\n",
    "        risk = risk[:, 0]  # Flatten if necessary\n",
    "    \n",
    "    # Create the DataFrame for submission\n",
    "    return pd.DataFrame({\n",
    "        \"id\": test_df[\"id\"].values,  # Ensure this is a 1D array\n",
    "        \"accident_risk\": risk  # Convert boolean to string\n",
    "    })\n",
    "\n",
    "def make_submission(kaggle_predictions):\n",
    "    path = \"/kaggle/working/submission.csv\"\n",
    "    kaggle_predictions.to_csv(path, index=False)\n",
    "    print(f\"Submission exported to {path}\")\n",
    "\n",
    "# Generate predictions and make the submission\n",
    "kaggle_predictions = prediction_to_kaggle_format(model, test_df)  # Use preprocessed test_df\n",
    "make_submission(kaggle_predictions)\n",
    "\n",
    "# Optional: Check the first few lines of the submission\n",
    "!head /kaggle/working/submission.csv\n"
   ]
  },
  {
   "cell_type": "code",
   "execution_count": null,
   "id": "faab8bb7",
   "metadata": {
    "papermill": {
     "duration": 1.159981,
     "end_time": "2025-10-23T17:35:53.414687",
     "exception": false,
     "start_time": "2025-10-23T17:35:52.254706",
     "status": "completed"
    },
    "tags": []
   },
   "outputs": [],
   "source": []
  }
 ],
 "metadata": {
  "kaggle": {
   "accelerator": "none",
   "dataSources": [
    {
     "databundleVersionId": 13760552,
     "sourceId": 91721,
     "sourceType": "competition"
    }
   ],
   "dockerImageVersionId": 31153,
   "isGpuEnabled": false,
   "isInternetEnabled": true,
   "language": "python",
   "sourceType": "notebook"
  },
  "kernelspec": {
   "display_name": "Python 3",
   "language": "python",
   "name": "python3"
  },
  "language_info": {
   "codemirror_mode": {
    "name": "ipython",
    "version": 3
   },
   "file_extension": ".py",
   "mimetype": "text/x-python",
   "name": "python",
   "nbconvert_exporter": "python",
   "pygments_lexer": "ipython3",
   "version": "3.11.13"
  },
  "papermill": {
   "default_parameters": {},
   "duration": 1469.713463,
   "end_time": "2025-10-23T17:35:57.689617",
   "environment_variables": {},
   "exception": null,
   "input_path": "__notebook__.ipynb",
   "output_path": "__notebook__.ipynb",
   "parameters": {},
   "start_time": "2025-10-23T17:11:27.976154",
   "version": "2.6.0"
  }
 },
 "nbformat": 4,
 "nbformat_minor": 5
}

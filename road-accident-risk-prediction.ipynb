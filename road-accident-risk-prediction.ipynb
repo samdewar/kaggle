{
 "cells": [
  {
   "cell_type": "code",
   "execution_count": 1,
   "id": "a11154e4",
   "metadata": {
    "execution": {
     "iopub.execute_input": "2025-10-22T16:24:52.380846Z",
     "iopub.status.busy": "2025-10-22T16:24:52.380454Z",
     "iopub.status.idle": "2025-10-22T16:24:52.389203Z",
     "shell.execute_reply": "2025-10-22T16:24:52.388223Z"
    },
    "papermill": {
     "duration": 0.015882,
     "end_time": "2025-10-22T16:24:52.390938",
     "exception": false,
     "start_time": "2025-10-22T16:24:52.375056",
     "status": "completed"
    },
    "tags": []
   },
   "outputs": [
    {
     "name": "stdout",
     "output_type": "stream",
     "text": [
      "helloworld\n"
     ]
    }
   ],
   "source": [
    "print('helloworld')"
   ]
  },
  {
   "cell_type": "code",
   "execution_count": 2,
   "id": "192df907",
   "metadata": {
    "execution": {
     "iopub.execute_input": "2025-10-22T16:24:52.398827Z",
     "iopub.status.busy": "2025-10-22T16:24:52.398499Z",
     "iopub.status.idle": "2025-10-22T16:24:54.294467Z",
     "shell.execute_reply": "2025-10-22T16:24:54.293255Z"
    },
    "papermill": {
     "duration": 1.901942,
     "end_time": "2025-10-22T16:24:54.296487",
     "exception": false,
     "start_time": "2025-10-22T16:24:52.394545",
     "status": "completed"
    },
    "tags": []
   },
   "outputs": [
    {
     "name": "stdout",
     "output_type": "stream",
     "text": [
      "/kaggle/input/playground-series-s5e10/sample_submission.csv\n",
      "/kaggle/input/playground-series-s5e10/train.csv\n",
      "/kaggle/input/playground-series-s5e10/test.csv\n"
     ]
    }
   ],
   "source": [
    "# This Python 3 environment comes with many helpful analytics libraries installed\n",
    "# It is defined by the kaggle/python Docker image: https://github.com/kaggle/docker-python\n",
    "# For example, here's several helpful packages to load\n",
    "\n",
    "import numpy as np # linear algebra\n",
    "import pandas as pd # data processing, CSV file I/O (e.g. pd.read_csv)\n",
    "\n",
    "# Input data files are available in the read-only \"../input/\" directory\n",
    "# For example, running this (by clicking run or pressing Shift+Enter) will list all files under the input directory\n",
    "\n",
    "import os\n",
    "for dirname, _, filenames in os.walk('/kaggle/input'):\n",
    "    for filename in filenames:\n",
    "        print(os.path.join(dirname, filename))\n",
    "\n",
    "# You can write up to 20GB to the current directory (/kaggle/working/) that gets preserved as output when you create a version using \"Save & Run All\" \n",
    "# You can also write temporary files to /kaggle/temp/, but they won't be saved outside of the current session\n"
   ]
  },
  {
   "cell_type": "code",
   "execution_count": 3,
   "id": "aec3b235",
   "metadata": {
    "execution": {
     "iopub.execute_input": "2025-10-22T16:24:54.304614Z",
     "iopub.status.busy": "2025-10-22T16:24:54.304100Z",
     "iopub.status.idle": "2025-10-22T16:24:56.080342Z",
     "shell.execute_reply": "2025-10-22T16:24:56.079558Z"
    },
    "papermill": {
     "duration": 1.782372,
     "end_time": "2025-10-22T16:24:56.082271",
     "exception": false,
     "start_time": "2025-10-22T16:24:54.299899",
     "status": "completed"
    },
    "tags": []
   },
   "outputs": [],
   "source": [
    "train_df=pd.read_csv('/kaggle/input/playground-series-s5e10/train.csv')\n",
    "test_df=pd.read_csv('/kaggle/input/playground-series-s5e10/test.csv')"
   ]
  },
  {
   "cell_type": "code",
   "execution_count": 4,
   "id": "e8ea4635",
   "metadata": {
    "execution": {
     "iopub.execute_input": "2025-10-22T16:24:56.090316Z",
     "iopub.status.busy": "2025-10-22T16:24:56.089975Z",
     "iopub.status.idle": "2025-10-22T16:24:56.098446Z",
     "shell.execute_reply": "2025-10-22T16:24:56.097694Z"
    },
    "papermill": {
     "duration": 0.013922,
     "end_time": "2025-10-22T16:24:56.099881",
     "exception": false,
     "start_time": "2025-10-22T16:24:56.085959",
     "status": "completed"
    },
    "tags": []
   },
   "outputs": [],
   "source": [
    "def preprocess(df):\n",
    "\n",
    "\n",
    "    \n",
    "\n",
    "    \n",
    "    def bool_to_int(df):\n",
    "        bool_cols = df.select_dtypes(include='bool').columns\n",
    "        df[bool_cols] = df[bool_cols].astype(int)\n",
    "        return df\n",
    "\n",
    "\n",
    "    def handle_road_type(x):\n",
    "        if x == 'rural':\n",
    "            return 0\n",
    "        elif x == 'urban':\n",
    "            return 1\n",
    "        elif x == 'highway':\n",
    "            return 2\n",
    "        else:\n",
    "            return -1\n",
    "\n",
    "\n",
    "    def handle_lighting(x):\n",
    "        if x== 'night':\n",
    "            return 0\n",
    "        elif x=='dim':\n",
    "            return 1\n",
    "        elif x=='daylight':\n",
    "            return 2\n",
    "        else: return -1\n",
    "\n",
    "    def handle_time_of_day(x):\n",
    "        if x=='morning':\n",
    "            return 0\n",
    "        elif x=='afternoon':\n",
    "            return 1\n",
    "        elif x=='evening':\n",
    "            return 2\n",
    "    \n",
    "        else: return -1\n",
    "\n",
    "    def handle_weather(df):\n",
    "        id_col=df['id']\n",
    "        dums=pd.get_dummies(df['weather'],dummy_na=False)\n",
    "        remaining=df.drop(columns=['weather'])\n",
    "        df = pd.concat([id_col.reset_index(drop=True), remaining.reset_index(drop=True), dums.reset_index(drop=True)], axis=1)\n",
    "        return df\n",
    "    df['road_type']=df['road_type'].apply(handle_road_type)\n",
    "    df['time_of_day']=df['time_of_day'].apply(handle_time_of_day)\n",
    "    df['lighting']=df['lighting'].apply(handle_lighting)\n",
    "\n",
    "    df=handle_weather(df)\n",
    "\n",
    "    df=bool_to_int(df)\n",
    "\n",
    "\n",
    "    return df\n"
   ]
  },
  {
   "cell_type": "code",
   "execution_count": 5,
   "id": "bd810071",
   "metadata": {
    "execution": {
     "iopub.execute_input": "2025-10-22T16:24:56.107082Z",
     "iopub.status.busy": "2025-10-22T16:24:56.106826Z",
     "iopub.status.idle": "2025-10-22T16:24:57.158492Z",
     "shell.execute_reply": "2025-10-22T16:24:57.157514Z"
    },
    "papermill": {
     "duration": 1.057315,
     "end_time": "2025-10-22T16:24:57.160491",
     "exception": false,
     "start_time": "2025-10-22T16:24:56.103176",
     "status": "completed"
    },
    "tags": []
   },
   "outputs": [],
   "source": [
    "train_df=preprocess(train_df)\n",
    "test_df=preprocess(test_df)"
   ]
  },
  {
   "cell_type": "code",
   "execution_count": 6,
   "id": "a9fc369d",
   "metadata": {
    "execution": {
     "iopub.execute_input": "2025-10-22T16:24:57.168939Z",
     "iopub.status.busy": "2025-10-22T16:24:57.168088Z",
     "iopub.status.idle": "2025-10-22T16:24:57.202348Z",
     "shell.execute_reply": "2025-10-22T16:24:57.201075Z"
    },
    "papermill": {
     "duration": 0.040113,
     "end_time": "2025-10-22T16:24:57.204088",
     "exception": false,
     "start_time": "2025-10-22T16:24:57.163975",
     "status": "completed"
    },
    "tags": []
   },
   "outputs": [
    {
     "name": "stdout",
     "output_type": "stream",
     "text": [
      "<class 'pandas.core.frame.DataFrame'>\n",
      "RangeIndex: 517754 entries, 0 to 517753\n",
      "Data columns (total 17 columns):\n",
      " #   Column                  Non-Null Count   Dtype  \n",
      "---  ------                  --------------   -----  \n",
      " 0   id                      517754 non-null  int64  \n",
      " 1   id                      517754 non-null  int64  \n",
      " 2   road_type               517754 non-null  int64  \n",
      " 3   num_lanes               517754 non-null  int64  \n",
      " 4   curvature               517754 non-null  float64\n",
      " 5   speed_limit             517754 non-null  int64  \n",
      " 6   lighting                517754 non-null  int64  \n",
      " 7   road_signs_present      517754 non-null  int64  \n",
      " 8   public_road             517754 non-null  int64  \n",
      " 9   time_of_day             517754 non-null  int64  \n",
      " 10  holiday                 517754 non-null  int64  \n",
      " 11  school_season           517754 non-null  int64  \n",
      " 12  num_reported_accidents  517754 non-null  int64  \n",
      " 13  accident_risk           517754 non-null  float64\n",
      " 14  clear                   517754 non-null  int64  \n",
      " 15  foggy                   517754 non-null  int64  \n",
      " 16  rainy                   517754 non-null  int64  \n",
      "dtypes: float64(2), int64(15)\n",
      "memory usage: 67.2 MB\n"
     ]
    }
   ],
   "source": [
    "train_df.info()"
   ]
  },
  {
   "cell_type": "code",
   "execution_count": 7,
   "id": "ae1756bd",
   "metadata": {
    "execution": {
     "iopub.execute_input": "2025-10-22T16:24:57.213032Z",
     "iopub.status.busy": "2025-10-22T16:24:57.212101Z",
     "iopub.status.idle": "2025-10-22T16:24:57.219712Z",
     "shell.execute_reply": "2025-10-22T16:24:57.218956Z"
    },
    "papermill": {
     "duration": 0.013356,
     "end_time": "2025-10-22T16:24:57.221047",
     "exception": false,
     "start_time": "2025-10-22T16:24:57.207691",
     "status": "completed"
    },
    "tags": []
   },
   "outputs": [
    {
     "data": {
      "text/plain": [
       "['road_type',\n",
       " 'num_lanes',\n",
       " 'curvature',\n",
       " 'speed_limit',\n",
       " 'lighting',\n",
       " 'road_signs_present',\n",
       " 'public_road',\n",
       " 'time_of_day',\n",
       " 'holiday',\n",
       " 'school_season',\n",
       " 'num_reported_accidents',\n",
       " 'clear',\n",
       " 'foggy',\n",
       " 'rainy']"
      ]
     },
     "execution_count": 7,
     "metadata": {},
     "output_type": "execute_result"
    }
   ],
   "source": [
    "input_features=list(train_df.columns)\n",
    "input_features.remove('id')\n",
    "input_features.remove('id')\n",
    "\n",
    "input_features.remove('accident_risk')\n",
    "input_features"
   ]
  },
  {
   "cell_type": "code",
   "execution_count": 8,
   "id": "0432285c",
   "metadata": {
    "execution": {
     "iopub.execute_input": "2025-10-22T16:24:57.229252Z",
     "iopub.status.busy": "2025-10-22T16:24:57.228900Z",
     "iopub.status.idle": "2025-10-22T16:25:16.362520Z",
     "shell.execute_reply": "2025-10-22T16:25:16.361428Z"
    },
    "papermill": {
     "duration": 19.139779,
     "end_time": "2025-10-22T16:25:16.364506",
     "exception": false,
     "start_time": "2025-10-22T16:24:57.224727",
     "status": "completed"
    },
    "tags": []
   },
   "outputs": [
    {
     "name": "stderr",
     "output_type": "stream",
     "text": [
      "2025-10-22 16:24:59.451390: E external/local_xla/xla/stream_executor/cuda/cuda_fft.cc:477] Unable to register cuFFT factory: Attempting to register factory for plugin cuFFT when one has already been registered\n",
      "WARNING: All log messages before absl::InitializeLog() is called are written to STDERR\n",
      "E0000 00:00:1761150299.702692      13 cuda_dnn.cc:8310] Unable to register cuDNN factory: Attempting to register factory for plugin cuDNN when one has already been registered\n",
      "E0000 00:00:1761150299.773246      13 cuda_blas.cc:1418] Unable to register cuBLAS factory: Attempting to register factory for plugin cuBLAS when one has already been registered\n"
     ]
    }
   ],
   "source": [
    "import tensorflow as tf\n",
    "import keras\n",
    "from sklearn.model_selection import train_test_split"
   ]
  },
  {
   "cell_type": "code",
   "execution_count": 9,
   "id": "ab1c3e36",
   "metadata": {
    "execution": {
     "iopub.execute_input": "2025-10-22T16:25:16.373695Z",
     "iopub.status.busy": "2025-10-22T16:25:16.372997Z",
     "iopub.status.idle": "2025-10-22T16:25:16.542254Z",
     "shell.execute_reply": "2025-10-22T16:25:16.541293Z"
    },
    "papermill": {
     "duration": 0.175432,
     "end_time": "2025-10-22T16:25:16.543793",
     "exception": false,
     "start_time": "2025-10-22T16:25:16.368361",
     "status": "completed"
    },
    "tags": []
   },
   "outputs": [
    {
     "name": "stderr",
     "output_type": "stream",
     "text": [
      "2025-10-22 16:25:16.459516: E external/local_xla/xla/stream_executor/cuda/cuda_driver.cc:152] failed call to cuInit: INTERNAL: CUDA error: Failed call to cuInit: UNKNOWN ERROR (303)\n"
     ]
    }
   ],
   "source": [
    "# Define the model\n",
    "model = tf.keras.Sequential([\n",
    "    tf.keras.layers.Input(shape=(len(input_features),)),\n",
    "    tf.keras.layers.Dense(128, activation='relu'),\n",
    "    tf.keras.layers.Dense(64, activation='relu'),\n",
    "    tf.keras.layers.Dense(32, activation='relu'),\n",
    "    tf.keras.layers.Dense(1, activation='sigmoid')\n",
    "])\n"
   ]
  },
  {
   "cell_type": "code",
   "execution_count": 10,
   "id": "88d341e7",
   "metadata": {
    "execution": {
     "iopub.execute_input": "2025-10-22T16:25:16.552982Z",
     "iopub.status.busy": "2025-10-22T16:25:16.552018Z",
     "iopub.status.idle": "2025-10-22T16:25:16.567873Z",
     "shell.execute_reply": "2025-10-22T16:25:16.566985Z"
    },
    "papermill": {
     "duration": 0.022037,
     "end_time": "2025-10-22T16:25:16.569605",
     "exception": false,
     "start_time": "2025-10-22T16:25:16.547568",
     "status": "completed"
    },
    "tags": []
   },
   "outputs": [],
   "source": [
    "# Compile the model\n",
    "model.compile(optimizer='ADAM', \n",
    "              loss = tf.keras.losses.MeanAbsoluteError,\n",
    "              metrics=['RootMeanSquaredError'])"
   ]
  },
  {
   "cell_type": "code",
   "execution_count": 11,
   "id": "aae5a526",
   "metadata": {
    "execution": {
     "iopub.execute_input": "2025-10-22T16:25:16.578990Z",
     "iopub.status.busy": "2025-10-22T16:25:16.578013Z",
     "iopub.status.idle": "2025-10-22T16:25:16.745130Z",
     "shell.execute_reply": "2025-10-22T16:25:16.744241Z"
    },
    "papermill": {
     "duration": 0.173432,
     "end_time": "2025-10-22T16:25:16.746963",
     "exception": false,
     "start_time": "2025-10-22T16:25:16.573531",
     "status": "completed"
    },
    "tags": []
   },
   "outputs": [],
   "source": [
    "X_train = train_df[input_features].values\n",
    "y_train = train_df['accident_risk'].astype(int).values\n",
    "\n",
    "X_test=test_df[input_features].values\n"
   ]
  },
  {
   "cell_type": "code",
   "execution_count": 12,
   "id": "cac3fde6",
   "metadata": {
    "execution": {
     "iopub.execute_input": "2025-10-22T16:25:16.755660Z",
     "iopub.status.busy": "2025-10-22T16:25:16.755337Z",
     "iopub.status.idle": "2025-10-22T16:49:15.450566Z",
     "shell.execute_reply": "2025-10-22T16:49:15.449496Z"
    },
    "papermill": {
     "duration": 1440.146568,
     "end_time": "2025-10-22T16:49:16.897436",
     "exception": false,
     "start_time": "2025-10-22T16:25:16.750868",
     "status": "completed"
    },
    "tags": []
   },
   "outputs": [
    {
     "name": "stdout",
     "output_type": "stream",
     "text": [
      "Epoch 1/50\n",
      "\u001b[1m12944/12944\u001b[0m \u001b[32m━━━━━━━━━━━━━━━━━━━━\u001b[0m\u001b[37m\u001b[0m \u001b[1m31s\u001b[0m 2ms/step - RootMeanSquaredError: 0.0327 - loss: 0.0027 - val_RootMeanSquaredError: 0.0088 - val_loss: 7.7257e-05\n",
      "Epoch 2/50\n",
      "\u001b[1m12944/12944\u001b[0m \u001b[32m━━━━━━━━━━━━━━━━━━━━\u001b[0m\u001b[37m\u001b[0m \u001b[1m29s\u001b[0m 2ms/step - RootMeanSquaredError: 0.0101 - loss: 1.0388e-04 - val_RootMeanSquaredError: 0.0088 - val_loss: 7.7257e-05\n",
      "Epoch 3/50\n",
      "\u001b[1m12944/12944\u001b[0m \u001b[32m━━━━━━━━━━━━━━━━━━━━\u001b[0m\u001b[37m\u001b[0m \u001b[1m29s\u001b[0m 2ms/step - RootMeanSquaredError: 0.0117 - loss: 1.3797e-04 - val_RootMeanSquaredError: 0.0088 - val_loss: 7.7257e-05\n",
      "Epoch 4/50\n",
      "\u001b[1m12944/12944\u001b[0m \u001b[32m━━━━━━━━━━━━━━━━━━━━\u001b[0m\u001b[37m\u001b[0m \u001b[1m28s\u001b[0m 2ms/step - RootMeanSquaredError: 0.0116 - loss: 1.4017e-04 - val_RootMeanSquaredError: 0.0088 - val_loss: 7.7257e-05\n",
      "Epoch 5/50\n",
      "\u001b[1m12944/12944\u001b[0m \u001b[32m━━━━━━━━━━━━━━━━━━━━\u001b[0m\u001b[37m\u001b[0m \u001b[1m29s\u001b[0m 2ms/step - RootMeanSquaredError: 0.0109 - loss: 1.2104e-04 - val_RootMeanSquaredError: 0.0088 - val_loss: 7.7257e-05\n",
      "Epoch 6/50\n",
      "\u001b[1m12944/12944\u001b[0m \u001b[32m━━━━━━━━━━━━━━━━━━━━\u001b[0m\u001b[37m\u001b[0m \u001b[1m28s\u001b[0m 2ms/step - RootMeanSquaredError: 0.0115 - loss: 1.3591e-04 - val_RootMeanSquaredError: 0.0088 - val_loss: 7.7257e-05\n",
      "Epoch 7/50\n",
      "\u001b[1m12944/12944\u001b[0m \u001b[32m━━━━━━━━━━━━━━━━━━━━\u001b[0m\u001b[37m\u001b[0m \u001b[1m28s\u001b[0m 2ms/step - RootMeanSquaredError: 0.0094 - loss: 1.0179e-04 - val_RootMeanSquaredError: 0.0088 - val_loss: 7.7257e-05\n",
      "Epoch 8/50\n",
      "\u001b[1m12944/12944\u001b[0m \u001b[32m━━━━━━━━━━━━━━━━━━━━\u001b[0m\u001b[37m\u001b[0m \u001b[1m29s\u001b[0m 2ms/step - RootMeanSquaredError: 0.0108 - loss: 1.1859e-04 - val_RootMeanSquaredError: 0.0088 - val_loss: 7.7257e-05\n",
      "Epoch 9/50\n",
      "\u001b[1m12944/12944\u001b[0m \u001b[32m━━━━━━━━━━━━━━━━━━━━\u001b[0m\u001b[37m\u001b[0m \u001b[1m29s\u001b[0m 2ms/step - RootMeanSquaredError: 0.0113 - loss: 1.3028e-04 - val_RootMeanSquaredError: 0.0088 - val_loss: 7.7257e-05\n",
      "Epoch 10/50\n",
      "\u001b[1m12944/12944\u001b[0m \u001b[32m━━━━━━━━━━━━━━━━━━━━\u001b[0m\u001b[37m\u001b[0m \u001b[1m29s\u001b[0m 2ms/step - RootMeanSquaredError: 0.0117 - loss: 1.4067e-04 - val_RootMeanSquaredError: 0.0088 - val_loss: 7.7257e-05\n",
      "Epoch 11/50\n",
      "\u001b[1m12944/12944\u001b[0m \u001b[32m━━━━━━━━━━━━━━━━━━━━\u001b[0m\u001b[37m\u001b[0m \u001b[1m29s\u001b[0m 2ms/step - RootMeanSquaredError: 0.0122 - loss: 1.5408e-04 - val_RootMeanSquaredError: 0.0088 - val_loss: 7.7257e-05\n",
      "Epoch 12/50\n",
      "\u001b[1m12944/12944\u001b[0m \u001b[32m━━━━━━━━━━━━━━━━━━━━\u001b[0m\u001b[37m\u001b[0m \u001b[1m28s\u001b[0m 2ms/step - RootMeanSquaredError: 0.0109 - loss: 1.2365e-04 - val_RootMeanSquaredError: 0.0088 - val_loss: 7.7257e-05\n",
      "Epoch 13/50\n",
      "\u001b[1m12944/12944\u001b[0m \u001b[32m━━━━━━━━━━━━━━━━━━━━\u001b[0m\u001b[37m\u001b[0m \u001b[1m29s\u001b[0m 2ms/step - RootMeanSquaredError: 0.0114 - loss: 1.3161e-04 - val_RootMeanSquaredError: 0.0088 - val_loss: 7.7257e-05\n",
      "Epoch 14/50\n",
      "\u001b[1m12944/12944\u001b[0m \u001b[32m━━━━━━━━━━━━━━━━━━━━\u001b[0m\u001b[37m\u001b[0m \u001b[1m29s\u001b[0m 2ms/step - RootMeanSquaredError: 0.0113 - loss: 1.3188e-04 - val_RootMeanSquaredError: 0.0088 - val_loss: 7.7257e-05\n",
      "Epoch 15/50\n",
      "\u001b[1m12944/12944\u001b[0m \u001b[32m━━━━━━━━━━━━━━━━━━━━\u001b[0m\u001b[37m\u001b[0m \u001b[1m29s\u001b[0m 2ms/step - RootMeanSquaredError: 0.0114 - loss: 1.3851e-04 - val_RootMeanSquaredError: 0.0088 - val_loss: 7.7257e-05\n",
      "Epoch 16/50\n",
      "\u001b[1m12944/12944\u001b[0m \u001b[32m━━━━━━━━━━━━━━━━━━━━\u001b[0m\u001b[37m\u001b[0m \u001b[1m29s\u001b[0m 2ms/step - RootMeanSquaredError: 0.0114 - loss: 1.3321e-04 - val_RootMeanSquaredError: 0.0088 - val_loss: 7.7257e-05\n",
      "Epoch 17/50\n",
      "\u001b[1m12944/12944\u001b[0m \u001b[32m━━━━━━━━━━━━━━━━━━━━\u001b[0m\u001b[37m\u001b[0m \u001b[1m29s\u001b[0m 2ms/step - RootMeanSquaredError: 0.0113 - loss: 1.3104e-04 - val_RootMeanSquaredError: 0.0088 - val_loss: 7.7257e-05\n",
      "Epoch 18/50\n",
      "\u001b[1m12944/12944\u001b[0m \u001b[32m━━━━━━━━━━━━━━━━━━━━\u001b[0m\u001b[37m\u001b[0m \u001b[1m29s\u001b[0m 2ms/step - RootMeanSquaredError: 0.0094 - loss: 9.2767e-05 - val_RootMeanSquaredError: 0.0088 - val_loss: 7.7257e-05\n",
      "Epoch 19/50\n",
      "\u001b[1m12944/12944\u001b[0m \u001b[32m━━━━━━━━━━━━━━━━━━━━\u001b[0m\u001b[37m\u001b[0m \u001b[1m29s\u001b[0m 2ms/step - RootMeanSquaredError: 0.0104 - loss: 1.1054e-04 - val_RootMeanSquaredError: 0.0088 - val_loss: 7.7257e-05\n",
      "Epoch 20/50\n",
      "\u001b[1m12944/12944\u001b[0m \u001b[32m━━━━━━━━━━━━━━━━━━━━\u001b[0m\u001b[37m\u001b[0m \u001b[1m29s\u001b[0m 2ms/step - RootMeanSquaredError: 0.0119 - loss: 1.4893e-04 - val_RootMeanSquaredError: 0.0088 - val_loss: 7.7257e-05\n",
      "Epoch 21/50\n",
      "\u001b[1m12944/12944\u001b[0m \u001b[32m━━━━━━━━━━━━━━━━━━━━\u001b[0m\u001b[37m\u001b[0m \u001b[1m29s\u001b[0m 2ms/step - RootMeanSquaredError: 0.0104 - loss: 1.1196e-04 - val_RootMeanSquaredError: 0.0088 - val_loss: 7.7257e-05\n",
      "Epoch 22/50\n",
      "\u001b[1m12944/12944\u001b[0m \u001b[32m━━━━━━━━━━━━━━━━━━━━\u001b[0m\u001b[37m\u001b[0m \u001b[1m29s\u001b[0m 2ms/step - RootMeanSquaredError: 0.0100 - loss: 1.0622e-04 - val_RootMeanSquaredError: 0.0088 - val_loss: 7.7257e-05\n",
      "Epoch 23/50\n",
      "\u001b[1m12944/12944\u001b[0m \u001b[32m━━━━━━━━━━━━━━━━━━━━\u001b[0m\u001b[37m\u001b[0m \u001b[1m29s\u001b[0m 2ms/step - RootMeanSquaredError: 0.0119 - loss: 1.4281e-04 - val_RootMeanSquaredError: 0.0088 - val_loss: 7.7257e-05\n",
      "Epoch 24/50\n",
      "\u001b[1m12944/12944\u001b[0m \u001b[32m━━━━━━━━━━━━━━━━━━━━\u001b[0m\u001b[37m\u001b[0m \u001b[1m29s\u001b[0m 2ms/step - RootMeanSquaredError: 0.0107 - loss: 1.1540e-04 - val_RootMeanSquaredError: 0.0088 - val_loss: 7.7257e-05\n",
      "Epoch 25/50\n",
      "\u001b[1m12944/12944\u001b[0m \u001b[32m━━━━━━━━━━━━━━━━━━━━\u001b[0m\u001b[37m\u001b[0m \u001b[1m29s\u001b[0m 2ms/step - RootMeanSquaredError: 0.0110 - loss: 1.2429e-04 - val_RootMeanSquaredError: 0.0088 - val_loss: 7.7257e-05\n",
      "Epoch 26/50\n",
      "\u001b[1m12944/12944\u001b[0m \u001b[32m━━━━━━━━━━━━━━━━━━━━\u001b[0m\u001b[37m\u001b[0m \u001b[1m29s\u001b[0m 2ms/step - RootMeanSquaredError: 0.0109 - loss: 1.2435e-04 - val_RootMeanSquaredError: 0.0088 - val_loss: 7.7257e-05\n",
      "Epoch 27/50\n",
      "\u001b[1m12944/12944\u001b[0m \u001b[32m━━━━━━━━━━━━━━━━━━━━\u001b[0m\u001b[37m\u001b[0m \u001b[1m29s\u001b[0m 2ms/step - RootMeanSquaredError: 0.0109 - loss: 1.2167e-04 - val_RootMeanSquaredError: 0.0088 - val_loss: 7.7257e-05\n",
      "Epoch 28/50\n",
      "\u001b[1m12944/12944\u001b[0m \u001b[32m━━━━━━━━━━━━━━━━━━━━\u001b[0m\u001b[37m\u001b[0m \u001b[1m29s\u001b[0m 2ms/step - RootMeanSquaredError: 0.0108 - loss: 1.2404e-04 - val_RootMeanSquaredError: 0.0088 - val_loss: 7.7257e-05\n",
      "Epoch 29/50\n",
      "\u001b[1m12944/12944\u001b[0m \u001b[32m━━━━━━━━━━━━━━━━━━━━\u001b[0m\u001b[37m\u001b[0m \u001b[1m29s\u001b[0m 2ms/step - RootMeanSquaredError: 0.0109 - loss: 1.2061e-04 - val_RootMeanSquaredError: 0.0088 - val_loss: 7.7257e-05\n",
      "Epoch 30/50\n",
      "\u001b[1m12944/12944\u001b[0m \u001b[32m━━━━━━━━━━━━━━━━━━━━\u001b[0m\u001b[37m\u001b[0m \u001b[1m29s\u001b[0m 2ms/step - RootMeanSquaredError: 0.0096 - loss: 9.6866e-05 - val_RootMeanSquaredError: 0.0088 - val_loss: 7.7257e-05\n",
      "Epoch 31/50\n",
      "\u001b[1m12944/12944\u001b[0m \u001b[32m━━━━━━━━━━━━━━━━━━━━\u001b[0m\u001b[37m\u001b[0m \u001b[1m29s\u001b[0m 2ms/step - RootMeanSquaredError: 0.0110 - loss: 1.2433e-04 - val_RootMeanSquaredError: 0.0088 - val_loss: 7.7257e-05\n",
      "Epoch 32/50\n",
      "\u001b[1m12944/12944\u001b[0m \u001b[32m━━━━━━━━━━━━━━━━━━━━\u001b[0m\u001b[37m\u001b[0m \u001b[1m29s\u001b[0m 2ms/step - RootMeanSquaredError: 0.0113 - loss: 1.2930e-04 - val_RootMeanSquaredError: 0.0088 - val_loss: 7.7257e-05\n",
      "Epoch 33/50\n",
      "\u001b[1m12944/12944\u001b[0m \u001b[32m━━━━━━━━━━━━━━━━━━━━\u001b[0m\u001b[37m\u001b[0m \u001b[1m29s\u001b[0m 2ms/step - RootMeanSquaredError: 0.0118 - loss: 1.4242e-04 - val_RootMeanSquaredError: 0.0088 - val_loss: 7.7257e-05\n",
      "Epoch 34/50\n",
      "\u001b[1m12944/12944\u001b[0m \u001b[32m━━━━━━━━━━━━━━━━━━━━\u001b[0m\u001b[37m\u001b[0m \u001b[1m29s\u001b[0m 2ms/step - RootMeanSquaredError: 0.0113 - loss: 1.3036e-04 - val_RootMeanSquaredError: 0.0088 - val_loss: 7.7257e-05\n",
      "Epoch 35/50\n",
      "\u001b[1m12944/12944\u001b[0m \u001b[32m━━━━━━━━━━━━━━━━━━━━\u001b[0m\u001b[37m\u001b[0m \u001b[1m29s\u001b[0m 2ms/step - RootMeanSquaredError: 0.0117 - loss: 1.3945e-04 - val_RootMeanSquaredError: 0.0088 - val_loss: 7.7257e-05\n",
      "Epoch 36/50\n",
      "\u001b[1m12944/12944\u001b[0m \u001b[32m━━━━━━━━━━━━━━━━━━━━\u001b[0m\u001b[37m\u001b[0m \u001b[1m29s\u001b[0m 2ms/step - RootMeanSquaredError: 0.0120 - loss: 1.4539e-04 - val_RootMeanSquaredError: 0.0088 - val_loss: 7.7257e-05\n",
      "Epoch 37/50\n",
      "\u001b[1m12944/12944\u001b[0m \u001b[32m━━━━━━━━━━━━━━━━━━━━\u001b[0m\u001b[37m\u001b[0m \u001b[1m29s\u001b[0m 2ms/step - RootMeanSquaredError: 0.0111 - loss: 1.3306e-04 - val_RootMeanSquaredError: 0.0088 - val_loss: 7.7257e-05\n",
      "Epoch 38/50\n",
      "\u001b[1m12944/12944\u001b[0m \u001b[32m━━━━━━━━━━━━━━━━━━━━\u001b[0m\u001b[37m\u001b[0m \u001b[1m28s\u001b[0m 2ms/step - RootMeanSquaredError: 0.0114 - loss: 1.3317e-04 - val_RootMeanSquaredError: 0.0088 - val_loss: 7.7257e-05\n",
      "Epoch 39/50\n",
      "\u001b[1m12944/12944\u001b[0m \u001b[32m━━━━━━━━━━━━━━━━━━━━\u001b[0m\u001b[37m\u001b[0m \u001b[1m29s\u001b[0m 2ms/step - RootMeanSquaredError: 0.0118 - loss: 1.4212e-04 - val_RootMeanSquaredError: 0.0088 - val_loss: 7.7257e-05\n",
      "Epoch 40/50\n",
      "\u001b[1m12944/12944\u001b[0m \u001b[32m━━━━━━━━━━━━━━━━━━━━\u001b[0m\u001b[37m\u001b[0m \u001b[1m29s\u001b[0m 2ms/step - RootMeanSquaredError: 0.0106 - loss: 1.1562e-04 - val_RootMeanSquaredError: 0.0088 - val_loss: 7.7257e-05\n",
      "Epoch 41/50\n",
      "\u001b[1m12944/12944\u001b[0m \u001b[32m━━━━━━━━━━━━━━━━━━━━\u001b[0m\u001b[37m\u001b[0m \u001b[1m29s\u001b[0m 2ms/step - RootMeanSquaredError: 0.0108 - loss: 1.1925e-04 - val_RootMeanSquaredError: 0.0088 - val_loss: 7.7257e-05\n",
      "Epoch 42/50\n",
      "\u001b[1m12944/12944\u001b[0m \u001b[32m━━━━━━━━━━━━━━━━━━━━\u001b[0m\u001b[37m\u001b[0m \u001b[1m29s\u001b[0m 2ms/step - RootMeanSquaredError: 0.0116 - loss: 1.3826e-04 - val_RootMeanSquaredError: 0.0088 - val_loss: 7.7257e-05\n",
      "Epoch 43/50\n",
      "\u001b[1m12944/12944\u001b[0m \u001b[32m━━━━━━━━━━━━━━━━━━━━\u001b[0m\u001b[37m\u001b[0m \u001b[1m29s\u001b[0m 2ms/step - RootMeanSquaredError: 0.0114 - loss: 1.3303e-04 - val_RootMeanSquaredError: 0.0088 - val_loss: 7.7257e-05\n",
      "Epoch 44/50\n",
      "\u001b[1m12944/12944\u001b[0m \u001b[32m━━━━━━━━━━━━━━━━━━━━\u001b[0m\u001b[37m\u001b[0m \u001b[1m29s\u001b[0m 2ms/step - RootMeanSquaredError: 0.0113 - loss: 1.3057e-04 - val_RootMeanSquaredError: 0.0088 - val_loss: 7.7257e-05\n",
      "Epoch 45/50\n",
      "\u001b[1m12944/12944\u001b[0m \u001b[32m━━━━━━━━━━━━━━━━━━━━\u001b[0m\u001b[37m\u001b[0m \u001b[1m29s\u001b[0m 2ms/step - RootMeanSquaredError: 0.0121 - loss: 1.5070e-04 - val_RootMeanSquaredError: 0.0088 - val_loss: 7.7257e-05\n",
      "Epoch 46/50\n",
      "\u001b[1m12944/12944\u001b[0m \u001b[32m━━━━━━━━━━━━━━━━━━━━\u001b[0m\u001b[37m\u001b[0m \u001b[1m29s\u001b[0m 2ms/step - RootMeanSquaredError: 0.0098 - loss: 1.0589e-04 - val_RootMeanSquaredError: 0.0088 - val_loss: 7.7257e-05\n",
      "Epoch 47/50\n",
      "\u001b[1m12944/12944\u001b[0m \u001b[32m━━━━━━━━━━━━━━━━━━━━\u001b[0m\u001b[37m\u001b[0m \u001b[1m29s\u001b[0m 2ms/step - RootMeanSquaredError: 0.0110 - loss: 1.2510e-04 - val_RootMeanSquaredError: 0.0088 - val_loss: 7.7257e-05\n",
      "Epoch 48/50\n",
      "\u001b[1m12944/12944\u001b[0m \u001b[32m━━━━━━━━━━━━━━━━━━━━\u001b[0m\u001b[37m\u001b[0m \u001b[1m29s\u001b[0m 2ms/step - RootMeanSquaredError: 0.0112 - loss: 1.2714e-04 - val_RootMeanSquaredError: 0.0088 - val_loss: 7.7257e-05\n",
      "Epoch 49/50\n",
      "\u001b[1m12944/12944\u001b[0m \u001b[32m━━━━━━━━━━━━━━━━━━━━\u001b[0m\u001b[37m\u001b[0m \u001b[1m29s\u001b[0m 2ms/step - RootMeanSquaredError: 0.0114 - loss: 1.3199e-04 - val_RootMeanSquaredError: 0.0088 - val_loss: 7.7257e-05\n",
      "Epoch 50/50\n",
      "\u001b[1m12944/12944\u001b[0m \u001b[32m━━━━━━━━━━━━━━━━━━━━\u001b[0m\u001b[37m\u001b[0m \u001b[1m29s\u001b[0m 2ms/step - RootMeanSquaredError: 0.0116 - loss: 1.3585e-04 - val_RootMeanSquaredError: 0.0088 - val_loss: 7.7257e-05\n"
     ]
    },
    {
     "data": {
      "text/plain": [
       "<keras.src.callbacks.history.History at 0x7fbb9a923910>"
      ]
     },
     "execution_count": 12,
     "metadata": {},
     "output_type": "execute_result"
    }
   ],
   "source": [
    "model.fit(tf.expand_dims(X_train, axis=-1),y_train,epochs=50,batch_size=32,validation_split=0.2)"
   ]
  },
  {
   "cell_type": "code",
   "execution_count": 13,
   "id": "4e432332",
   "metadata": {
    "execution": {
     "iopub.execute_input": "2025-10-22T16:49:19.571273Z",
     "iopub.status.busy": "2025-10-22T16:49:19.570183Z",
     "iopub.status.idle": "2025-10-22T16:49:19.608338Z",
     "shell.execute_reply": "2025-10-22T16:49:19.607425Z"
    },
    "papermill": {
     "duration": 1.464131,
     "end_time": "2025-10-22T16:49:19.610124",
     "exception": false,
     "start_time": "2025-10-22T16:49:18.145993",
     "status": "completed"
    },
    "tags": []
   },
   "outputs": [],
   "source": [
    "test_df = test_df.loc[:,~test_df.columns.duplicated()].copy()"
   ]
  },
  {
   "cell_type": "code",
   "execution_count": 14,
   "id": "650b473b",
   "metadata": {
    "execution": {
     "iopub.execute_input": "2025-10-22T16:49:22.359396Z",
     "iopub.status.busy": "2025-10-22T16:49:22.358950Z",
     "iopub.status.idle": "2025-10-22T16:49:31.494041Z",
     "shell.execute_reply": "2025-10-22T16:49:31.492737Z"
    },
    "papermill": {
     "duration": 10.394558,
     "end_time": "2025-10-22T16:49:31.495861",
     "exception": false,
     "start_time": "2025-10-22T16:49:21.101303",
     "status": "completed"
    },
    "tags": []
   },
   "outputs": [
    {
     "name": "stdout",
     "output_type": "stream",
     "text": [
      "Submission exported to /kaggle/working/submission.csv\n",
      "id,accident_risk\r\n",
      "517754,1.5410215e-22\r\n",
      "517755,1.9050723e-22\r\n",
      "517756,1.1183317e-17\r\n",
      "517757,4.0719728e-18\r\n",
      "517758,3.9952096e-18\r\n",
      "517759,1.7707046e-13\r\n",
      "517760,1.2879627e-33\r\n",
      "517761,2.4162448e-13\r\n",
      "517762,4.1144476e-23\r\n"
     ]
    }
   ],
   "source": [
    "def prediction_to_kaggle_format(model, test_df, threshold=0.5):\n",
    "    # Prepare features for predictions using the same input features as used in training\n",
    "    # X_test = test_df[input_features].values  # Ensure input features are consistent\n",
    "    risk = model.predict(X_test, verbose=0)  # Predict probabilities\n",
    "    \n",
    "    # Check the shape of proba_survive\n",
    "    if risk.ndim > 1:\n",
    "        risk = risk[:, 0]  # Flatten if necessary\n",
    "    \n",
    "    # Create the DataFrame for submission\n",
    "    return pd.DataFrame({\n",
    "        \"id\": test_df[\"id\"].values,  # Ensure this is a 1D array\n",
    "        \"accident_risk\": risk  # Convert boolean to string\n",
    "    })\n",
    "\n",
    "def make_submission(kaggle_predictions):\n",
    "    path = \"/kaggle/working/submission.csv\"\n",
    "    kaggle_predictions.to_csv(path, index=False)\n",
    "    print(f\"Submission exported to {path}\")\n",
    "\n",
    "# Generate predictions and make the submission\n",
    "kaggle_predictions = prediction_to_kaggle_format(model, test_df)  # Use preprocessed test_df\n",
    "make_submission(kaggle_predictions)\n",
    "\n",
    "# Optional: Check the first few lines of the submission\n",
    "!head /kaggle/working/submission.csv\n"
   ]
  },
  {
   "cell_type": "code",
   "execution_count": null,
   "id": "ea248686",
   "metadata": {
    "papermill": {
     "duration": 1.247296,
     "end_time": "2025-10-22T16:49:34.177032",
     "exception": false,
     "start_time": "2025-10-22T16:49:32.929736",
     "status": "completed"
    },
    "tags": []
   },
   "outputs": [],
   "source": []
  }
 ],
 "metadata": {
  "kaggle": {
   "accelerator": "none",
   "dataSources": [
    {
     "databundleVersionId": 13760552,
     "sourceId": 91721,
     "sourceType": "competition"
    }
   ],
   "dockerImageVersionId": 31153,
   "isGpuEnabled": false,
   "isInternetEnabled": true,
   "language": "python",
   "sourceType": "notebook"
  },
  "kernelspec": {
   "display_name": "Python 3 (ipykernel)",
   "language": "python",
   "name": "python3"
  },
  "language_info": {
   "codemirror_mode": {
    "name": "ipython",
    "version": 3
   },
   "file_extension": ".py",
   "mimetype": "text/x-python",
   "name": "python",
   "nbconvert_exporter": "python",
   "pygments_lexer": "ipython3",
   "version": "3.11.13"
  },
  "papermill": {
   "default_parameters": {},
   "duration": 1491.260464,
   "end_time": "2025-10-22T16:49:38.634603",
   "environment_variables": {},
   "exception": null,
   "input_path": "__notebook__.ipynb",
   "output_path": "__notebook__.ipynb",
   "parameters": {},
   "start_time": "2025-10-22T16:24:47.374139",
   "version": "2.6.0"
  }
 },
 "nbformat": 4,
 "nbformat_minor": 5
}

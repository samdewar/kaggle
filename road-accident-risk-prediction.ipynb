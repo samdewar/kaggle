{
 "cells": [
  {
   "cell_type": "code",
   "execution_count": 1,
   "id": "99483105",
   "metadata": {
    "execution": {
     "iopub.execute_input": "2025-10-22T22:19:48.941363Z",
     "iopub.status.busy": "2025-10-22T22:19:48.940777Z",
     "iopub.status.idle": "2025-10-22T22:19:48.947266Z",
     "shell.execute_reply": "2025-10-22T22:19:48.946614Z"
    },
    "papermill": {
     "duration": 0.011136,
     "end_time": "2025-10-22T22:19:48.948365",
     "exception": false,
     "start_time": "2025-10-22T22:19:48.937229",
     "status": "completed"
    },
    "tags": []
   },
   "outputs": [
    {
     "name": "stdout",
     "output_type": "stream",
     "text": [
      "helloworld\n"
     ]
    }
   ],
   "source": [
    "print('helloworld')"
   ]
  },
  {
   "cell_type": "code",
   "execution_count": 2,
   "id": "aca350ca",
   "metadata": {
    "execution": {
     "iopub.execute_input": "2025-10-22T22:19:48.953882Z",
     "iopub.status.busy": "2025-10-22T22:19:48.953259Z",
     "iopub.status.idle": "2025-10-22T22:19:50.403754Z",
     "shell.execute_reply": "2025-10-22T22:19:50.402907Z"
    },
    "papermill": {
     "duration": 1.45444,
     "end_time": "2025-10-22T22:19:50.405148",
     "exception": false,
     "start_time": "2025-10-22T22:19:48.950708",
     "status": "completed"
    },
    "tags": []
   },
   "outputs": [
    {
     "name": "stdout",
     "output_type": "stream",
     "text": [
      "/kaggle/input/playground-series-s5e10/sample_submission.csv\n",
      "/kaggle/input/playground-series-s5e10/train.csv\n",
      "/kaggle/input/playground-series-s5e10/test.csv\n"
     ]
    }
   ],
   "source": [
    "# This Python 3 environment comes with many helpful analytics libraries installed\n",
    "# It is defined by the kaggle/python Docker image: https://github.com/kaggle/docker-python\n",
    "# For example, here's several helpful packages to load\n",
    "\n",
    "import numpy as np # linear algebra\n",
    "import pandas as pd # data processing, CSV file I/O (e.g. pd.read_csv)\n",
    "\n",
    "# Input data files are available in the read-only \"../input/\" directory\n",
    "# For example, running this (by clicking run or pressing Shift+Enter) will list all files under the input directory\n",
    "\n",
    "import os\n",
    "for dirname, _, filenames in os.walk('/kaggle/input'):\n",
    "    for filename in filenames:\n",
    "        print(os.path.join(dirname, filename))\n",
    "\n",
    "# You can write up to 20GB to the current directory (/kaggle/working/) that gets preserved as output when you create a version using \"Save & Run All\" \n",
    "# You can also write temporary files to /kaggle/temp/, but they won't be saved outside of the current session\n"
   ]
  },
  {
   "cell_type": "code",
   "execution_count": 3,
   "id": "35ff2fe2",
   "metadata": {
    "execution": {
     "iopub.execute_input": "2025-10-22T22:19:50.410892Z",
     "iopub.status.busy": "2025-10-22T22:19:50.410593Z",
     "iopub.status.idle": "2025-10-22T22:19:52.247160Z",
     "shell.execute_reply": "2025-10-22T22:19:52.246470Z"
    },
    "papermill": {
     "duration": 1.840819,
     "end_time": "2025-10-22T22:19:52.248489",
     "exception": false,
     "start_time": "2025-10-22T22:19:50.407670",
     "status": "completed"
    },
    "tags": []
   },
   "outputs": [],
   "source": [
    "train_df=pd.read_csv('/kaggle/input/playground-series-s5e10/train.csv')\n",
    "test_df=pd.read_csv('/kaggle/input/playground-series-s5e10/test.csv')"
   ]
  },
  {
   "cell_type": "code",
   "execution_count": 4,
   "id": "b87cb84a",
   "metadata": {
    "execution": {
     "iopub.execute_input": "2025-10-22T22:19:52.254283Z",
     "iopub.status.busy": "2025-10-22T22:19:52.254078Z",
     "iopub.status.idle": "2025-10-22T22:19:52.260700Z",
     "shell.execute_reply": "2025-10-22T22:19:52.260157Z"
    },
    "papermill": {
     "duration": 0.01066,
     "end_time": "2025-10-22T22:19:52.261816",
     "exception": false,
     "start_time": "2025-10-22T22:19:52.251156",
     "status": "completed"
    },
    "tags": []
   },
   "outputs": [],
   "source": [
    "def preprocess(df):\n",
    "\n",
    "\n",
    "    \n",
    "\n",
    "    \n",
    "    def bool_to_int(df):\n",
    "        bool_cols = df.select_dtypes(include='bool').columns\n",
    "        df[bool_cols] = df[bool_cols].astype(int)\n",
    "        return df\n",
    "\n",
    "\n",
    "    def handle_road_type(x):\n",
    "        if x == 'rural':\n",
    "            return 0\n",
    "        elif x == 'urban':\n",
    "            return 1\n",
    "        elif x == 'highway':\n",
    "            return 2\n",
    "        else:\n",
    "            return -1\n",
    "\n",
    "\n",
    "    def handle_lighting(x):\n",
    "        if x== 'night':\n",
    "            return 0\n",
    "        elif x=='dim':\n",
    "            return 1\n",
    "        elif x=='daylight':\n",
    "            return 2\n",
    "        else: return -1\n",
    "\n",
    "    def handle_time_of_day(x):\n",
    "        if x=='morning':\n",
    "            return 0\n",
    "        elif x=='afternoon':\n",
    "            return 1\n",
    "        elif x=='evening':\n",
    "            return 2\n",
    "    \n",
    "        else: return -1\n",
    "\n",
    "    def handle_weather(df):\n",
    "        id_col=df['id']\n",
    "        dums=pd.get_dummies(df['weather'],dummy_na=False)\n",
    "        remaining=df.drop(columns=['weather'])\n",
    "        df = pd.concat([id_col.reset_index(drop=True), remaining.reset_index(drop=True), dums.reset_index(drop=True)], axis=1)\n",
    "        return df\n",
    "    df['road_type']=df['road_type'].apply(handle_road_type)\n",
    "    df['time_of_day']=df['time_of_day'].apply(handle_time_of_day)\n",
    "    df['lighting']=df['lighting'].apply(handle_lighting)\n",
    "\n",
    "    df=handle_weather(df)\n",
    "\n",
    "    df=bool_to_int(df)\n",
    "\n",
    "\n",
    "    return df\n"
   ]
  },
  {
   "cell_type": "code",
   "execution_count": 5,
   "id": "99815cf1",
   "metadata": {
    "execution": {
     "iopub.execute_input": "2025-10-22T22:19:52.267275Z",
     "iopub.status.busy": "2025-10-22T22:19:52.266732Z",
     "iopub.status.idle": "2025-10-22T22:19:53.084462Z",
     "shell.execute_reply": "2025-10-22T22:19:53.083786Z"
    },
    "papermill": {
     "duration": 0.821928,
     "end_time": "2025-10-22T22:19:53.086006",
     "exception": false,
     "start_time": "2025-10-22T22:19:52.264078",
     "status": "completed"
    },
    "tags": []
   },
   "outputs": [],
   "source": [
    "train_df=preprocess(train_df)\n",
    "test_df=preprocess(test_df)"
   ]
  },
  {
   "cell_type": "code",
   "execution_count": 6,
   "id": "0b546fc8",
   "metadata": {
    "execution": {
     "iopub.execute_input": "2025-10-22T22:19:53.092774Z",
     "iopub.status.busy": "2025-10-22T22:19:53.092487Z",
     "iopub.status.idle": "2025-10-22T22:19:53.120151Z",
     "shell.execute_reply": "2025-10-22T22:19:53.119172Z"
    },
    "papermill": {
     "duration": 0.031951,
     "end_time": "2025-10-22T22:19:53.121337",
     "exception": false,
     "start_time": "2025-10-22T22:19:53.089386",
     "status": "completed"
    },
    "tags": []
   },
   "outputs": [
    {
     "name": "stdout",
     "output_type": "stream",
     "text": [
      "<class 'pandas.core.frame.DataFrame'>\n",
      "RangeIndex: 517754 entries, 0 to 517753\n",
      "Data columns (total 17 columns):\n",
      " #   Column                  Non-Null Count   Dtype  \n",
      "---  ------                  --------------   -----  \n",
      " 0   id                      517754 non-null  int64  \n",
      " 1   id                      517754 non-null  int64  \n",
      " 2   road_type               517754 non-null  int64  \n",
      " 3   num_lanes               517754 non-null  int64  \n",
      " 4   curvature               517754 non-null  float64\n",
      " 5   speed_limit             517754 non-null  int64  \n",
      " 6   lighting                517754 non-null  int64  \n",
      " 7   road_signs_present      517754 non-null  int64  \n",
      " 8   public_road             517754 non-null  int64  \n",
      " 9   time_of_day             517754 non-null  int64  \n",
      " 10  holiday                 517754 non-null  int64  \n",
      " 11  school_season           517754 non-null  int64  \n",
      " 12  num_reported_accidents  517754 non-null  int64  \n",
      " 13  accident_risk           517754 non-null  float64\n",
      " 14  clear                   517754 non-null  int64  \n",
      " 15  foggy                   517754 non-null  int64  \n",
      " 16  rainy                   517754 non-null  int64  \n",
      "dtypes: float64(2), int64(15)\n",
      "memory usage: 67.2 MB\n"
     ]
    }
   ],
   "source": [
    "train_df.info()"
   ]
  },
  {
   "cell_type": "code",
   "execution_count": 7,
   "id": "2dc727cc",
   "metadata": {
    "execution": {
     "iopub.execute_input": "2025-10-22T22:19:53.127027Z",
     "iopub.status.busy": "2025-10-22T22:19:53.126645Z",
     "iopub.status.idle": "2025-10-22T22:19:53.132164Z",
     "shell.execute_reply": "2025-10-22T22:19:53.131473Z"
    },
    "papermill": {
     "duration": 0.009499,
     "end_time": "2025-10-22T22:19:53.133296",
     "exception": false,
     "start_time": "2025-10-22T22:19:53.123797",
     "status": "completed"
    },
    "tags": []
   },
   "outputs": [
    {
     "data": {
      "text/plain": [
       "['road_type',\n",
       " 'num_lanes',\n",
       " 'curvature',\n",
       " 'speed_limit',\n",
       " 'lighting',\n",
       " 'road_signs_present',\n",
       " 'public_road',\n",
       " 'time_of_day',\n",
       " 'holiday',\n",
       " 'school_season',\n",
       " 'num_reported_accidents',\n",
       " 'clear',\n",
       " 'foggy',\n",
       " 'rainy']"
      ]
     },
     "execution_count": 7,
     "metadata": {},
     "output_type": "execute_result"
    }
   ],
   "source": [
    "input_features=list(train_df.columns)\n",
    "input_features.remove('id')\n",
    "input_features.remove('id')\n",
    "\n",
    "input_features.remove('accident_risk')\n",
    "input_features"
   ]
  },
  {
   "cell_type": "code",
   "execution_count": 8,
   "id": "e37425f0",
   "metadata": {
    "execution": {
     "iopub.execute_input": "2025-10-22T22:19:53.138791Z",
     "iopub.status.busy": "2025-10-22T22:19:53.138577Z",
     "iopub.status.idle": "2025-10-22T22:20:08.264729Z",
     "shell.execute_reply": "2025-10-22T22:20:08.264091Z"
    },
    "papermill": {
     "duration": 15.130425,
     "end_time": "2025-10-22T22:20:08.266132",
     "exception": false,
     "start_time": "2025-10-22T22:19:53.135707",
     "status": "completed"
    },
    "tags": []
   },
   "outputs": [
    {
     "name": "stderr",
     "output_type": "stream",
     "text": [
      "2025-10-22 22:19:55.154055: E external/local_xla/xla/stream_executor/cuda/cuda_fft.cc:477] Unable to register cuFFT factory: Attempting to register factory for plugin cuFFT when one has already been registered\n",
      "WARNING: All log messages before absl::InitializeLog() is called are written to STDERR\n",
      "E0000 00:00:1761171595.416382      19 cuda_dnn.cc:8310] Unable to register cuDNN factory: Attempting to register factory for plugin cuDNN when one has already been registered\n",
      "E0000 00:00:1761171595.486378      19 cuda_blas.cc:1418] Unable to register cuBLAS factory: Attempting to register factory for plugin cuBLAS when one has already been registered\n"
     ]
    }
   ],
   "source": [
    "import tensorflow as tf\n",
    "import keras\n",
    "from sklearn.model_selection import train_test_split"
   ]
  },
  {
   "cell_type": "code",
   "execution_count": 9,
   "id": "fd116f13",
   "metadata": {
    "execution": {
     "iopub.execute_input": "2025-10-22T22:20:08.272813Z",
     "iopub.status.busy": "2025-10-22T22:20:08.272195Z",
     "iopub.status.idle": "2025-10-22T22:20:10.713531Z",
     "shell.execute_reply": "2025-10-22T22:20:10.712562Z"
    },
    "papermill": {
     "duration": 2.446035,
     "end_time": "2025-10-22T22:20:10.715043",
     "exception": false,
     "start_time": "2025-10-22T22:20:08.269008",
     "status": "completed"
    },
    "tags": []
   },
   "outputs": [
    {
     "name": "stderr",
     "output_type": "stream",
     "text": [
      "I0000 00:00:1761171609.397428      19 gpu_device.cc:2022] Created device /job:localhost/replica:0/task:0/device:GPU:0 with 13942 MB memory:  -> device: 0, name: Tesla T4, pci bus id: 0000:00:04.0, compute capability: 7.5\n",
      "I0000 00:00:1761171609.398144      19 gpu_device.cc:2022] Created device /job:localhost/replica:0/task:0/device:GPU:1 with 13942 MB memory:  -> device: 1, name: Tesla T4, pci bus id: 0000:00:05.0, compute capability: 7.5\n"
     ]
    }
   ],
   "source": [
    "# Define the model\n",
    "model = tf.keras.Sequential([\n",
    "    tf.keras.layers.Input(shape=(len(input_features),)),\n",
    "    tf.keras.layers.Dense(128, activation='elu'),\n",
    "    tf.keras.layers.Dense(64, activation='elu'),\n",
    "    tf.keras.layers.Dense(32, activation='elu'),\n",
    "    tf.keras.layers.Dense(1, activation='elu')\n",
    "])\n"
   ]
  },
  {
   "cell_type": "code",
   "execution_count": 10,
   "id": "5c9423bb",
   "metadata": {
    "execution": {
     "iopub.execute_input": "2025-10-22T22:20:10.721523Z",
     "iopub.status.busy": "2025-10-22T22:20:10.721305Z",
     "iopub.status.idle": "2025-10-22T22:20:10.732616Z",
     "shell.execute_reply": "2025-10-22T22:20:10.732118Z"
    },
    "papermill": {
     "duration": 0.015613,
     "end_time": "2025-10-22T22:20:10.733581",
     "exception": false,
     "start_time": "2025-10-22T22:20:10.717968",
     "status": "completed"
    },
    "tags": []
   },
   "outputs": [],
   "source": [
    "# Compile the model\n",
    "model.compile(optimizer='ADAM', \n",
    "              loss = tf.keras.losses.MeanAbsoluteError,\n",
    "              metrics=['RootMeanSquaredError'])"
   ]
  },
  {
   "cell_type": "code",
   "execution_count": 11,
   "id": "e37a6aa8",
   "metadata": {
    "execution": {
     "iopub.execute_input": "2025-10-22T22:20:10.739510Z",
     "iopub.status.busy": "2025-10-22T22:20:10.739310Z",
     "iopub.status.idle": "2025-10-22T22:20:10.831481Z",
     "shell.execute_reply": "2025-10-22T22:20:10.830864Z"
    },
    "papermill": {
     "duration": 0.096556,
     "end_time": "2025-10-22T22:20:10.832754",
     "exception": false,
     "start_time": "2025-10-22T22:20:10.736198",
     "status": "completed"
    },
    "tags": []
   },
   "outputs": [],
   "source": [
    "X_train = train_df[input_features].values\n",
    "y_train = train_df['accident_risk']#.astype(int).values\n",
    "\n",
    "X_test=test_df[input_features].values\n"
   ]
  },
  {
   "cell_type": "code",
   "execution_count": 12,
   "id": "24f0c0c5",
   "metadata": {
    "execution": {
     "iopub.execute_input": "2025-10-22T22:20:10.839417Z",
     "iopub.status.busy": "2025-10-22T22:20:10.838934Z",
     "iopub.status.idle": "2025-10-22T22:46:53.849594Z",
     "shell.execute_reply": "2025-10-22T22:46:53.848771Z"
    },
    "papermill": {
     "duration": 1604.205713,
     "end_time": "2025-10-22T22:46:55.041312",
     "exception": false,
     "start_time": "2025-10-22T22:20:10.835599",
     "status": "completed"
    },
    "tags": []
   },
   "outputs": [
    {
     "name": "stdout",
     "output_type": "stream",
     "text": [
      "Epoch 1/50\n"
     ]
    },
    {
     "name": "stderr",
     "output_type": "stream",
     "text": [
      "WARNING: All log messages before absl::InitializeLog() is called are written to STDERR\n",
      "I0000 00:00:1761171612.655866      63 service.cc:148] XLA service 0x7b733000b550 initialized for platform CUDA (this does not guarantee that XLA will be used). Devices:\n",
      "I0000 00:00:1761171612.656739      63 service.cc:156]   StreamExecutor device (0): Tesla T4, Compute Capability 7.5\n",
      "I0000 00:00:1761171612.656758      63 service.cc:156]   StreamExecutor device (1): Tesla T4, Compute Capability 7.5\n",
      "I0000 00:00:1761171612.885466      63 cuda_dnn.cc:529] Loaded cuDNN version 90300\n"
     ]
    },
    {
     "name": "stdout",
     "output_type": "stream",
     "text": [
      "\u001b[1m   64/12944\u001b[0m \u001b[37m━━━━━━━━━━━━━━━━━━━━\u001b[0m \u001b[1m31s\u001b[0m 2ms/step - RootMeanSquaredError: 0.7572 - loss: 0.6120"
     ]
    },
    {
     "name": "stderr",
     "output_type": "stream",
     "text": [
      "I0000 00:00:1761171613.767113      63 device_compiler.h:188] Compiled cluster using XLA!  This line is logged at most once for the lifetime of the process.\n"
     ]
    },
    {
     "name": "stdout",
     "output_type": "stream",
     "text": [
      "\u001b[1m12944/12944\u001b[0m \u001b[32m━━━━━━━━━━━━━━━━━━━━\u001b[0m\u001b[37m\u001b[0m \u001b[1m36s\u001b[0m 3ms/step - RootMeanSquaredError: 0.1210 - loss: 0.0841 - val_RootMeanSquaredError: 0.0661 - val_loss: 0.0521\n",
      "Epoch 2/50\n",
      "\u001b[1m12944/12944\u001b[0m \u001b[32m━━━━━━━━━━━━━━━━━━━━\u001b[0m\u001b[37m\u001b[0m \u001b[1m32s\u001b[0m 2ms/step - RootMeanSquaredError: 0.0651 - loss: 0.0506 - val_RootMeanSquaredError: 0.0595 - val_loss: 0.0465\n",
      "Epoch 3/50\n",
      "\u001b[1m12944/12944\u001b[0m \u001b[32m━━━━━━━━━━━━━━━━━━━━\u001b[0m\u001b[37m\u001b[0m \u001b[1m32s\u001b[0m 2ms/step - RootMeanSquaredError: 0.0605 - loss: 0.0470 - val_RootMeanSquaredError: 0.0619 - val_loss: 0.0481\n",
      "Epoch 4/50\n",
      "\u001b[1m12944/12944\u001b[0m \u001b[32m━━━━━━━━━━━━━━━━━━━━\u001b[0m\u001b[37m\u001b[0m \u001b[1m32s\u001b[0m 2ms/step - RootMeanSquaredError: 0.0599 - loss: 0.0465 - val_RootMeanSquaredError: 0.0623 - val_loss: 0.0488\n",
      "Epoch 5/50\n",
      "\u001b[1m12944/12944\u001b[0m \u001b[32m━━━━━━━━━━━━━━━━━━━━\u001b[0m\u001b[37m\u001b[0m \u001b[1m32s\u001b[0m 2ms/step - RootMeanSquaredError: 0.0594 - loss: 0.0462 - val_RootMeanSquaredError: 0.0575 - val_loss: 0.0447\n",
      "Epoch 6/50\n",
      "\u001b[1m12944/12944\u001b[0m \u001b[32m━━━━━━━━━━━━━━━━━━━━\u001b[0m\u001b[37m\u001b[0m \u001b[1m32s\u001b[0m 2ms/step - RootMeanSquaredError: 0.0593 - loss: 0.0460 - val_RootMeanSquaredError: 0.0598 - val_loss: 0.0468\n",
      "Epoch 7/50\n",
      "\u001b[1m12944/12944\u001b[0m \u001b[32m━━━━━━━━━━━━━━━━━━━━\u001b[0m\u001b[37m\u001b[0m \u001b[1m32s\u001b[0m 3ms/step - RootMeanSquaredError: 0.0591 - loss: 0.0459 - val_RootMeanSquaredError: 0.0576 - val_loss: 0.0448\n",
      "Epoch 8/50\n",
      "\u001b[1m12944/12944\u001b[0m \u001b[32m━━━━━━━━━━━━━━━━━━━━\u001b[0m\u001b[37m\u001b[0m \u001b[1m32s\u001b[0m 2ms/step - RootMeanSquaredError: 0.0588 - loss: 0.0457 - val_RootMeanSquaredError: 0.0591 - val_loss: 0.0460\n",
      "Epoch 9/50\n",
      "\u001b[1m12944/12944\u001b[0m \u001b[32m━━━━━━━━━━━━━━━━━━━━\u001b[0m\u001b[37m\u001b[0m \u001b[1m32s\u001b[0m 2ms/step - RootMeanSquaredError: 0.0590 - loss: 0.0458 - val_RootMeanSquaredError: 0.0648 - val_loss: 0.0504\n",
      "Epoch 10/50\n",
      "\u001b[1m12944/12944\u001b[0m \u001b[32m━━━━━━━━━━━━━━━━━━━━\u001b[0m\u001b[37m\u001b[0m \u001b[1m32s\u001b[0m 2ms/step - RootMeanSquaredError: 0.0590 - loss: 0.0458 - val_RootMeanSquaredError: 0.0573 - val_loss: 0.0444\n",
      "Epoch 11/50\n",
      "\u001b[1m12944/12944\u001b[0m \u001b[32m━━━━━━━━━━━━━━━━━━━━\u001b[0m\u001b[37m\u001b[0m \u001b[1m32s\u001b[0m 2ms/step - RootMeanSquaredError: 0.0588 - loss: 0.0456 - val_RootMeanSquaredError: 0.0585 - val_loss: 0.0456\n",
      "Epoch 12/50\n",
      "\u001b[1m12944/12944\u001b[0m \u001b[32m━━━━━━━━━━━━━━━━━━━━\u001b[0m\u001b[37m\u001b[0m \u001b[1m32s\u001b[0m 2ms/step - RootMeanSquaredError: 0.0587 - loss: 0.0456 - val_RootMeanSquaredError: 0.0581 - val_loss: 0.0449\n",
      "Epoch 13/50\n",
      "\u001b[1m12944/12944\u001b[0m \u001b[32m━━━━━━━━━━━━━━━━━━━━\u001b[0m\u001b[37m\u001b[0m \u001b[1m32s\u001b[0m 2ms/step - RootMeanSquaredError: 0.0589 - loss: 0.0456 - val_RootMeanSquaredError: 0.0583 - val_loss: 0.0454\n",
      "Epoch 14/50\n",
      "\u001b[1m12944/12944\u001b[0m \u001b[32m━━━━━━━━━━━━━━━━━━━━\u001b[0m\u001b[37m\u001b[0m \u001b[1m32s\u001b[0m 2ms/step - RootMeanSquaredError: 0.0589 - loss: 0.0457 - val_RootMeanSquaredError: 0.0575 - val_loss: 0.0447\n",
      "Epoch 15/50\n",
      "\u001b[1m12944/12944\u001b[0m \u001b[32m━━━━━━━━━━━━━━━━━━━━\u001b[0m\u001b[37m\u001b[0m \u001b[1m32s\u001b[0m 2ms/step - RootMeanSquaredError: 0.0587 - loss: 0.0455 - val_RootMeanSquaredError: 0.0584 - val_loss: 0.0454\n",
      "Epoch 16/50\n",
      "\u001b[1m12944/12944\u001b[0m \u001b[32m━━━━━━━━━━━━━━━━━━━━\u001b[0m\u001b[37m\u001b[0m \u001b[1m32s\u001b[0m 2ms/step - RootMeanSquaredError: 0.0590 - loss: 0.0456 - val_RootMeanSquaredError: 0.0615 - val_loss: 0.0484\n",
      "Epoch 17/50\n",
      "\u001b[1m12944/12944\u001b[0m \u001b[32m━━━━━━━━━━━━━━━━━━━━\u001b[0m\u001b[37m\u001b[0m \u001b[1m33s\u001b[0m 3ms/step - RootMeanSquaredError: 0.0588 - loss: 0.0456 - val_RootMeanSquaredError: 0.0576 - val_loss: 0.0447\n",
      "Epoch 18/50\n",
      "\u001b[1m12944/12944\u001b[0m \u001b[32m━━━━━━━━━━━━━━━━━━━━\u001b[0m\u001b[37m\u001b[0m \u001b[1m32s\u001b[0m 2ms/step - RootMeanSquaredError: 0.0587 - loss: 0.0456 - val_RootMeanSquaredError: 0.0587 - val_loss: 0.0459\n",
      "Epoch 19/50\n",
      "\u001b[1m12944/12944\u001b[0m \u001b[32m━━━━━━━━━━━━━━━━━━━━\u001b[0m\u001b[37m\u001b[0m \u001b[1m32s\u001b[0m 2ms/step - RootMeanSquaredError: 0.0588 - loss: 0.0455 - val_RootMeanSquaredError: 0.0582 - val_loss: 0.0454\n",
      "Epoch 20/50\n",
      "\u001b[1m12944/12944\u001b[0m \u001b[32m━━━━━━━━━━━━━━━━━━━━\u001b[0m\u001b[37m\u001b[0m \u001b[1m32s\u001b[0m 2ms/step - RootMeanSquaredError: 0.0591 - loss: 0.0455 - val_RootMeanSquaredError: 0.0583 - val_loss: 0.0456\n",
      "Epoch 21/50\n",
      "\u001b[1m12944/12944\u001b[0m \u001b[32m━━━━━━━━━━━━━━━━━━━━\u001b[0m\u001b[37m\u001b[0m \u001b[1m32s\u001b[0m 2ms/step - RootMeanSquaredError: 0.0590 - loss: 0.0457 - val_RootMeanSquaredError: 0.0571 - val_loss: 0.0443\n",
      "Epoch 22/50\n",
      "\u001b[1m12944/12944\u001b[0m \u001b[32m━━━━━━━━━━━━━━━━━━━━\u001b[0m\u001b[37m\u001b[0m \u001b[1m32s\u001b[0m 2ms/step - RootMeanSquaredError: 0.0587 - loss: 0.0455 - val_RootMeanSquaredError: 0.0570 - val_loss: 0.0443\n",
      "Epoch 23/50\n",
      "\u001b[1m12944/12944\u001b[0m \u001b[32m━━━━━━━━━━━━━━━━━━━━\u001b[0m\u001b[37m\u001b[0m \u001b[1m32s\u001b[0m 2ms/step - RootMeanSquaredError: 0.0585 - loss: 0.0453 - val_RootMeanSquaredError: 0.0574 - val_loss: 0.0445\n",
      "Epoch 24/50\n",
      "\u001b[1m12944/12944\u001b[0m \u001b[32m━━━━━━━━━━━━━━━━━━━━\u001b[0m\u001b[37m\u001b[0m \u001b[1m32s\u001b[0m 2ms/step - RootMeanSquaredError: 0.0586 - loss: 0.0455 - val_RootMeanSquaredError: 0.0570 - val_loss: 0.0442\n",
      "Epoch 25/50\n",
      "\u001b[1m12944/12944\u001b[0m \u001b[32m━━━━━━━━━━━━━━━━━━━━\u001b[0m\u001b[37m\u001b[0m \u001b[1m32s\u001b[0m 2ms/step - RootMeanSquaredError: 0.0585 - loss: 0.0454 - val_RootMeanSquaredError: 0.0582 - val_loss: 0.0454\n",
      "Epoch 26/50\n",
      "\u001b[1m12944/12944\u001b[0m \u001b[32m━━━━━━━━━━━━━━━━━━━━\u001b[0m\u001b[37m\u001b[0m \u001b[1m32s\u001b[0m 2ms/step - RootMeanSquaredError: 0.0588 - loss: 0.0455 - val_RootMeanSquaredError: 0.0586 - val_loss: 0.0456\n",
      "Epoch 27/50\n",
      "\u001b[1m12944/12944\u001b[0m \u001b[32m━━━━━━━━━━━━━━━━━━━━\u001b[0m\u001b[37m\u001b[0m \u001b[1m32s\u001b[0m 2ms/step - RootMeanSquaredError: 0.0585 - loss: 0.0454 - val_RootMeanSquaredError: 0.0583 - val_loss: 0.0455\n",
      "Epoch 28/50\n",
      "\u001b[1m12944/12944\u001b[0m \u001b[32m━━━━━━━━━━━━━━━━━━━━\u001b[0m\u001b[37m\u001b[0m \u001b[1m32s\u001b[0m 2ms/step - RootMeanSquaredError: 0.0587 - loss: 0.0454 - val_RootMeanSquaredError: 0.0587 - val_loss: 0.0457\n",
      "Epoch 29/50\n",
      "\u001b[1m12944/12944\u001b[0m \u001b[32m━━━━━━━━━━━━━━━━━━━━\u001b[0m\u001b[37m\u001b[0m \u001b[1m32s\u001b[0m 2ms/step - RootMeanSquaredError: 0.0588 - loss: 0.0455 - val_RootMeanSquaredError: 0.0594 - val_loss: 0.0459\n",
      "Epoch 30/50\n",
      "\u001b[1m12944/12944\u001b[0m \u001b[32m━━━━━━━━━━━━━━━━━━━━\u001b[0m\u001b[37m\u001b[0m \u001b[1m32s\u001b[0m 2ms/step - RootMeanSquaredError: 0.0587 - loss: 0.0455 - val_RootMeanSquaredError: 0.0571 - val_loss: 0.0443\n",
      "Epoch 31/50\n",
      "\u001b[1m12944/12944\u001b[0m \u001b[32m━━━━━━━━━━━━━━━━━━━━\u001b[0m\u001b[37m\u001b[0m \u001b[1m32s\u001b[0m 2ms/step - RootMeanSquaredError: 0.0586 - loss: 0.0454 - val_RootMeanSquaredError: 0.0574 - val_loss: 0.0447\n",
      "Epoch 32/50\n",
      "\u001b[1m12944/12944\u001b[0m \u001b[32m━━━━━━━━━━━━━━━━━━━━\u001b[0m\u001b[37m\u001b[0m \u001b[1m32s\u001b[0m 2ms/step - RootMeanSquaredError: 0.0586 - loss: 0.0454 - val_RootMeanSquaredError: 0.0582 - val_loss: 0.0455\n",
      "Epoch 33/50\n",
      "\u001b[1m12944/12944\u001b[0m \u001b[32m━━━━━━━━━━━━━━━━━━━━\u001b[0m\u001b[37m\u001b[0m \u001b[1m32s\u001b[0m 2ms/step - RootMeanSquaredError: 0.0586 - loss: 0.0454 - val_RootMeanSquaredError: 0.0575 - val_loss: 0.0446\n",
      "Epoch 34/50\n",
      "\u001b[1m12944/12944\u001b[0m \u001b[32m━━━━━━━━━━━━━━━━━━━━\u001b[0m\u001b[37m\u001b[0m \u001b[1m32s\u001b[0m 2ms/step - RootMeanSquaredError: 0.0585 - loss: 0.0454 - val_RootMeanSquaredError: 0.0601 - val_loss: 0.0470\n",
      "Epoch 35/50\n",
      "\u001b[1m12944/12944\u001b[0m \u001b[32m━━━━━━━━━━━━━━━━━━━━\u001b[0m\u001b[37m\u001b[0m \u001b[1m32s\u001b[0m 2ms/step - RootMeanSquaredError: 0.0586 - loss: 0.0454 - val_RootMeanSquaredError: 0.0604 - val_loss: 0.0472\n",
      "Epoch 36/50\n",
      "\u001b[1m12944/12944\u001b[0m \u001b[32m━━━━━━━━━━━━━━━━━━━━\u001b[0m\u001b[37m\u001b[0m \u001b[1m33s\u001b[0m 3ms/step - RootMeanSquaredError: 0.0586 - loss: 0.0454 - val_RootMeanSquaredError: 0.0573 - val_loss: 0.0448\n",
      "Epoch 37/50\n",
      "\u001b[1m12944/12944\u001b[0m \u001b[32m━━━━━━━━━━━━━━━━━━━━\u001b[0m\u001b[37m\u001b[0m \u001b[1m32s\u001b[0m 2ms/step - RootMeanSquaredError: 0.0584 - loss: 0.0453 - val_RootMeanSquaredError: 0.0582 - val_loss: 0.0451\n",
      "Epoch 38/50\n",
      "\u001b[1m12944/12944\u001b[0m \u001b[32m━━━━━━━━━━━━━━━━━━━━\u001b[0m\u001b[37m\u001b[0m \u001b[1m32s\u001b[0m 2ms/step - RootMeanSquaredError: 0.0585 - loss: 0.0454 - val_RootMeanSquaredError: 0.0575 - val_loss: 0.0449\n",
      "Epoch 39/50\n",
      "\u001b[1m12944/12944\u001b[0m \u001b[32m━━━━━━━━━━━━━━━━━━━━\u001b[0m\u001b[37m\u001b[0m \u001b[1m32s\u001b[0m 2ms/step - RootMeanSquaredError: 0.0585 - loss: 0.0453 - val_RootMeanSquaredError: 0.0592 - val_loss: 0.0461\n",
      "Epoch 40/50\n",
      "\u001b[1m12944/12944\u001b[0m \u001b[32m━━━━━━━━━━━━━━━━━━━━\u001b[0m\u001b[37m\u001b[0m \u001b[1m32s\u001b[0m 2ms/step - RootMeanSquaredError: 0.0584 - loss: 0.0452 - val_RootMeanSquaredError: 0.0593 - val_loss: 0.0459\n",
      "Epoch 41/50\n",
      "\u001b[1m12944/12944\u001b[0m \u001b[32m━━━━━━━━━━━━━━━━━━━━\u001b[0m\u001b[37m\u001b[0m \u001b[1m32s\u001b[0m 2ms/step - RootMeanSquaredError: 0.0585 - loss: 0.0453 - val_RootMeanSquaredError: 0.0624 - val_loss: 0.0486\n",
      "Epoch 42/50\n",
      "\u001b[1m12944/12944\u001b[0m \u001b[32m━━━━━━━━━━━━━━━━━━━━\u001b[0m\u001b[37m\u001b[0m \u001b[1m32s\u001b[0m 2ms/step - RootMeanSquaredError: 0.0586 - loss: 0.0454 - val_RootMeanSquaredError: 0.0588 - val_loss: 0.0457\n",
      "Epoch 43/50\n",
      "\u001b[1m12944/12944\u001b[0m \u001b[32m━━━━━━━━━━━━━━━━━━━━\u001b[0m\u001b[37m\u001b[0m \u001b[1m32s\u001b[0m 2ms/step - RootMeanSquaredError: 0.0583 - loss: 0.0452 - val_RootMeanSquaredError: 0.0588 - val_loss: 0.0460\n",
      "Epoch 44/50\n",
      "\u001b[1m12944/12944\u001b[0m \u001b[32m━━━━━━━━━━━━━━━━━━━━\u001b[0m\u001b[37m\u001b[0m \u001b[1m32s\u001b[0m 2ms/step - RootMeanSquaredError: 0.0584 - loss: 0.0453 - val_RootMeanSquaredError: 0.0609 - val_loss: 0.0481\n",
      "Epoch 45/50\n",
      "\u001b[1m12944/12944\u001b[0m \u001b[32m━━━━━━━━━━━━━━━━━━━━\u001b[0m\u001b[37m\u001b[0m \u001b[1m32s\u001b[0m 2ms/step - RootMeanSquaredError: 0.0587 - loss: 0.0453 - val_RootMeanSquaredError: 0.0579 - val_loss: 0.0449\n",
      "Epoch 46/50\n",
      "\u001b[1m12944/12944\u001b[0m \u001b[32m━━━━━━━━━━━━━━━━━━━━\u001b[0m\u001b[37m\u001b[0m \u001b[1m33s\u001b[0m 3ms/step - RootMeanSquaredError: 0.0583 - loss: 0.0453 - val_RootMeanSquaredError: 0.0581 - val_loss: 0.0452\n",
      "Epoch 47/50\n",
      "\u001b[1m12944/12944\u001b[0m \u001b[32m━━━━━━━━━━━━━━━━━━━━\u001b[0m\u001b[37m\u001b[0m \u001b[1m32s\u001b[0m 2ms/step - RootMeanSquaredError: 0.0585 - loss: 0.0453 - val_RootMeanSquaredError: 0.0588 - val_loss: 0.0459\n",
      "Epoch 48/50\n",
      "\u001b[1m12944/12944\u001b[0m \u001b[32m━━━━━━━━━━━━━━━━━━━━\u001b[0m\u001b[37m\u001b[0m \u001b[1m32s\u001b[0m 2ms/step - RootMeanSquaredError: 0.0584 - loss: 0.0453 - val_RootMeanSquaredError: 0.0571 - val_loss: 0.0443\n",
      "Epoch 49/50\n",
      "\u001b[1m12944/12944\u001b[0m \u001b[32m━━━━━━━━━━━━━━━━━━━━\u001b[0m\u001b[37m\u001b[0m \u001b[1m32s\u001b[0m 2ms/step - RootMeanSquaredError: 0.0584 - loss: 0.0452 - val_RootMeanSquaredError: 0.0567 - val_loss: 0.0440\n",
      "Epoch 50/50\n",
      "\u001b[1m12944/12944\u001b[0m \u001b[32m━━━━━━━━━━━━━━━━━━━━\u001b[0m\u001b[37m\u001b[0m \u001b[1m32s\u001b[0m 2ms/step - RootMeanSquaredError: 0.0586 - loss: 0.0454 - val_RootMeanSquaredError: 0.0584 - val_loss: 0.0457\n"
     ]
    },
    {
     "data": {
      "text/plain": [
       "<keras.src.callbacks.history.History at 0x7b7464485590>"
      ]
     },
     "execution_count": 12,
     "metadata": {},
     "output_type": "execute_result"
    }
   ],
   "source": [
    "model.fit(tf.expand_dims(X_train, axis=-1),y_train,epochs=50,batch_size=32,validation_split=0.2)"
   ]
  },
  {
   "cell_type": "code",
   "execution_count": 13,
   "id": "99b743eb",
   "metadata": {
    "execution": {
     "iopub.execute_input": "2025-10-22T22:46:57.299929Z",
     "iopub.status.busy": "2025-10-22T22:46:57.299106Z",
     "iopub.status.idle": "2025-10-22T22:46:57.326078Z",
     "shell.execute_reply": "2025-10-22T22:46:57.325275Z"
    },
    "papermill": {
     "duration": 1.199209,
     "end_time": "2025-10-22T22:46:57.327455",
     "exception": false,
     "start_time": "2025-10-22T22:46:56.128246",
     "status": "completed"
    },
    "tags": []
   },
   "outputs": [],
   "source": [
    "test_df = test_df.loc[:,~test_df.columns.duplicated()].copy()"
   ]
  },
  {
   "cell_type": "code",
   "execution_count": 14,
   "id": "8861ce64",
   "metadata": {
    "execution": {
     "iopub.execute_input": "2025-10-22T22:46:59.599274Z",
     "iopub.status.busy": "2025-10-22T22:46:59.598992Z",
     "iopub.status.idle": "2025-10-22T22:47:09.804845Z",
     "shell.execute_reply": "2025-10-22T22:47:09.804060Z"
    },
    "papermill": {
     "duration": 11.304717,
     "end_time": "2025-10-22T22:47:09.806424",
     "exception": false,
     "start_time": "2025-10-22T22:46:58.501707",
     "status": "completed"
    },
    "tags": []
   },
   "outputs": [
    {
     "name": "stdout",
     "output_type": "stream",
     "text": [
      "Submission exported to /kaggle/working/submission.csv\n",
      "id,accident_risk\r\n",
      "517754,0.29356077\r\n",
      "517755,0.094699025\r\n",
      "517756,0.16730095\r\n",
      "517757,0.29727083\r\n",
      "517758,0.3644114\r\n",
      "517759,0.4373811\r\n",
      "517760,0.23951736\r\n",
      "517761,0.18506686\r\n",
      "517762,0.35597134\r\n"
     ]
    }
   ],
   "source": [
    "def prediction_to_kaggle_format(model, test_df):\n",
    "    # Prepare features for predictions using the same input features as used in training\n",
    "    # X_test = test_df[input_features].values  # Ensure input features are consistent\n",
    "    risk = model.predict(X_test, verbose=0)  # Predict probabilities\n",
    "    \n",
    "    # Check the shape of proba_survive\n",
    "    if risk.ndim > 1:\n",
    "        risk = risk[:, 0]  # Flatten if necessary\n",
    "    \n",
    "    # Create the DataFrame for submission\n",
    "    return pd.DataFrame({\n",
    "        \"id\": test_df[\"id\"].values,  # Ensure this is a 1D array\n",
    "        \"accident_risk\": risk  # Convert boolean to string\n",
    "    })\n",
    "\n",
    "def make_submission(kaggle_predictions):\n",
    "    path = \"/kaggle/working/submission.csv\"\n",
    "    kaggle_predictions.to_csv(path, index=False)\n",
    "    print(f\"Submission exported to {path}\")\n",
    "\n",
    "# Generate predictions and make the submission\n",
    "kaggle_predictions = prediction_to_kaggle_format(model, test_df)  # Use preprocessed test_df\n",
    "make_submission(kaggle_predictions)\n",
    "\n",
    "# Optional: Check the first few lines of the submission\n",
    "!head /kaggle/working/submission.csv\n"
   ]
  },
  {
   "cell_type": "code",
   "execution_count": null,
   "id": "188c6ad6",
   "metadata": {
    "papermill": {
     "duration": 1.067141,
     "end_time": "2025-10-22T22:47:12.034997",
     "exception": false,
     "start_time": "2025-10-22T22:47:10.967856",
     "status": "completed"
    },
    "tags": []
   },
   "outputs": [],
   "source": []
  }
 ],
 "metadata": {
  "kaggle": {
   "accelerator": "nvidiaTeslaT4",
   "dataSources": [
    {
     "databundleVersionId": 13760552,
     "sourceId": 91721,
     "sourceType": "competition"
    }
   ],
   "dockerImageVersionId": 31153,
   "isGpuEnabled": true,
   "isInternetEnabled": true,
   "language": "python",
   "sourceType": "notebook"
  },
  "kernelspec": {
   "display_name": "Python 3",
   "language": "python",
   "name": "python3"
  },
  "language_info": {
   "codemirror_mode": {
    "name": "ipython",
    "version": 3
   },
   "file_extension": ".py",
   "mimetype": "text/x-python",
   "name": "python",
   "nbconvert_exporter": "python",
   "pygments_lexer": "ipython3",
   "version": "3.11.13"
  },
  "papermill": {
   "default_parameters": {},
   "duration": 1651.274352,
   "end_time": "2025-10-22T22:47:16.298565",
   "environment_variables": {},
   "exception": null,
   "input_path": "__notebook__.ipynb",
   "output_path": "__notebook__.ipynb",
   "parameters": {},
   "start_time": "2025-10-22T22:19:45.024213",
   "version": "2.6.0"
  }
 },
 "nbformat": 4,
 "nbformat_minor": 5
}
